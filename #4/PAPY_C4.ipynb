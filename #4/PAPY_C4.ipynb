{
 "cells": [
  {
   "cell_type": "markdown",
   "id": "ca7e2789",
   "metadata": {
    "slideshow": {
     "slide_type": "skip"
    }
   },
   "source": [
    "```Ecole Centrale Nantes\n",
    "Option InfoIA\n",
    "PAPY: Programmation avancée python\n",
    "CM4\n",
    "Année 2022-2023\n",
    "Auteur: Lucas Lestandi\n",
    "lucas.lestandi@ec-nantes.fr\n",
    "V1.0\n",
    "```"
   ]
  },
  {
   "cell_type": "markdown",
   "id": "a96ef83c",
   "metadata": {
    "slideshow": {
     "slide_type": "slide"
    }
   },
   "source": [
    "# Chapitre 4: Du script au module\n",
    "\n",
    "> *Fini de jouer, on passe au sérieux!*"
   ]
  },
  {
   "cell_type": "markdown",
   "id": "35e0bda3",
   "metadata": {
    "slideshow": {
     "slide_type": "fragment"
    }
   },
   "source": [
    "Pour pouvoir déployer/partager nos codes, il faut aller au delà l'approche scripting. \n",
    "- tester et debugger\n",
    "- optimisation (algorithmique, interprétation, JIT, binding)\n",
    "- distribution and portabilité des paquets"
   ]
  },
  {
   "cell_type": "markdown",
   "id": "03bb15fd",
   "metadata": {
    "slideshow": {
     "slide_type": "slide"
    }
   },
   "source": [
    "##  Tester et débugger son code"
   ]
  },
  {
   "cell_type": "markdown",
   "id": "305af0f8",
   "metadata": {
    "slideshow": {
     "slide_type": "slide"
    }
   },
   "source": [
    "### Pourquoi tester son code"
   ]
  },
  {
   "cell_type": "markdown",
   "id": "d38e1ec9",
   "metadata": {
    "slideshow": {
     "slide_type": "fragment"
    }
   },
   "source": [
    "- pas de vérification explicite des types avant l'exécution en python\n",
    "    - le typage statique ne suffit pas\n",
    "- tout le soin du monde dans la conception ne suffit pas\n",
    "- coder c'est 10% de programmation et 90% de débug\n",
    "- **Bonus:** valorisation instantanée"
   ]
  },
  {
   "cell_type": "markdown",
   "id": "c9290ec1",
   "metadata": {
    "slideshow": {
     "slide_type": "fragment"
    }
   },
   "source": [
    "> **Objectif** : avoir en main les outils pour s'assurer du bon fonctionnement de programmes de petite taille.\n",
    "=> On va se focaliser sur le unittesting\n",
    "\n",
    "Pourquoi?\n",
    "- tout gros programme est fait de petit blocs que l'on peut tester individuellement.\n",
    "\n",
    "Pour aller plus loin (en général): \n",
    "- tests d'intégration, \n",
    "- test driven development, \n",
    "- cross-testing, \n",
    "- test de non-régression\n",
    "- ...\n",
    "\n",
    "Et pour python en particulier:\n",
    "- `logging\n",
    "`"
   ]
  },
  {
   "cell_type": "markdown",
   "id": "8f44e02b",
   "metadata": {
    "slideshow": {
     "slide_type": "slide"
    }
   },
   "source": [
    "### Tester son code"
   ]
  },
  {
   "cell_type": "markdown",
   "id": "0d16298c",
   "metadata": {
    "slideshow": {
     "slide_type": "subslide"
    }
   },
   "source": [
    "#### A la main"
   ]
  },
  {
   "cell_type": "markdown",
   "id": "a01230b5",
   "metadata": {
    "slideshow": {
     "slide_type": "fragment"
    }
   },
   "source": [
    "A minima, on va s'assurer à la main que notre code fait ce que l'on souhaite lors du développement.\n",
    "\n",
    "Dans l'esprit du test-driven development, on va:\n",
    "- écrire le \"prototype de la fonction\" avec ses arguments et son docstring (basique)\n",
    "- mettre en place un (ou des) cas simple dont on connait le résultat à l'avance et en vérifier le résultat.\n",
    "\n",
    "> A ce stade, on doit pouvoir lancer le script et tous les tests échouent.\n",
    "- On peut maintenant écrire le contenu de la fonction. \n",
    "> Si le code est correct, elle fonctionne\n",
    "\n",
    "- On passe à la question suivante mais on garde les tests en les plaçant dans une fonction `test_*` qui sera utile  à `pytest`."
   ]
  },
  {
   "cell_type": "markdown",
   "id": "46e6f8a6",
   "metadata": {
    "slideshow": {
     "slide_type": "subslide"
    }
   },
   "source": [
    "##### Et en pratique?"
   ]
  },
  {
   "cell_type": "markdown",
   "id": "594a2e28",
   "metadata": {
    "slideshow": {
     "slide_type": "fragment"
    }
   },
   "source": [
    "On va user et abuser de `assert`\n",
    "\n",
    "Si vous souhaitez en savoir plus sur assert:https://realpython.com/python-assert-statement/"
   ]
  },
  {
   "cell_type": "code",
   "execution_count": 10,
   "id": "ade52615",
   "metadata": {
    "slideshow": {
     "slide_type": "fragment"
    }
   },
   "outputs": [],
   "source": [
    "def inc(x):\n",
    "    return x + 1\n",
    "\n",
    "def test_answer():\n",
    "    assert inc(3) == 5"
   ]
  },
  {
   "cell_type": "code",
   "execution_count": 11,
   "id": "ea911704",
   "metadata": {
    "slideshow": {
     "slide_type": "fragment"
    }
   },
   "outputs": [
    {
     "ename": "AssertionError",
     "evalue": "",
     "output_type": "error",
     "traceback": [
      "\u001b[0;31m---------------------------------------------------------------------------\u001b[0m",
      "\u001b[0;31mAssertionError\u001b[0m                            Traceback (most recent call last)",
      "Cell \u001b[0;32mIn [11], line 1\u001b[0m\n\u001b[0;32m----> 1\u001b[0m test_answer()\n",
      "Cell \u001b[0;32mIn [10], line 5\u001b[0m, in \u001b[0;36mtest_answer\u001b[0;34m()\u001b[0m\n\u001b[1;32m      4\u001b[0m \u001b[39mdef\u001b[39;00m \u001b[39mtest_answer\u001b[39m():\n\u001b[0;32m----> 5\u001b[0m     \u001b[39massert\u001b[39;00m inc(\u001b[39m3\u001b[39m) \u001b[39m==\u001b[39m \u001b[39m5\u001b[39m\n",
      "\u001b[0;31mAssertionError\u001b[0m: "
     ]
    }
   ],
   "source": [
    "test_answer()"
   ]
  },
  {
   "cell_type": "code",
   "execution_count": null,
   "id": "43ff0eca",
   "metadata": {
    "slideshow": {
     "slide_type": "fragment"
    }
   },
   "outputs": [],
   "source": [
    "def test_answer():\n",
    "    assert inc(3) == 4\n",
    "test_answer()  # plus de message d'erreur"
   ]
  },
  {
   "cell_type": "markdown",
   "id": "e1977d72",
   "metadata": {
    "slideshow": {
     "slide_type": "fragment"
    }
   },
   "source": [
    "Pour un fichier python séparer, on placera le test dans le main:\n",
    "\n",
    "```python\n",
    "def inc(x):\n",
    "    return x + 1\n",
    "\n",
    "def test_answer():\n",
    "    assert inc(3) == 5\n",
    "    \n",
    "if __name__==\"__main__\":\n",
    "    test_answer()\n",
    "    print(\"passed answer\")\n",
    "```"
   ]
  },
  {
   "cell_type": "markdown",
   "id": "0dc91156",
   "metadata": {
    "slideshow": {
     "slide_type": "slide"
    }
   },
   "source": [
    "### Automatiser avec unittesting, pytest, etc."
   ]
  },
  {
   "cell_type": "markdown",
   "id": "078dbc9d",
   "metadata": {
    "slideshow": {
     "slide_type": "fragment"
    }
   },
   "source": [
    "On le voit bien, cette version complétement manuelle n'est pas envisageable pour un projet, même de taille raisonable."
   ]
  },
  {
   "cell_type": "markdown",
   "id": "dfc297c5",
   "metadata": {
    "slideshow": {
     "slide_type": "subslide"
    }
   },
   "source": [
    "#### `pytest` \n",
    "est un module python mais aussi un programme qui répond à ce problème. Si on l'exécute à la racine d'un projet, il va effectuer tous les tests et publier un rapport. "
   ]
  },
  {
   "cell_type": "markdown",
   "id": "c12366b6",
   "metadata": {
    "slideshow": {
     "slide_type": "fragment"
    }
   },
   "source": [
    "Par exemple, si on a un fichier `test_sample.py` qui contient le code python suivant\n",
    "```python\n",
    "def inc(x):\n",
    "    return x + 1\n",
    "\n",
    "\n",
    "def test_answer():\n",
    "    assert inc(3) == 5\n",
    "```\n",
    "Lorsque l'on exécute pytest: \n",
    "```bash\n",
    "$ pytest\n",
    "=========================== test session starts ============================\n",
    "platform linux -- Python 3.x.y, pytest-7.x.y, pluggy-1.x.y\n",
    "rootdir: /home/sweet/project\n",
    "collected 1 item\n",
    "\n",
    "test_sample.py F                                                     [100%]\n",
    "\n",
    "================================= FAILURES =================================\n",
    "_______________________________ test_answer ________________________________\n",
    "\n",
    "    def test_answer():\n",
    ">       assert inc(3) == 5\n",
    "E       assert 4 == 5\n",
    "E        +  where 4 = inc(3)\n",
    "\n",
    "test_sample.py:6: AssertionError\n",
    "========================= short test summary info ==========================\n",
    "FAILED test_sample.py::test_answer - assert 4 == 5\n",
    "============================ 1 failed in 0.12s =============================\n",
    "```\n",
    "Plus besoin d'un main, qui en plus échouerai à la première erreur."
   ]
  },
  {
   "cell_type": "markdown",
   "id": "a05e49cd",
   "metadata": {
    "slideshow": {
     "slide_type": "slide"
    }
   },
   "source": [
    "#### `unittest`\n",
    "Livré avec python, permet lui aussi d'automatiser les tests. Il repose sur un classe de test avec des méthodes qui constitue les tests. C'est le testeur originel ! "
   ]
  },
  {
   "cell_type": "code",
   "execution_count": null,
   "id": "04d7f266",
   "metadata": {
    "slideshow": {
     "slide_type": "fragment"
    }
   },
   "outputs": [],
   "source": [
    "import unittest\n",
    "\n",
    "class TestStringMethods(unittest.TestCase):\n",
    "\n",
    "    def test_upper(self):\n",
    "        self.assertEqual('foo'.upper(), 'FOO')\n",
    "\n",
    "    def test_isupper(self):\n",
    "        self.assertTrue('FOO'.isupper())\n",
    "        self.assertFalse('Foo'.isupper())\n",
    "\n",
    "    def test_split(self):\n",
    "        s = 'hello world'\n",
    "        self.assertEqual(s.split(), ['hello', 'world'])\n",
    "        # check that s.split fails when the separator is not a string\n",
    "        with self.assertRaises(TypeError):\n",
    "            s.split(2)\n",
    "# pour les fichiers\n",
    "#if __name__ == '__main__': \n",
    "#    unittest.main()"
   ]
  },
  {
   "cell_type": "code",
   "execution_count": null,
   "id": "78d69170",
   "metadata": {
    "slideshow": {
     "slide_type": "fragment"
    }
   },
   "outputs": [
    {
     "name": "stderr",
     "output_type": "stream",
     "text": [
      "...\n",
      "----------------------------------------------------------------------\n",
      "Ran 3 tests in 0.002s\n",
      "\n",
      "OK\n"
     ]
    }
   ],
   "source": [
    "if __name__ == '__main__':\n",
    "    unittest.main(argv=['first-arg-is-ignored'], exit=False)"
   ]
  },
  {
   "cell_type": "markdown",
   "id": "94e40d28",
   "metadata": {
    "slideshow": {
     "slide_type": "subslide"
    }
   },
   "source": [
    "#### `doctest`\n",
    "Puisqu'il faut écrire un docstring, et que c'est mieux avec des exemples, on va faire d'une pierre deux coups et tester tout en donnant un exemple à l'utilisateur."
   ]
  },
  {
   "cell_type": "code",
   "execution_count": null,
   "id": "ce283fce",
   "metadata": {
    "slideshow": {
     "slide_type": "fragment"
    }
   },
   "outputs": [
    {
     "ename": "TypeError",
     "evalue": "can only concatenate str (not \"int\") to str",
     "output_type": "error",
     "traceback": [
      "\u001b[0;31m---------------------------------------------------------------------------\u001b[0m",
      "\u001b[0;31mTypeError\u001b[0m                                 Traceback (most recent call last)",
      "\u001b[0;32m/tmp/ipykernel_592/1322912493.py\u001b[0m in \u001b[0;36m<module>\u001b[0;34m\u001b[0m\n\u001b[0;32m----> 1\u001b[0;31m \u001b[0minc\u001b[0m\u001b[0;34m(\u001b[0m\u001b[0;34m'a'\u001b[0m\u001b[0;34m)\u001b[0m\u001b[0;34m\u001b[0m\u001b[0;34m\u001b[0m\u001b[0m\n\u001b[0m",
      "\u001b[0;32m/tmp/ipykernel_592/373043617.py\u001b[0m in \u001b[0;36minc\u001b[0;34m(x)\u001b[0m\n\u001b[1;32m      6\u001b[0m     \u001b[0;36m4\u001b[0m\u001b[0;34m\u001b[0m\u001b[0;34m\u001b[0m\u001b[0m\n\u001b[1;32m      7\u001b[0m     \"\"\"\n\u001b[0;32m----> 8\u001b[0;31m     \u001b[0;32mreturn\u001b[0m \u001b[0mx\u001b[0m \u001b[0;34m+\u001b[0m \u001b[0;36m1\u001b[0m\u001b[0;34m\u001b[0m\u001b[0;34m\u001b[0m\u001b[0m\n\u001b[0m",
      "\u001b[0;31mTypeError\u001b[0m: can only concatenate str (not \"int\") to str"
     ]
    }
   ],
   "source": [
    "inc('a')"
   ]
  },
  {
   "cell_type": "code",
   "execution_count": null,
   "id": "c74b81e8",
   "metadata": {
    "slideshow": {
     "slide_type": "fragment"
    }
   },
   "outputs": [],
   "source": [
    "def inc(x):\n",
    "    \"\"\"\n",
    "    Incrémente de 1.\n",
    "    \n",
    "    >>> inc(3)\n",
    "    4\n",
    "    >>> inc(\"a\")                           \n",
    "    Traceback (most recent call last):\n",
    "    ...\n",
    "    TypeError: can only concatenate str (not \"int\") to str\n",
    "    \"\"\"\n",
    "    return x + 1"
   ]
  },
  {
   "cell_type": "code",
   "execution_count": null,
   "id": "2172b009",
   "metadata": {
    "slideshow": {
     "slide_type": "fragment"
    }
   },
   "outputs": [
    {
     "name": "stdout",
     "output_type": "stream",
     "text": [
      "Trying:\n",
      "    inc(3)\n",
      "Expecting:\n",
      "    4\n",
      "ok\n",
      "Trying:\n",
      "    inc(\"a\")                           \n",
      "Expecting:\n",
      "    Traceback (most recent call last):\n",
      "    ...\n",
      "    TypeError: can only concatenate str (not \"int\") to str\n",
      "ok\n",
      "11 items had no tests:\n",
      "    __main__\n",
      "    __main__.TestStringMethods\n",
      "    __main__.TestStringMethods.test_isupper\n",
      "    __main__.TestStringMethods.test_split\n",
      "    __main__.TestStringMethods.test_upper\n",
      "    __main__._38\n",
      "    __main__._getshapeof\n",
      "    __main__._getsizeof\n",
      "    __main__.test_answer\n",
      "    __main__.update\n",
      "    __main__.var_dic_list\n",
      "1 items passed all tests:\n",
      "   2 tests in __main__.inc\n",
      "2 tests in 12 items.\n",
      "2 passed and 0 failed.\n",
      "Test passed.\n",
      "TestResults(failed=0, attempted=2)\n"
     ]
    }
   ],
   "source": [
    "import doctest\n",
    "print(doctest.testmod(verbose=1))"
   ]
  },
  {
   "cell_type": "markdown",
   "id": "f50168e7",
   "metadata": {
    "slideshow": {
     "slide_type": "fragment"
    }
   },
   "source": [
    "**En conclusion**\n",
    "Il existe tout un bestiaire d'outil pour tester son code python de manière plus ou moins automatique. \n",
    "\n",
    "Pour aller plus loin\n",
    "- https://wiki.python.org/moin/PythonTestingToolsTaxonomy\n",
    "- https://realpython.com/pytest-python-testing/\n",
    "- https://docs.pytest.org/en/7.1.x/\n",
    "- https://docs.python-guide.org/writing/tests/\n"
   ]
  },
  {
   "cell_type": "markdown",
   "id": "e62a5878",
   "metadata": {
    "slideshow": {
     "slide_type": "slide"
    }
   },
   "source": [
    "### Débugger en python"
   ]
  },
  {
   "cell_type": "markdown",
   "id": "f608a385",
   "metadata": {
    "slideshow": {
     "slide_type": "fragment"
    }
   },
   "source": [
    "Malgré les tests, il y aura des bugs. En python, losrque le programme rencontre une erreur, il nous gratifie d'un traceback détaillé.\n",
    "```\n",
    "---------------------------------------------------------------------------\n",
    "TypeError                                 Traceback (most recent call last)\n",
    "/tmp/ipykernel_592/1322912493.py in <module>\n",
    "----> 1 inc('a')\n",
    "\n",
    "/tmp/ipykernel_592/373043617.py in inc(x)\n",
    "      6     4\n",
    "      7     \"\"\"\n",
    "----> 8     return x + 1\n",
    "\n",
    "TypeError: can only concatenate str (not \"int\") to str\n",
    "```"
   ]
  },
  {
   "cell_type": "markdown",
   "id": "fae769be",
   "metadata": {
    "slideshow": {
     "slide_type": "fragment"
    }
   },
   "source": [
    "- C'est souvent suffisant pour résoudre le problème. On pourra même ajouter quelques prints bien choisi pour y voir plus clair."
   ]
  },
  {
   "cell_type": "markdown",
   "id": "19062fd9",
   "metadata": {
    "slideshow": {
     "slide_type": "fragment"
    }
   },
   "source": [
    "- Parfois, le message d'erreur n'est pas assez clair (*****Error mal défini...) et on voudra un débuggueur plus classique.\n",
    "  - [`pdb`](https://docs.python.org/fr/3/library/pdb.html) est le débuggueur natif de python\n",
    "  - [Vscode propose une interface](https://code.visualstudio.com/docs/python/debugging)"
   ]
  },
  {
   "cell_type": "markdown",
   "id": "bc923781",
   "metadata": {
    "slideshow": {
     "slide_type": "subslide"
    }
   },
   "source": [
    "####  Débuggage post mortem"
   ]
  },
  {
   "cell_type": "markdown",
   "id": "cbfc7196",
   "metadata": {
    "slideshow": {
     "slide_type": "fragment"
    }
   },
   "source": [
    "On peut appeler directement le débugueur après l'arrêt inopiné d'un programme dans ipython avec `%debug`"
   ]
  },
  {
   "cell_type": "code",
   "execution_count": null,
   "id": "58202718",
   "metadata": {
    "slideshow": {
     "slide_type": "fragment"
    }
   },
   "outputs": [
    {
     "ename": "TypeError",
     "evalue": "can only concatenate str (not \"int\") to str",
     "output_type": "error",
     "traceback": [
      "\u001b[0;31m---------------------------------------------------------------------------\u001b[0m",
      "\u001b[0;31mTypeError\u001b[0m                                 Traceback (most recent call last)",
      "\u001b[0;32m/tmp/ipykernel_592/2909095652.py\u001b[0m in \u001b[0;36m<module>\u001b[0;34m\u001b[0m\n\u001b[1;32m      1\u001b[0m \u001b[0mchar\u001b[0m\u001b[0;34m=\u001b[0m\u001b[0;34m\"a\"\u001b[0m\u001b[0;34m\u001b[0m\u001b[0;34m\u001b[0m\u001b[0m\n\u001b[0;32m----> 2\u001b[0;31m \u001b[0minc\u001b[0m\u001b[0;34m(\u001b[0m\u001b[0mchar\u001b[0m\u001b[0;34m)\u001b[0m\u001b[0;34m\u001b[0m\u001b[0;34m\u001b[0m\u001b[0m\n\u001b[0m",
      "\u001b[0;32m/tmp/ipykernel_592/837358270.py\u001b[0m in \u001b[0;36minc\u001b[0;34m(x)\u001b[0m\n\u001b[1;32m     10\u001b[0m     \u001b[0mTypeError\u001b[0m\u001b[0;34m:\u001b[0m \u001b[0mcan\u001b[0m \u001b[0monly\u001b[0m \u001b[0mconcatenate\u001b[0m \u001b[0mstr\u001b[0m \u001b[0;34m(\u001b[0m\u001b[0;32mnot\u001b[0m \u001b[0;34m\"int\"\u001b[0m\u001b[0;34m)\u001b[0m \u001b[0mto\u001b[0m \u001b[0mstr\u001b[0m\u001b[0;34m\u001b[0m\u001b[0;34m\u001b[0m\u001b[0m\n\u001b[1;32m     11\u001b[0m     \"\"\"\n\u001b[0;32m---> 12\u001b[0;31m     \u001b[0;32mreturn\u001b[0m \u001b[0mx\u001b[0m \u001b[0;34m+\u001b[0m \u001b[0;36m1\u001b[0m\u001b[0;34m\u001b[0m\u001b[0;34m\u001b[0m\u001b[0m\n\u001b[0m",
      "\u001b[0;31mTypeError\u001b[0m: can only concatenate str (not \"int\") to str"
     ]
    }
   ],
   "source": [
    "char=\"a\"\n",
    "inc(char)"
   ]
  },
  {
   "cell_type": "code",
   "execution_count": null,
   "id": "a9084911",
   "metadata": {
    "slideshow": {
     "slide_type": "fragment"
    }
   },
   "outputs": [
    {
     "name": "stdout",
     "output_type": "stream",
     "text": [
      "> \u001b[0;32m/tmp/ipykernel_592/837358270.py\u001b[0m(12)\u001b[0;36minc\u001b[0;34m()\u001b[0m\n",
      "\u001b[0;32m      8 \u001b[0;31m    \u001b[0mTraceback\u001b[0m \u001b[0;34m(\u001b[0m\u001b[0mmost\u001b[0m \u001b[0mrecent\u001b[0m \u001b[0mcall\u001b[0m \u001b[0mlast\u001b[0m\u001b[0;34m)\u001b[0m\u001b[0;34m:\u001b[0m\u001b[0;34m\u001b[0m\u001b[0;34m\u001b[0m\u001b[0m\n",
      "\u001b[0m\u001b[0;32m      9 \u001b[0;31m    \u001b[0;34m...\u001b[0m\u001b[0;34m\u001b[0m\u001b[0;34m\u001b[0m\u001b[0m\n",
      "\u001b[0m\u001b[0;32m     10 \u001b[0;31m    \u001b[0mTypeError\u001b[0m\u001b[0;34m:\u001b[0m \u001b[0mcan\u001b[0m \u001b[0monly\u001b[0m \u001b[0mconcatenate\u001b[0m \u001b[0mstr\u001b[0m \u001b[0;34m(\u001b[0m\u001b[0;32mnot\u001b[0m \u001b[0;34m\"int\"\u001b[0m\u001b[0;34m)\u001b[0m \u001b[0mto\u001b[0m \u001b[0mstr\u001b[0m\u001b[0;34m\u001b[0m\u001b[0;34m\u001b[0m\u001b[0m\n",
      "\u001b[0m\u001b[0;32m     11 \u001b[0;31m    \"\"\"\n",
      "\u001b[0m\u001b[0;32m---> 12 \u001b[0;31m    \u001b[0;32mreturn\u001b[0m \u001b[0mx\u001b[0m \u001b[0;34m+\u001b[0m \u001b[0;36m1\u001b[0m\u001b[0;34m\u001b[0m\u001b[0;34m\u001b[0m\u001b[0m\n",
      "\u001b[0m\n",
      "ipdb> char\n",
      "'a'\n",
      "ipdb> q\n"
     ]
    }
   ],
   "source": [
    "%debug"
   ]
  },
  {
   "cell_type": "markdown",
   "id": "42c1d6c9",
   "metadata": {
    "slideshow": {
     "slide_type": "fragment"
    }
   },
   "source": [
    "Bien sur, on pourra aussi \n",
    "- utiliser directement le débuggueur:\n",
    "```\n",
    "python -m pdb script.py\n",
    "```\n",
    "- placer des points d'arret (en particulier via VScode)\n",
    "- lire la doc"
   ]
  },
  {
   "cell_type": "markdown",
   "id": "043dec0c",
   "metadata": {
    "slideshow": {
     "slide_type": "fragment"
    }
   },
   "source": [
    "Brian Kernighan :\n",
    "> *«  Tout le monde sait que le débogage est deux fois plus difficile que l'écriture d'un programme. Donc, si vous êtes aussi intelligent que vous pouvez l'être quand vous écrivez votre code, comment allez-vous déboguer ?  »*"
   ]
  },
  {
   "cell_type": "markdown",
   "id": "29130daf",
   "metadata": {
    "slideshow": {
     "slide_type": "slide"
    }
   },
   "source": [
    "## Optimisation"
   ]
  },
  {
   "cell_type": "markdown",
   "id": "4a4b73b0",
   "metadata": {
    "slideshow": {
     "slide_type": "fragment"
    }
   },
   "source": [
    "<div class=\"alert alert-danger\" role=\"alert\">\n",
    "   <b> Attention : </b> \"L'optimisation prémature est la racine de tous les pêchers.\"\n",
    "</div>"
   ]
  },
  {
   "cell_type": "markdown",
   "id": "70ca09ee",
   "metadata": {
    "slideshow": {
     "slide_type": "slide"
    }
   },
   "source": [
    "### Fil rouge: le jeu de la vie"
   ]
  },
  {
   "cell_type": "markdown",
   "id": "2bf0537e",
   "metadata": {
    "slideshow": {
     "slide_type": "fragment"
    }
   },
   "source": [
    "<div class=\"alert alert-success\" role=\"alert\">\n",
    "    <b>Le jeu de la vie</b> <br>\n",
    "Il s’agit d’un automate cellulaire, un modèle où chaque état conduit mécaniquement à l’état suivant à partir de règles préétablies.\n",
    "\n",
    "Le jeu se déroule sur une grille à deux dimensions, théoriquement infinie, dont les cases appelées « cellules » par analogie avec les cellules vivantes peuvent prendre deux états distincts : « vivante » ou « morte ».\n",
    "\n",
    "Une cellule possède huit voisins, qui sont les cellules adjacentes horizontalement, verticalement et diagonalement.\n",
    "\n",
    "À chaque itération, l'état d’une cellule est entièrement déterminé par l’état de ses huit cellules voisines, selon les règles suivantes :\n",
    "<ul>\n",
    "<li>une cellule morte possédant exactement trois cellules voisines vivantes devient vivante (elle naît)&nbsp;;</li>\n",
    "<li>une cellule vivante possédant deux ou trois cellules voisines vivantes le reste, sinon elle meurt.</li>\n",
    "</ul>\n",
    "</div>\n"
   ]
  },
  {
   "cell_type": "code",
   "execution_count": 15,
   "id": "11090614",
   "metadata": {
    "slideshow": {
     "slide_type": "subslide"
    }
   },
   "outputs": [
    {
     "data": {
      "text/plain": [
       "<matplotlib.image.AxesImage at 0x127305120>"
      ]
     },
     "execution_count": 15,
     "metadata": {},
     "output_type": "execute_result"
    },
    {
     "data": {
      "image/png": "[encoded data removed]",
      "text/plain": [
       "<Figure size 640x480 with 1 Axes>"
      ]
     },
     "metadata": {},
     "output_type": "display_data"
    }
   ],
   "source": [
    "### INITIALISATION DU JEU ###\n",
    "import numpy as np\n",
    "import matplotlib.pyplot as plt\n",
    "init=\"\"\"........................................\n",
    ".........................#..............\n",
    ".......................#.#..............\n",
    ".............##......##............##...\n",
    "............#...#....##............##...\n",
    ".##........#.....#...##.................\n",
    ".##........#...#.##....#.#..............\n",
    "...........#.....#.......#..............\n",
    "............#...#.......................\n",
    ".............##.........................\n",
    "........................................\n",
    "........................................\n",
    "........................................\n",
    "........................................\n",
    "........................................\n",
    "......###...###.........................\n",
    "........................................\n",
    "....#....#.#....#.......................\n",
    "....#....#.#....#.......................\n",
    "....#....#.#....#.......................\n",
    "......###...###.........................\n",
    "........................................\n",
    "......###...###.........................\n",
    "....#....#.#....#.......................\n",
    "....#....#.#....#.......................\n",
    "....#....#.#....#.......................\n",
    "........................................\n",
    "......###...###.........................\n",
    "........................................\n",
    "........................................\"\"\"\n",
    "grid = np.array(\n",
    "    list(        \n",
    "        [x == \"#\" for x in line]\n",
    "        for line in init.split()\n",
    "    ),\n",
    "    dtype=np.int8,\n",
    ")\n",
    "plt.imshow(grid, cmap=\"gray_r\")"
   ]
  },
  {
   "cell_type": "markdown",
   "id": "080c11c4",
   "metadata": {
    "slideshow": {
     "slide_type": "fragment"
    }
   },
   "source": [
    "#### Implémentation naive avec des boucles (sur des array numpy, tout de même)"
   ]
  },
  {
   "cell_type": "code",
   "execution_count": 17,
   "id": "4fde8ec9",
   "metadata": {
    "slideshow": {
     "slide_type": "fragment"
    }
   },
   "outputs": [],
   "source": [
    "def update(grid: np.ndarray) -> np.ndarray:\n",
    "    n, m = grid.shape\n",
    "    next_grid = np.zeros((n, m), dtype=np.int8)\n",
    "    # on parcours les lignes et le colones \n",
    "    for row in range(n):\n",
    "        for col in range(m):\n",
    "            #   somme sur les voisins            \n",
    "            live_neighbors = (\n",
    "                np.sum(grid[row - 1 : row + 2, col - 1 : col + 2]) - grid[row, col] # parcours des 8 voisins\n",
    "            )\n",
    "            if live_neighbors < 2 or live_neighbors > 3:\n",
    "                next_grid[row, col] = 0\n",
    "            elif live_neighbors == 3 and grid[row, col] == 0:\n",
    "                next_grid[row, col] = 1\n",
    "            else:\n",
    "                next_grid[row, col] = grid[row, col]\n",
    "\n",
    "    return next_grid"
   ]
  },
  {
   "cell_type": "code",
   "execution_count": 18,
   "id": "a2b9089b",
   "metadata": {
    "slideshow": {
     "slide_type": "fragment"
    }
   },
   "outputs": [
    {
     "data": {
      "text/plain": [
       "<matplotlib.image.AxesImage at 0x1274222f0>"
      ]
     },
     "execution_count": 18,
     "metadata": {},
     "output_type": "execute_result"
    },
    {
     "data": {
      "image/png": "[encoded data removed]",
      "text/plain": [
       "<Figure size 640x480 with 1 Axes>"
      ]
     },
     "metadata": {},
     "output_type": "display_data"
    }
   ],
   "source": [
    "plt.imshow(update(grid), cmap=\"gray_r\")"
   ]
  },
  {
   "cell_type": "code",
   "execution_count": 19,
   "id": "ca3b384b",
   "metadata": {
    "slideshow": {
     "slide_type": "fragment"
    }
   },
   "outputs": [
    {
     "data": {
      "image/png": "[encoded data removed]",
      "text/plain": [
       "<Figure size 2000x500 with 4 Axes>"
      ]
     },
     "metadata": {},
     "output_type": "display_data"
    }
   ],
   "source": [
    "from matplotlib import ticker\n",
    "\n",
    "fig, ax = plt.subplots(1, 4, figsize=(20, 5))\n",
    "ax[0].imshow(grid, cmap=\"gray_r\")\n",
    "ax[1].imshow(update(grid), cmap=\"gray_r\")\n",
    "ax[2].imshow(update(update(grid)), cmap=\"gray_r\")\n",
    "ax[3].imshow(update(update(update(grid))), cmap=\"gray_r\")\n",
    "for ax_ in ax:\n",
    "    ax_.xaxis.set_major_locator(ticker.NullLocator())\n",
    "    ax_.yaxis.set_major_locator(ticker.NullLocator())\n",
    "\n",
    "fig.set_tight_layout(True)"
   ]
  },
  {
   "cell_type": "markdown",
   "id": "b13b66f8",
   "metadata": {
    "slideshow": {
     "slide_type": "slide"
    }
   },
   "source": [
    "### Instrumenter et analyser son code"
   ]
  },
  {
   "cell_type": "markdown",
   "id": "e71d9c07",
   "metadata": {
    "slideshow": {
     "slide_type": "fragment"
    }
   },
   "source": [
    "Pour optimiser son code, on doit d'abord évaluer quelle partie consomme du temps (ou de la mémoire) pour concentrer ses efforts la ou ils seront efficaces. On aura donc besoin d'outils pour:\n",
    "- évaluer le temps de calcul / la complexité d'une fonction/méthode\n",
    "- évaluer le temps de calcul d'une ligne en particulier\n",
    "- évaluer l'usage mémoire d'une fonction/méthode\n",
    "- évaluer l'usage mémoire de calcul d'une ligne en particulier"
   ]
  },
  {
   "cell_type": "markdown",
   "id": "1439179e",
   "metadata": {
    "slideshow": {
     "slide_type": "slide"
    }
   },
   "source": [
    "#### Evaluation du temps de calcul"
   ]
  },
  {
   "cell_type": "markdown",
   "id": "8ada6c05",
   "metadata": {
    "slideshow": {
     "slide_type": "subslide"
    }
   },
   "source": [
    "##### `time` "
   ]
  },
  {
   "cell_type": "markdown",
   "id": "1800248f",
   "metadata": {
    "slideshow": {
     "slide_type": "fragment"
    }
   },
   "source": [
    "> `time` est un module de la librairie standard pour mesurer le temps.\n",
    "\n",
    "C'est l'outil le plus basique mais on peut s'en servir pour construire des chronometres avancés.\n",
    "\n",
    "Pour plus de détail:  https://realpython.com/python-timer/"
   ]
  },
  {
   "cell_type": "code",
   "execution_count": 20,
   "id": "e6096450",
   "metadata": {
    "slideshow": {
     "slide_type": "fragment"
    }
   },
   "outputs": [
    {
     "name": "stdout",
     "output_type": "stream",
     "text": [
      "Temps de calcul : 0.0041 seconds\n"
     ]
    }
   ],
   "source": [
    "### Exemple basique\n",
    "from time import time \n",
    "start=time()\n",
    "count=0\n",
    "update(grid)\n",
    "print(f\"Temps de calcul : {time()-start:0.4f} seconds\")"
   ]
  },
  {
   "cell_type": "markdown",
   "id": "b6f1f294",
   "metadata": {
    "slideshow": {
     "slide_type": "subslide"
    }
   },
   "source": [
    "##### les magics ipython `%time`  et `%timeit`"
   ]
  },
  {
   "cell_type": "code",
   "execution_count": 21,
   "id": "da57a37e",
   "metadata": {
    "slideshow": {
     "slide_type": "fragment"
    }
   },
   "outputs": [
    {
     "name": "stdout",
     "output_type": "stream",
     "text": [
      "CPU times: user 4.1 ms, sys: 25 µs, total: 4.13 ms\n",
      "Wall time: 4.18 ms\n"
     ]
    },
    {
     "data": {
      "text/plain": [
       "array([[0, 0, 0, ..., 0, 0, 0],\n",
       "       [0, 0, 0, ..., 0, 0, 0],\n",
       "       [0, 0, 0, ..., 0, 0, 0],\n",
       "       ...,\n",
       "       [0, 0, 0, ..., 0, 0, 0],\n",
       "       [0, 0, 0, ..., 0, 0, 0],\n",
       "       [0, 0, 0, ..., 0, 0, 0]], dtype=int8)"
      ]
     },
     "execution_count": 21,
     "metadata": {},
     "output_type": "execute_result"
    }
   ],
   "source": [
    "%time update(grid)"
   ]
  },
  {
   "cell_type": "code",
   "execution_count": 22,
   "id": "9b8b0073",
   "metadata": {
    "slideshow": {
     "slide_type": "fragment"
    }
   },
   "outputs": [
    {
     "name": "stdout",
     "output_type": "stream",
     "text": [
      "3.93 ms ± 13.5 µs per loop (mean ± std. dev. of 7 runs, 100 loops each)\n"
     ]
    }
   ],
   "source": [
    "%timeit update(grid)"
   ]
  },
  {
   "cell_type": "markdown",
   "id": "e6a0528d",
   "metadata": {
    "slideshow": {
     "slide_type": "subslide"
    }
   },
   "source": [
    "#### Profilage du temps de calcul"
   ]
  },
  {
   "cell_type": "markdown",
   "id": "c2214fc4",
   "metadata": {
    "slideshow": {
     "slide_type": "fragment"
    }
   },
   "source": [
    "Pour une maitrise plus fine du temps de calcul, on utilise des outils spécialisés appelés **profileurs**. Ils renvoient un compte rendu détaillé du temps de calcul de chaque ligne/appel de fonction."
   ]
  },
  {
   "cell_type": "markdown",
   "id": "585f7ce3",
   "metadata": {
    "slideshow": {
     "slide_type": "fragment"
    }
   },
   "source": [
    "Quelques options:\n",
    "- The python profiler [`cProfile` et `profile`](https://docs.python.org/3/library/profile.html) : le profileur de la librairie standard.\n",
    "- [line_profiler](https://github.com/pyutils/line_profiler) pour plus de détails ligne par ligne\n",
    "```\n",
    "$ pip install line_profiler\n",
    "```\n",
    "- [snakeviz](https://jiffyclub.github.io/snakeviz/) pour des visu dynamiques (surtout dans les notebooks)\n",
    "```\n",
    "$ pip install snakeviz\n",
    "```"
   ]
  },
  {
   "cell_type": "markdown",
   "id": "4228bcbe",
   "metadata": {
    "slideshow": {
     "slide_type": "subslide"
    }
   },
   "source": [
    "#### `profiler` avec %prun"
   ]
  },
  {
   "cell_type": "code",
   "execution_count": 23,
   "id": "c32b605a",
   "metadata": {
    "slideshow": {
     "slide_type": "fragment"
    }
   },
   "outputs": [
    {
     "name": "stdout",
     "output_type": "stream",
     "text": [
      " "
     ]
    },
    {
     "name": "stdout",
     "output_type": "stream",
     "text": [
      "         10805 function calls in 0.006 seconds\n",
      "\n",
      "   Ordered by: internal time\n",
      "\n",
      "   ncalls  tottime  percall  cumtime  percall filename:lineno(function)\n",
      "     1200    0.002    0.000    0.002    0.000 {method 'reduce' of 'numpy.ufunc' objects}\n",
      "        1    0.001    0.001    0.006    0.006 3468385382.py:1(update)\n",
      "     1200    0.001    0.000    0.003    0.000 fromnumeric.py:69(_wrapreduction)\n",
      "     1200    0.001    0.000    0.004    0.000 fromnumeric.py:2162(sum)\n",
      "     1200    0.000    0.000    0.005    0.000 <__array_function__ internals>:177(sum)\n",
      "     1200    0.000    0.000    0.000    0.000 fromnumeric.py:70(<dictcomp>)\n",
      "     1200    0.000    0.000    0.004    0.000 {built-in method numpy.core._multiarray_umath.implement_array_function}\n",
      "     1200    0.000    0.000    0.000    0.000 fromnumeric.py:2157(_sum_dispatcher)\n",
      "     1200    0.000    0.000    0.000    0.000 {built-in method builtins.isinstance}\n",
      "     1200    0.000    0.000    0.000    0.000 {method 'items' of 'dict' objects}\n",
      "        1    0.000    0.000    0.006    0.006 {built-in method builtins.exec}\n",
      "        1    0.000    0.000    0.000    0.000 {built-in method numpy.zeros}\n",
      "        1    0.000    0.000    0.006    0.006 <string>:1(<module>)\n",
      "        1    0.000    0.000    0.000    0.000 {method 'disable' of '_lsprof.Profiler' objects}"
     ]
    }
   ],
   "source": [
    "# appel facilité de profile\n",
    "%prun update(grid)"
   ]
  },
  {
   "cell_type": "markdown",
   "id": "4955c328",
   "metadata": {
    "slideshow": {
     "slide_type": "subslide"
    }
   },
   "source": [
    "#### `line_profiler` avec %lprun\n",
    "<div class=\"alert alert-danger\" role=\"alert\">\n",
    "   <b> Attention : </b> par construction ne fonctionne qu'avec les fonctions.\n",
    "</div>"
   ]
  },
  {
   "cell_type": "code",
   "execution_count": 24,
   "id": "8a0c6aa1",
   "metadata": {
    "slideshow": {
     "slide_type": "fragment"
    }
   },
   "outputs": [],
   "source": [
    "%load_ext line_profiler"
   ]
  },
  {
   "cell_type": "code",
   "execution_count": 25,
   "id": "9c4ee283",
   "metadata": {
    "slideshow": {
     "slide_type": "fragment"
    }
   },
   "outputs": [
    {
     "name": "stdout",
     "output_type": "stream",
     "text": [
      "Timer unit: 1e-06 s\n",
      "\n",
      "Total time: 0.011297 s\n",
      "File: /var/folders/68/4x9n_y4x57vbdd5cvpzj5g5w0000gn/T/ipykernel_7931/3468385382.py\n",
      "Function: update at line 1\n",
      "\n",
      "Line #      Hits         Time  Per Hit   % Time  Line Contents\n",
      "==============================================================\n",
      "     1                                           def update(grid: np.ndarray) -> np.ndarray:\n",
      "     2         1          4.0      4.0      0.0      n, m = grid.shape\n",
      "     3         1         15.0     15.0      0.1      next_grid = np.zeros((n, m), dtype=np.int8)\n",
      "     4                                               # on parcours les lignes et le colones \n",
      "     5        31         12.0      0.4      0.1      for row in range(n):\n",
      "     6      1230        427.0      0.3      3.8          for col in range(m):\n",
      "     7                                                       #   somme sur les voisins            \n",
      "     8      1200        427.0      0.4      3.8              live_neighbors = (\n",
      "     9      1200       8953.0      7.5     79.3                  np.sum(grid[row - 1 : row + 2, col - 1 : col + 2]) - grid[row, col] # parcours des 8 voisins\n",
      "    10                                                       )\n",
      "    11      1200        624.0      0.5      5.5              if live_neighbors < 2 or live_neighbors > 3:\n",
      "    12      1005        489.0      0.5      4.3                  next_grid[row, col] = 0\n",
      "    13       195        207.0      1.1      1.8              elif live_neighbors == 3 and grid[row, col] == 0:\n",
      "    14        50         42.0      0.8      0.4                  next_grid[row, col] = 1\n",
      "    15                                                       else:\n",
      "    16       145         97.0      0.7      0.9                  next_grid[row, col] = grid[row, col]\n",
      "    17                                           \n",
      "    18         1          0.0      0.0      0.0      return next_grid"
     ]
    }
   ],
   "source": [
    "%lprun -f update update(grid)"
   ]
  },
  {
   "cell_type": "markdown",
   "id": "9760d7cb",
   "metadata": {
    "slideshow": {
     "slide_type": "subslide"
    }
   },
   "source": [
    "#### `snakeviz` avec %snakeviz"
   ]
  },
  {
   "cell_type": "code",
   "execution_count": 26,
   "id": "3841a1b3",
   "metadata": {
    "slideshow": {
     "slide_type": "subslide"
    }
   },
   "outputs": [],
   "source": [
    "%load_ext snakeviz"
   ]
  },
  {
   "cell_type": "code",
   "execution_count": 27,
   "id": "5bd3bd64",
   "metadata": {
    "slideshow": {
     "slide_type": "subslide"
    }
   },
   "outputs": [
    {
     "name": "stdout",
     "output_type": "stream",
     "text": [
      " \n",
      "*** Profile stats marshalled to file '/var/folders/68/4x9n_y4x57vbdd5cvpzj5g5w0000gn/T/tmpf2_3zd5b'.\n",
      "Embedding SnakeViz in this document...\n"
     ]
    },
    {
     "data": {
      "text/html": [
       "\n",
       "<iframe id='snakeviz-7c155e90-4ac3-11ed-a743-967a4bab8d67' frameborder=0 seamless width='100%' height='1000'></iframe>\n",
       "<script>document.getElementById(\"snakeviz-7c155e90-4ac3-11ed-a743-967a4bab8d67\").setAttribute(\"src\", \"http://\" + document.location.hostname + \":8080/snakeviz/%2Fvar%2Ffolders%2F68%2F4x9n_y4x57vbdd5cvpzj5g5w0000gn%2FT%2Ftmpf2_3zd5b\")</script>\n"
      ],
      "text/plain": [
       "<IPython.core.display.HTML object>"
      ]
     },
     "metadata": {},
     "output_type": "display_data"
    }
   ],
   "source": [
    "%snakeviz update(grid)"
   ]
  },
  {
   "cell_type": "markdown",
   "id": "3e407624",
   "metadata": {
    "slideshow": {
     "slide_type": "subslide"
    }
   },
   "source": [
    " #### Profilage mémoire"
   ]
  },
  {
   "cell_type": "markdown",
   "id": "9f1ae578",
   "metadata": {
    "slideshow": {
     "slide_type": "fragment"
    }
   },
   "source": [
    "Le profilage mémoire fonctionne de manière similaire. Ici on va découvrir le module [`memory-profiler`](https://github.com/pythonprofilers/memory_profiler/blob/master/README.rst)\n",
    "```bash\n",
    "$pip install memory-profiler\n",
    "```"
   ]
  },
  {
   "cell_type": "code",
   "execution_count": 29,
   "id": "d66498b2",
   "metadata": {
    "slideshow": {
     "slide_type": "fragment"
    }
   },
   "outputs": [
    {
     "name": "stdout",
     "output_type": "stream",
     "text": [
      "The memory_profiler extension is already loaded. To reload it, use:\n",
      "  %reload_ext memory_profiler\n"
     ]
    }
   ],
   "source": [
    "%load_ext memory_profiler"
   ]
  },
  {
   "cell_type": "code",
   "execution_count": 30,
   "id": "8e852bfd",
   "metadata": {
    "slideshow": {
     "slide_type": "fragment"
    }
   },
   "outputs": [
    {
     "name": "stdout",
     "output_type": "stream",
     "text": [
      "peak memory: 136.72 MiB, increment: 0.53 MiB\n"
     ]
    }
   ],
   "source": [
    "%memit update(grid)"
   ]
  },
  {
   "cell_type": "markdown",
   "id": "38fe2678",
   "metadata": {
    "slideshow": {
     "slide_type": "fragment"
    }
   },
   "source": [
    "De même, on peut profiler la mémoire par ligne avec la version \"mémoire\" de `%lprun`."
   ]
  },
  {
   "cell_type": "code",
   "execution_count": 33,
   "id": "10a10d08",
   "metadata": {
    "slideshow": {
     "slide_type": "fragment"
    }
   },
   "outputs": [
    {
     "name": "stdout",
     "output_type": "stream",
     "text": [
      "ERROR: Could not find file /var/folders/68/4x9n_y4x57vbdd5cvpzj5g5w0000gn/T/ipykernel_7931/3468385382.py\n",
      "\n"
     ]
    },
    {
     "name": "stdout",
     "output_type": "stream",
     "text": []
    }
   ],
   "source": [
    "%mprun -f update update(grid)"
   ]
  },
  {
   "cell_type": "markdown",
   "id": "822f14be",
   "metadata": {
    "slideshow": {
     "slide_type": "subslide"
    }
   },
   "source": [
    "<div class=\"alert alert-success\" role=\"alert\">\n",
    "   <b> Remarque : </b> ces appels dans le notebook sont très pratique. Pour une approche plus générale et avec les possibilités de personalisation qui vont avec, se référer à la doc de chacun des programmes.\n",
    "</div>\n",
    "\n",
    "<div class=\"alert alert-success\" role=\"alert\">\n",
    "   <b> Remarque 2: </b> il existe tout un tas d'autres librairies, en particulier des solutions multilangages (valgrind, etc.) et propriétaires.\n",
    "</div>"
   ]
  },
  {
   "cell_type": "markdown",
   "id": "230f48db",
   "metadata": {
    "slideshow": {
     "slide_type": "slide"
    }
   },
   "source": [
    "###  Réduction de la complexité algorithmique"
   ]
  },
  {
   "cell_type": "markdown",
   "id": "43ab19e5",
   "metadata": {
    "slideshow": {
     "slide_type": "fragment"
    }
   },
   "source": [
    "> Le moyen le plus direct (mais rarement le plus simple) d'accélérer un calcul est d'en réduire la complexité! \n",
    "\n",
    "cf. ALGOA"
   ]
  },
  {
   "cell_type": "markdown",
   "id": "d2ca1cb8",
   "metadata": {
    "slideshow": {
     "slide_type": "fragment"
    }
   },
   "source": [
    "<table>\n",
    "<caption>Tableau comparatif des tris procédant par comparaisons</caption>\n",
    "<thead><tr>\n",
    "<th class=\"headerSort\" tabindex=\"0\" role=\"columnheader button\" title=\"Tri croissant\">Nom</th>\n",
    "<th class=\"headerSort\" tabindex=\"0\" role=\"columnheader button\" title=\"Tri croissant\">Cas optimal</th>\n",
    "<th class=\"headerSort\" tabindex=\"0\" role=\"columnheader button\" title=\"Tri croissant\">Cas moyen</th>\n",
    "<th class=\"headerSort\" tabindex=\"0\" role=\"columnheader button\" title=\"Tri croissant\">Pire des cas</th>\n",
    "<th class=\"headerSort\" tabindex=\"0\" role=\"columnheader button\" title=\"Tri croissant\">Complexité spatiale</th>\n",
    "<th class=\"headerSort\" tabindex=\"0\" role=\"columnheader button\" title=\"Tri croissant\">Stable\n",
    "</th></tr></thead><tbody>\n",
    "<tr align=\"center\">\n",
    "<td><a href=\"/wiki/Tri_rapide\" title=\"Tri rapide\">Tri rapide</a>\n",
    "</td>\n",
    "<td style=\"background:#dfd\"><span data-sort-value=\"20\"><span class=\"mwe-math-element\"><span class=\"mwe-math-mathml-inline mwe-math-mathml-a11y\" style=\"display: none;\"><math xmlns=\"http://www.w3.org/1998/Math/MathML\" alttext=\"{\\displaystyle n\\log n}\">\n",
    "  <semantics>\n",
    "    <mrow class=\"MJX-TeXAtom-ORD\">\n",
    "      <mstyle scriptlevel=\"0\" displaystyle=\"true\">\n",
    "        <mi>n</mi>\n",
    "        <mi>log</mi>\n",
    "        <mo>⁡<!-- ⁡ --></mo>\n",
    "        <mi>n</mi>\n",
    "      </mstyle>\n",
    "    </mrow>\n",
    "    <annotation encoding=\"application/x-tex\">{\\displaystyle n\\log n}</annotation>\n",
    "  </semantics>\n",
    "</math></span><img src=\"https://wikimedia.org/api/rest_v1/media/math/render/svg/560dfdce0353a330e03e4b3e0b7ca6e484bb40fb\" class=\"mwe-math-fallback-image-inline\" aria-hidden=\"true\" style=\"vertical-align: -0.671ex; width:6.535ex; height:2.509ex;\" alt=\"n\\log n\"></span></span>\n",
    "</td>\n",
    "<td style=\"background:#dfd\"><span data-sort-value=\"20\"><span class=\"mwe-math-element\"><span class=\"mwe-math-mathml-inline mwe-math-mathml-a11y\" style=\"display: none;\"><math xmlns=\"http://www.w3.org/1998/Math/MathML\" alttext=\"{\\displaystyle n\\log n}\">\n",
    "  <semantics>\n",
    "    <mrow class=\"MJX-TeXAtom-ORD\">\n",
    "      <mstyle scriptlevel=\"0\" displaystyle=\"true\">\n",
    "        <mi>n</mi>\n",
    "        <mi>log</mi>\n",
    "        <mo>⁡<!-- ⁡ --></mo>\n",
    "        <mi>n</mi>\n",
    "      </mstyle>\n",
    "    </mrow>\n",
    "    <annotation encoding=\"application/x-tex\">{\\displaystyle n\\log n}</annotation>\n",
    "  </semantics>\n",
    "</math></span><img src=\"https://wikimedia.org/api/rest_v1/media/math/render/svg/560dfdce0353a330e03e4b3e0b7ca6e484bb40fb\" class=\"mwe-math-fallback-image-inline\" aria-hidden=\"true\" style=\"vertical-align: -0.671ex; width:6.535ex; height:2.509ex;\" alt=\"n\\log n\"></span></span>\n",
    "</td>\n",
    "<td style=\"background:#fdd\"><span data-sort-value=\"25\"><span class=\"mwe-math-element\"><span class=\"mwe-math-mathml-inline mwe-math-mathml-a11y\" style=\"display: none;\"><math xmlns=\"http://www.w3.org/1998/Math/MathML\" alttext=\"{\\displaystyle n^{2}}\">\n",
    "  <semantics>\n",
    "    <mrow class=\"MJX-TeXAtom-ORD\">\n",
    "      <mstyle scriptlevel=\"0\" displaystyle=\"true\">\n",
    "        <msup>\n",
    "          <mi>n</mi>\n",
    "          <mrow class=\"MJX-TeXAtom-ORD\">\n",
    "            <mn>2</mn>\n",
    "          </mrow>\n",
    "        </msup>\n",
    "      </mstyle>\n",
    "    </mrow>\n",
    "    <annotation encoding=\"application/x-tex\">{\\displaystyle n^{2}}</annotation>\n",
    "  </semantics>\n",
    "</math></span><img src=\"https://wikimedia.org/api/rest_v1/media/math/render/svg/ac9810bbdafe4a6a8061338db0f74e25b7952620\" class=\"mwe-math-fallback-image-inline\" aria-hidden=\"true\" style=\"vertical-align: -0.338ex; width:2.449ex; height:2.676ex;\" alt=\"n^{2}\"></span></span>\n",
    "</td>\n",
    "<td style=\"background:#ffd\"><span data-sort-value=\"05\"><span class=\"mwe-math-element\"><span class=\"mwe-math-mathml-inline mwe-math-mathml-a11y\" style=\"display: none;\"><math xmlns=\"http://www.w3.org/1998/Math/MathML\" alttext=\"{\\displaystyle \\log n}\">\n",
    "  <semantics>\n",
    "    <mrow class=\"MJX-TeXAtom-ORD\">\n",
    "      <mstyle scriptlevel=\"0\" displaystyle=\"true\">\n",
    "        <mi>log</mi>\n",
    "        <mo>⁡<!-- ⁡ --></mo>\n",
    "        <mi>n</mi>\n",
    "      </mstyle>\n",
    "    </mrow>\n",
    "    <annotation encoding=\"application/x-tex\">{\\displaystyle \\log n}</annotation>\n",
    "  </semantics>\n",
    "</math></span><img src=\"https://wikimedia.org/api/rest_v1/media/math/render/svg/317ab5292da7c7935aec01a570461fe0613b21d5\" class=\"mwe-math-fallback-image-inline\" aria-hidden=\"true\" style=\"vertical-align: -0.671ex; width:4.754ex; height:2.509ex;\" alt=\"\\log n\"></span> en moyenne, <span class=\"mwe-math-element\"><span class=\"mwe-math-mathml-inline mwe-math-mathml-a11y\" style=\"display: none;\"><math xmlns=\"http://www.w3.org/1998/Math/MathML\" alttext=\"{\\displaystyle n}\">\n",
    "  <semantics>\n",
    "    <mrow class=\"MJX-TeXAtom-ORD\">\n",
    "      <mstyle scriptlevel=\"0\" displaystyle=\"true\">\n",
    "        <mi>n</mi>\n",
    "      </mstyle>\n",
    "    </mrow>\n",
    "    <annotation encoding=\"application/x-tex\">{\\displaystyle n}</annotation>\n",
    "  </semantics>\n",
    "</math></span><img src=\"https://wikimedia.org/api/rest_v1/media/math/render/svg/a601995d55609f2d9f5e233e36fbe9ea26011b3b\" class=\"mwe-math-fallback-image-inline\" aria-hidden=\"true\" style=\"vertical-align: -0.338ex; width:1.395ex; height:1.676ex;\" alt=\"n\"></span> dans le pire des cas ;<br> variante de Sedgewick&nbsp;: <span class=\"mwe-math-element\"><span class=\"mwe-math-mathml-inline mwe-math-mathml-a11y\" style=\"display: none;\"><math xmlns=\"http://www.w3.org/1998/Math/MathML\" alttext=\"{\\displaystyle \\log n}\">\n",
    "  <semantics>\n",
    "    <mrow class=\"MJX-TeXAtom-ORD\">\n",
    "      <mstyle scriptlevel=\"0\" displaystyle=\"true\">\n",
    "        <mi>log</mi>\n",
    "        <mo>⁡<!-- ⁡ --></mo>\n",
    "        <mi>n</mi>\n",
    "      </mstyle>\n",
    "    </mrow>\n",
    "    <annotation encoding=\"application/x-tex\">{\\displaystyle \\log n}</annotation>\n",
    "  </semantics>\n",
    "</math></span><img src=\"https://wikimedia.org/api/rest_v1/media/math/render/svg/317ab5292da7c7935aec01a570461fe0613b21d5\" class=\"mwe-math-fallback-image-inline\" aria-hidden=\"true\" style=\"vertical-align: -0.671ex; width:4.754ex; height:2.509ex;\" alt=\"\\log n\"></span> dans le pire des cas</span>\n",
    "</td>\n",
    "<td style=\"background:#fdd\"><span data-sort-value=\"1\">Non</span>\n",
    "</td></tr>\n",
    "<tr align=\"center\">\n",
    "<td><a href=\"/wiki/Tri_fusion\" title=\"Tri fusion\">Tri fusion</a>\n",
    "</td>\n",
    "<td style=\"background:#dfd\"><span data-sort-value=\"20\"><span class=\"mwe-math-element\"><span class=\"mwe-math-mathml-inline mwe-math-mathml-a11y\" style=\"display: none;\"><math xmlns=\"http://www.w3.org/1998/Math/MathML\" alttext=\"{\\displaystyle n\\log n}\">\n",
    "  <semantics>\n",
    "    <mrow class=\"MJX-TeXAtom-ORD\">\n",
    "      <mstyle scriptlevel=\"0\" displaystyle=\"true\">\n",
    "        <mi>n</mi>\n",
    "        <mi>log</mi>\n",
    "        <mo>⁡<!-- ⁡ --></mo>\n",
    "        <mi>n</mi>\n",
    "      </mstyle>\n",
    "    </mrow>\n",
    "    <annotation encoding=\"application/x-tex\">{\\displaystyle n\\log n}</annotation>\n",
    "  </semantics>\n",
    "</math></span><img src=\"https://wikimedia.org/api/rest_v1/media/math/render/svg/560dfdce0353a330e03e4b3e0b7ca6e484bb40fb\" class=\"mwe-math-fallback-image-inline\" aria-hidden=\"true\" style=\"vertical-align: -0.671ex; width:6.535ex; height:2.509ex;\" alt=\"n\\log n\"></span></span>\n",
    "</td>\n",
    "<td style=\"background:#dfd\"><span data-sort-value=\"20\"><span class=\"mwe-math-element\"><span class=\"mwe-math-mathml-inline mwe-math-mathml-a11y\" style=\"display: none;\"><math xmlns=\"http://www.w3.org/1998/Math/MathML\" alttext=\"{\\displaystyle n\\log n}\">\n",
    "  <semantics>\n",
    "    <mrow class=\"MJX-TeXAtom-ORD\">\n",
    "      <mstyle scriptlevel=\"0\" displaystyle=\"true\">\n",
    "        <mi>n</mi>\n",
    "        <mi>log</mi>\n",
    "        <mo>⁡<!-- ⁡ --></mo>\n",
    "        <mi>n</mi>\n",
    "      </mstyle>\n",
    "    </mrow>\n",
    "    <annotation encoding=\"application/x-tex\">{\\displaystyle n\\log n}</annotation>\n",
    "  </semantics>\n",
    "</math></span><img src=\"https://wikimedia.org/api/rest_v1/media/math/render/svg/560dfdce0353a330e03e4b3e0b7ca6e484bb40fb\" class=\"mwe-math-fallback-image-inline\" aria-hidden=\"true\" style=\"vertical-align: -0.671ex; width:6.535ex; height:2.509ex;\" alt=\"n\\log n\"></span></span>\n",
    "</td>\n",
    "<td style=\"background:#dfd\"><span data-sort-value=\"20\"><span class=\"mwe-math-element\"><span class=\"mwe-math-mathml-inline mwe-math-mathml-a11y\" style=\"display: none;\"><math xmlns=\"http://www.w3.org/1998/Math/MathML\" alttext=\"{\\displaystyle n\\log n}\">\n",
    "  <semantics>\n",
    "    <mrow class=\"MJX-TeXAtom-ORD\">\n",
    "      <mstyle scriptlevel=\"0\" displaystyle=\"true\">\n",
    "        <mi>n</mi>\n",
    "        <mi>log</mi>\n",
    "        <mo>⁡<!-- ⁡ --></mo>\n",
    "        <mi>n</mi>\n",
    "      </mstyle>\n",
    "    </mrow>\n",
    "    <annotation encoding=\"application/x-tex\">{\\displaystyle n\\log n}</annotation>\n",
    "  </semantics>\n",
    "</math></span><img src=\"https://wikimedia.org/api/rest_v1/media/math/render/svg/560dfdce0353a330e03e4b3e0b7ca6e484bb40fb\" class=\"mwe-math-fallback-image-inline\" aria-hidden=\"true\" style=\"vertical-align: -0.671ex; width:6.535ex; height:2.509ex;\" alt=\"n\\log n\"></span></span>\n",
    "</td>\n",
    "<td style=\"background:#fdd\"><span data-sort-value=\"15\"><span class=\"mwe-math-element\"><span class=\"mwe-math-mathml-inline mwe-math-mathml-a11y\" style=\"display: none;\"><math xmlns=\"http://www.w3.org/1998/Math/MathML\" alttext=\"{\\displaystyle n}\">\n",
    "  <semantics>\n",
    "    <mrow class=\"MJX-TeXAtom-ORD\">\n",
    "      <mstyle scriptlevel=\"0\" displaystyle=\"true\">\n",
    "        <mi>n</mi>\n",
    "      </mstyle>\n",
    "    </mrow>\n",
    "    <annotation encoding=\"application/x-tex\">{\\displaystyle n}</annotation>\n",
    "  </semantics>\n",
    "</math></span><img src=\"https://wikimedia.org/api/rest_v1/media/math/render/svg/a601995d55609f2d9f5e233e36fbe9ea26011b3b\" class=\"mwe-math-fallback-image-inline\" aria-hidden=\"true\" style=\"vertical-align: -0.338ex; width:1.395ex; height:1.676ex;\" alt=\"n\"></span></span>\n",
    "</td>\n",
    "<td style=\"background:#dfd\"><span data-sort-value=\"0\">Oui</span>\n",
    "</td></tr>\n",
    "<tr align=\"center\">\n",
    "<td><a href=\"/wiki/Tri_par_tas\" title=\"Tri par tas\">Tri par tas</a>\n",
    "</td>\n",
    "<td style=\"background:#dfd\"><span data-sort-value=\"20\"><span class=\"mwe-math-element\"><span class=\"mwe-math-mathml-inline mwe-math-mathml-a11y\" style=\"display: none;\"><math xmlns=\"http://www.w3.org/1998/Math/MathML\" alttext=\"{\\displaystyle n\\log n}\">\n",
    "  <semantics>\n",
    "    <mrow class=\"MJX-TeXAtom-ORD\">\n",
    "      <mstyle scriptlevel=\"0\" displaystyle=\"true\">\n",
    "        <mi>n</mi>\n",
    "        <mi>log</mi>\n",
    "        <mo>⁡<!-- ⁡ --></mo>\n",
    "        <mi>n</mi>\n",
    "      </mstyle>\n",
    "    </mrow>\n",
    "    <annotation encoding=\"application/x-tex\">{\\displaystyle n\\log n}</annotation>\n",
    "  </semantics>\n",
    "</math></span><img src=\"https://wikimedia.org/api/rest_v1/media/math/render/svg/560dfdce0353a330e03e4b3e0b7ca6e484bb40fb\" class=\"mwe-math-fallback-image-inline\" aria-hidden=\"true\" style=\"vertical-align: -0.671ex; width:6.535ex; height:2.509ex;\" alt=\"n\\log n\"></span></span>\n",
    "</td>\n",
    "<td style=\"background:#dfd\"><span data-sort-value=\"20\"><span class=\"mwe-math-element\"><span class=\"mwe-math-mathml-inline mwe-math-mathml-a11y\" style=\"display: none;\"><math xmlns=\"http://www.w3.org/1998/Math/MathML\" alttext=\"{\\displaystyle n\\log n}\">\n",
    "  <semantics>\n",
    "    <mrow class=\"MJX-TeXAtom-ORD\">\n",
    "      <mstyle scriptlevel=\"0\" displaystyle=\"true\">\n",
    "        <mi>n</mi>\n",
    "        <mi>log</mi>\n",
    "        <mo>⁡<!-- ⁡ --></mo>\n",
    "        <mi>n</mi>\n",
    "      </mstyle>\n",
    "    </mrow>\n",
    "    <annotation encoding=\"application/x-tex\">{\\displaystyle n\\log n}</annotation>\n",
    "  </semantics>\n",
    "</math></span><img src=\"https://wikimedia.org/api/rest_v1/media/math/render/svg/560dfdce0353a330e03e4b3e0b7ca6e484bb40fb\" class=\"mwe-math-fallback-image-inline\" aria-hidden=\"true\" style=\"vertical-align: -0.671ex; width:6.535ex; height:2.509ex;\" alt=\"n\\log n\"></span></span>\n",
    "</td>\n",
    "<td style=\"background:#dfd\"><span data-sort-value=\"20\"><span class=\"mwe-math-element\"><span class=\"mwe-math-mathml-inline mwe-math-mathml-a11y\" style=\"display: none;\"><math xmlns=\"http://www.w3.org/1998/Math/MathML\" alttext=\"{\\displaystyle n\\log n}\">\n",
    "  <semantics>\n",
    "    <mrow class=\"MJX-TeXAtom-ORD\">\n",
    "      <mstyle scriptlevel=\"0\" displaystyle=\"true\">\n",
    "        <mi>n</mi>\n",
    "        <mi>log</mi>\n",
    "        <mo>⁡<!-- ⁡ --></mo>\n",
    "        <mi>n</mi>\n",
    "      </mstyle>\n",
    "    </mrow>\n",
    "    <annotation encoding=\"application/x-tex\">{\\displaystyle n\\log n}</annotation>\n",
    "  </semantics>\n",
    "</math></span><img src=\"https://wikimedia.org/api/rest_v1/media/math/render/svg/560dfdce0353a330e03e4b3e0b7ca6e484bb40fb\" class=\"mwe-math-fallback-image-inline\" aria-hidden=\"true\" style=\"vertical-align: -0.671ex; width:6.535ex; height:2.509ex;\" alt=\"n\\log n\"></span></span>\n",
    "</td>\n",
    "<td style=\"background:#dfd\"><span data-sort-value=\"00\"><span class=\"mwe-math-element\"><span class=\"mwe-math-mathml-inline mwe-math-mathml-a11y\" style=\"display: none;\"><math xmlns=\"http://www.w3.org/1998/Math/MathML\" alttext=\"{\\displaystyle 1}\">\n",
    "  <semantics>\n",
    "    <mrow class=\"MJX-TeXAtom-ORD\">\n",
    "      <mstyle scriptlevel=\"0\" displaystyle=\"true\">\n",
    "        <mn>1</mn>\n",
    "      </mstyle>\n",
    "    </mrow>\n",
    "    <annotation encoding=\"application/x-tex\">{\\displaystyle 1}</annotation>\n",
    "  </semantics>\n",
    "</math></span><img src=\"https://wikimedia.org/api/rest_v1/media/math/render/svg/92d98b82a3778f043108d4e20960a9193df57cbf\" class=\"mwe-math-fallback-image-inline\" aria-hidden=\"true\" style=\"vertical-align: -0.338ex; width:1.162ex; height:2.176ex;\" alt=\"1\"></span></span>\n",
    "</td>\n",
    "<td style=\"background:#fdd\"><span data-sort-value=\"1\">Non</span>\n",
    "</td></tr>\n",
    "<tr align=\"center\">\n",
    "<td><a href=\"/wiki/Tri_par_insertion\" title=\"Tri par insertion\">Tri par insertion</a>\n",
    "</td>\n",
    "<td style=\"background:#dfd\"><span data-sort-value=\"15\"><span class=\"mwe-math-element\"><span class=\"mwe-math-mathml-inline mwe-math-mathml-a11y\" style=\"display: none;\"><math xmlns=\"http://www.w3.org/1998/Math/MathML\" alttext=\"{\\displaystyle n}\">\n",
    "  <semantics>\n",
    "    <mrow class=\"MJX-TeXAtom-ORD\">\n",
    "      <mstyle scriptlevel=\"0\" displaystyle=\"true\">\n",
    "        <mi>n</mi>\n",
    "      </mstyle>\n",
    "    </mrow>\n",
    "    <annotation encoding=\"application/x-tex\">{\\displaystyle n}</annotation>\n",
    "  </semantics>\n",
    "</math></span><img src=\"https://wikimedia.org/api/rest_v1/media/math/render/svg/a601995d55609f2d9f5e233e36fbe9ea26011b3b\" class=\"mwe-math-fallback-image-inline\" aria-hidden=\"true\" style=\"vertical-align: -0.338ex; width:1.395ex; height:1.676ex;\" alt=\"n\"></span></span>\n",
    "</td>\n",
    "<td style=\"background:#fdd\"><span data-sort-value=\"25\"><span class=\"mwe-math-element\"><span class=\"mwe-math-mathml-inline mwe-math-mathml-a11y\" style=\"display: none;\"><math xmlns=\"http://www.w3.org/1998/Math/MathML\" alttext=\"{\\displaystyle n^{2}}\">\n",
    "  <semantics>\n",
    "    <mrow class=\"MJX-TeXAtom-ORD\">\n",
    "      <mstyle scriptlevel=\"0\" displaystyle=\"true\">\n",
    "        <msup>\n",
    "          <mi>n</mi>\n",
    "          <mrow class=\"MJX-TeXAtom-ORD\">\n",
    "            <mn>2</mn>\n",
    "          </mrow>\n",
    "        </msup>\n",
    "      </mstyle>\n",
    "    </mrow>\n",
    "    <annotation encoding=\"application/x-tex\">{\\displaystyle n^{2}}</annotation>\n",
    "  </semantics>\n",
    "</math></span><img src=\"https://wikimedia.org/api/rest_v1/media/math/render/svg/ac9810bbdafe4a6a8061338db0f74e25b7952620\" class=\"mwe-math-fallback-image-inline\" aria-hidden=\"true\" style=\"vertical-align: -0.338ex; width:2.449ex; height:2.676ex;\" alt=\"n^{2}\"></span></span>\n",
    "</td>\n",
    "<td style=\"background:#fdd\"><span data-sort-value=\"25\"><span class=\"mwe-math-element\"><span class=\"mwe-math-mathml-inline mwe-math-mathml-a11y\" style=\"display: none;\"><math xmlns=\"http://www.w3.org/1998/Math/MathML\" alttext=\"{\\displaystyle n^{2}}\">\n",
    "  <semantics>\n",
    "    <mrow class=\"MJX-TeXAtom-ORD\">\n",
    "      <mstyle scriptlevel=\"0\" displaystyle=\"true\">\n",
    "        <msup>\n",
    "          <mi>n</mi>\n",
    "          <mrow class=\"MJX-TeXAtom-ORD\">\n",
    "            <mn>2</mn>\n",
    "          </mrow>\n",
    "        </msup>\n",
    "      </mstyle>\n",
    "    </mrow>\n",
    "    <annotation encoding=\"application/x-tex\">{\\displaystyle n^{2}}</annotation>\n",
    "  </semantics>\n",
    "</math></span><img src=\"https://wikimedia.org/api/rest_v1/media/math/render/svg/ac9810bbdafe4a6a8061338db0f74e25b7952620\" class=\"mwe-math-fallback-image-inline\" aria-hidden=\"true\" style=\"vertical-align: -0.338ex; width:2.449ex; height:2.676ex;\" alt=\"n^{2}\"></span></span>\n",
    "</td>\n",
    "<td style=\"background:#dfd\"><span data-sort-value=\"00\"><span class=\"mwe-math-element\"><span class=\"mwe-math-mathml-inline mwe-math-mathml-a11y\" style=\"display: none;\"><math xmlns=\"http://www.w3.org/1998/Math/MathML\" alttext=\"{\\displaystyle 1}\">\n",
    "  <semantics>\n",
    "    <mrow class=\"MJX-TeXAtom-ORD\">\n",
    "      <mstyle scriptlevel=\"0\" displaystyle=\"true\">\n",
    "        <mn>1</mn>\n",
    "      </mstyle>\n",
    "    </mrow>\n",
    "    <annotation encoding=\"application/x-tex\">{\\displaystyle 1}</annotation>\n",
    "  </semantics>\n",
    "</math></span><img src=\"https://wikimedia.org/api/rest_v1/media/math/render/svg/92d98b82a3778f043108d4e20960a9193df57cbf\" class=\"mwe-math-fallback-image-inline\" aria-hidden=\"true\" style=\"vertical-align: -0.338ex; width:1.162ex; height:2.176ex;\" alt=\"1\"></span></span>\n",
    "</td>\n",
    "<td style=\"background:#dfd\"><span data-sort-value=\"0\">Oui</span>\n",
    "</td></tr>\n",
    "<tr align=\"center\">\n",
    "<td><a href=\"/wiki/Introsort\" title=\"Introsort\">Introsort</a>\n",
    "</td>\n",
    "<td style=\"background:#dfd\"><span data-sort-value=\"20\"><span class=\"mwe-math-element\"><span class=\"mwe-math-mathml-inline mwe-math-mathml-a11y\" style=\"display: none;\"><math xmlns=\"http://www.w3.org/1998/Math/MathML\" alttext=\"{\\displaystyle n\\log n}\">\n",
    "  <semantics>\n",
    "    <mrow class=\"MJX-TeXAtom-ORD\">\n",
    "      <mstyle scriptlevel=\"0\" displaystyle=\"true\">\n",
    "        <mi>n</mi>\n",
    "        <mi>log</mi>\n",
    "        <mo>⁡<!-- ⁡ --></mo>\n",
    "        <mi>n</mi>\n",
    "      </mstyle>\n",
    "    </mrow>\n",
    "    <annotation encoding=\"application/x-tex\">{\\displaystyle n\\log n}</annotation>\n",
    "  </semantics>\n",
    "</math></span><img src=\"https://wikimedia.org/api/rest_v1/media/math/render/svg/560dfdce0353a330e03e4b3e0b7ca6e484bb40fb\" class=\"mwe-math-fallback-image-inline\" aria-hidden=\"true\" style=\"vertical-align: -0.671ex; width:6.535ex; height:2.509ex;\" alt=\"n\\log n\"></span></span>\n",
    "</td>\n",
    "<td style=\"background:#dfd\"><span data-sort-value=\"20\"><span class=\"mwe-math-element\"><span class=\"mwe-math-mathml-inline mwe-math-mathml-a11y\" style=\"display: none;\"><math xmlns=\"http://www.w3.org/1998/Math/MathML\" alttext=\"{\\displaystyle n\\log n}\">\n",
    "  <semantics>\n",
    "    <mrow class=\"MJX-TeXAtom-ORD\">\n",
    "      <mstyle scriptlevel=\"0\" displaystyle=\"true\">\n",
    "        <mi>n</mi>\n",
    "        <mi>log</mi>\n",
    "        <mo>⁡<!-- ⁡ --></mo>\n",
    "        <mi>n</mi>\n",
    "      </mstyle>\n",
    "    </mrow>\n",
    "    <annotation encoding=\"application/x-tex\">{\\displaystyle n\\log n}</annotation>\n",
    "  </semantics>\n",
    "</math></span><img src=\"https://wikimedia.org/api/rest_v1/media/math/render/svg/560dfdce0353a330e03e4b3e0b7ca6e484bb40fb\" class=\"mwe-math-fallback-image-inline\" aria-hidden=\"true\" style=\"vertical-align: -0.671ex; width:6.535ex; height:2.509ex;\" alt=\"n\\log n\"></span></span>\n",
    "</td>\n",
    "<td style=\"background:#dfd\"><span data-sort-value=\"20\"><span class=\"mwe-math-element\"><span class=\"mwe-math-mathml-inline mwe-math-mathml-a11y\" style=\"display: none;\"><math xmlns=\"http://www.w3.org/1998/Math/MathML\" alttext=\"{\\displaystyle n\\log n}\">\n",
    "  <semantics>\n",
    "    <mrow class=\"MJX-TeXAtom-ORD\">\n",
    "      <mstyle scriptlevel=\"0\" displaystyle=\"true\">\n",
    "        <mi>n</mi>\n",
    "        <mi>log</mi>\n",
    "        <mo>⁡<!-- ⁡ --></mo>\n",
    "        <mi>n</mi>\n",
    "      </mstyle>\n",
    "    </mrow>\n",
    "    <annotation encoding=\"application/x-tex\">{\\displaystyle n\\log n}</annotation>\n",
    "  </semantics>\n",
    "</math></span><img src=\"https://wikimedia.org/api/rest_v1/media/math/render/svg/560dfdce0353a330e03e4b3e0b7ca6e484bb40fb\" class=\"mwe-math-fallback-image-inline\" aria-hidden=\"true\" style=\"vertical-align: -0.671ex; width:6.535ex; height:2.509ex;\" alt=\"n\\log n\"></span></span>\n",
    "</td>\n",
    "<td style=\"background:#ffd\"><span data-sort-value=\"05\"><span class=\"mwe-math-element\"><span class=\"mwe-math-mathml-inline mwe-math-mathml-a11y\" style=\"display: none;\"><math xmlns=\"http://www.w3.org/1998/Math/MathML\" alttext=\"{\\displaystyle \\log n}\">\n",
    "  <semantics>\n",
    "    <mrow class=\"MJX-TeXAtom-ORD\">\n",
    "      <mstyle scriptlevel=\"0\" displaystyle=\"true\">\n",
    "        <mi>log</mi>\n",
    "        <mo>⁡<!-- ⁡ --></mo>\n",
    "        <mi>n</mi>\n",
    "      </mstyle>\n",
    "    </mrow>\n",
    "    <annotation encoding=\"application/x-tex\">{\\displaystyle \\log n}</annotation>\n",
    "  </semantics>\n",
    "</math></span><img src=\"https://wikimedia.org/api/rest_v1/media/math/render/svg/317ab5292da7c7935aec01a570461fe0613b21d5\" class=\"mwe-math-fallback-image-inline\" aria-hidden=\"true\" style=\"vertical-align: -0.671ex; width:4.754ex; height:2.509ex;\" alt=\"\\log n\"></span></span>\n",
    "</td>\n",
    "<td style=\"background:#fdd\"><span data-sort-value=\"1\">Non</span>\n",
    "</td></tr>\n",
    "<tr align=\"center\">\n",
    "<td><a href=\"/wiki/Tri_par_s%C3%A9lection\" title=\"Tri par sélection\">Tri par sélection</a>\n",
    "</td>\n",
    "<td style=\"background:#fdd\"><span data-sort-value=\"25\"><span class=\"mwe-math-element\"><span class=\"mwe-math-mathml-inline mwe-math-mathml-a11y\" style=\"display: none;\"><math xmlns=\"http://www.w3.org/1998/Math/MathML\" alttext=\"{\\displaystyle n^{2}}\">\n",
    "  <semantics>\n",
    "    <mrow class=\"MJX-TeXAtom-ORD\">\n",
    "      <mstyle scriptlevel=\"0\" displaystyle=\"true\">\n",
    "        <msup>\n",
    "          <mi>n</mi>\n",
    "          <mrow class=\"MJX-TeXAtom-ORD\">\n",
    "            <mn>2</mn>\n",
    "          </mrow>\n",
    "        </msup>\n",
    "      </mstyle>\n",
    "    </mrow>\n",
    "    <annotation encoding=\"application/x-tex\">{\\displaystyle n^{2}}</annotation>\n",
    "  </semantics>\n",
    "</math></span><img src=\"https://wikimedia.org/api/rest_v1/media/math/render/svg/ac9810bbdafe4a6a8061338db0f74e25b7952620\" class=\"mwe-math-fallback-image-inline\" aria-hidden=\"true\" style=\"vertical-align: -0.338ex; width:2.449ex; height:2.676ex;\" alt=\"n^{2}\"></span></span>\n",
    "</td>\n",
    "<td style=\"background:#fdd\"><span data-sort-value=\"25\"><span class=\"mwe-math-element\"><span class=\"mwe-math-mathml-inline mwe-math-mathml-a11y\" style=\"display: none;\"><math xmlns=\"http://www.w3.org/1998/Math/MathML\" alttext=\"{\\displaystyle n^{2}}\">\n",
    "  <semantics>\n",
    "    <mrow class=\"MJX-TeXAtom-ORD\">\n",
    "      <mstyle scriptlevel=\"0\" displaystyle=\"true\">\n",
    "        <msup>\n",
    "          <mi>n</mi>\n",
    "          <mrow class=\"MJX-TeXAtom-ORD\">\n",
    "            <mn>2</mn>\n",
    "          </mrow>\n",
    "        </msup>\n",
    "      </mstyle>\n",
    "    </mrow>\n",
    "    <annotation encoding=\"application/x-tex\">{\\displaystyle n^{2}}</annotation>\n",
    "  </semantics>\n",
    "</math></span><img src=\"https://wikimedia.org/api/rest_v1/media/math/render/svg/ac9810bbdafe4a6a8061338db0f74e25b7952620\" class=\"mwe-math-fallback-image-inline\" aria-hidden=\"true\" style=\"vertical-align: -0.338ex; width:2.449ex; height:2.676ex;\" alt=\"n^{2}\"></span></span>\n",
    "</td>\n",
    "<td style=\"background:#fdd\"><span data-sort-value=\"25\"><span class=\"mwe-math-element\"><span class=\"mwe-math-mathml-inline mwe-math-mathml-a11y\" style=\"display: none;\"><math xmlns=\"http://www.w3.org/1998/Math/MathML\" alttext=\"{\\displaystyle n^{2}}\">\n",
    "  <semantics>\n",
    "    <mrow class=\"MJX-TeXAtom-ORD\">\n",
    "      <mstyle scriptlevel=\"0\" displaystyle=\"true\">\n",
    "        <msup>\n",
    "          <mi>n</mi>\n",
    "          <mrow class=\"MJX-TeXAtom-ORD\">\n",
    "            <mn>2</mn>\n",
    "          </mrow>\n",
    "        </msup>\n",
    "      </mstyle>\n",
    "    </mrow>\n",
    "    <annotation encoding=\"application/x-tex\">{\\displaystyle n^{2}}</annotation>\n",
    "  </semantics>\n",
    "</math></span><img src=\"https://wikimedia.org/api/rest_v1/media/math/render/svg/ac9810bbdafe4a6a8061338db0f74e25b7952620\" class=\"mwe-math-fallback-image-inline\" aria-hidden=\"true\" style=\"vertical-align: -0.338ex; width:2.449ex; height:2.676ex;\" alt=\"n^{2}\"></span></span>\n",
    "</td>\n",
    "<td style=\"background:#dfd\"><span data-sort-value=\"00\"><span class=\"mwe-math-element\"><span class=\"mwe-math-mathml-inline mwe-math-mathml-a11y\" style=\"display: none;\"><math xmlns=\"http://www.w3.org/1998/Math/MathML\" alttext=\"{\\displaystyle 1}\">\n",
    "  <semantics>\n",
    "    <mrow class=\"MJX-TeXAtom-ORD\">\n",
    "      <mstyle scriptlevel=\"0\" displaystyle=\"true\">\n",
    "        <mn>1</mn>\n",
    "      </mstyle>\n",
    "    </mrow>\n",
    "    <annotation encoding=\"application/x-tex\">{\\displaystyle 1}</annotation>\n",
    "  </semantics>\n",
    "</math></span><img src=\"https://wikimedia.org/api/rest_v1/media/math/render/svg/92d98b82a3778f043108d4e20960a9193df57cbf\" class=\"mwe-math-fallback-image-inline\" aria-hidden=\"true\" style=\"vertical-align: -0.338ex; width:1.162ex; height:2.176ex;\" alt=\"1\"></span></span>\n",
    "</td>\n",
    "<td style=\"background:#fdd\"><span data-sort-value=\"1\">Non</span>\n",
    "</td></tr>\n",
    "<tr align=\"center\">\n",
    "<td><a href=\"/wiki/Timsort\" title=\"Timsort\">Timsort</a>\n",
    "</td>\n",
    "<td style=\"background:#dfd\"><span data-sort-value=\"15\"><span class=\"mwe-math-element\"><span class=\"mwe-math-mathml-inline mwe-math-mathml-a11y\" style=\"display: none;\"><math xmlns=\"http://www.w3.org/1998/Math/MathML\" alttext=\"{\\displaystyle n}\">\n",
    "  <semantics>\n",
    "    <mrow class=\"MJX-TeXAtom-ORD\">\n",
    "      <mstyle scriptlevel=\"0\" displaystyle=\"true\">\n",
    "        <mi>n</mi>\n",
    "      </mstyle>\n",
    "    </mrow>\n",
    "    <annotation encoding=\"application/x-tex\">{\\displaystyle n}</annotation>\n",
    "  </semantics>\n",
    "</math></span><img src=\"https://wikimedia.org/api/rest_v1/media/math/render/svg/a601995d55609f2d9f5e233e36fbe9ea26011b3b\" class=\"mwe-math-fallback-image-inline\" aria-hidden=\"true\" style=\"vertical-align: -0.338ex; width:1.395ex; height:1.676ex;\" alt=\"n\"></span></span>\n",
    "</td>\n",
    "<td style=\"background:#dfd\"><span data-sort-value=\"20\"><span class=\"mwe-math-element\"><span class=\"mwe-math-mathml-inline mwe-math-mathml-a11y\" style=\"display: none;\"><math xmlns=\"http://www.w3.org/1998/Math/MathML\" alttext=\"{\\displaystyle n\\log n}\">\n",
    "  <semantics>\n",
    "    <mrow class=\"MJX-TeXAtom-ORD\">\n",
    "      <mstyle scriptlevel=\"0\" displaystyle=\"true\">\n",
    "        <mi>n</mi>\n",
    "        <mi>log</mi>\n",
    "        <mo>⁡<!-- ⁡ --></mo>\n",
    "        <mi>n</mi>\n",
    "      </mstyle>\n",
    "    </mrow>\n",
    "    <annotation encoding=\"application/x-tex\">{\\displaystyle n\\log n}</annotation>\n",
    "  </semantics>\n",
    "</math></span><img src=\"https://wikimedia.org/api/rest_v1/media/math/render/svg/560dfdce0353a330e03e4b3e0b7ca6e484bb40fb\" class=\"mwe-math-fallback-image-inline\" aria-hidden=\"true\" style=\"vertical-align: -0.671ex; width:6.535ex; height:2.509ex;\" alt=\"n\\log n\"></span></span>\n",
    "</td>\n",
    "<td style=\"background:#dfd\"><span data-sort-value=\"20\"><span class=\"mwe-math-element\"><span class=\"mwe-math-mathml-inline mwe-math-mathml-a11y\" style=\"display: none;\"><math xmlns=\"http://www.w3.org/1998/Math/MathML\" alttext=\"{\\displaystyle n\\log n}\">\n",
    "  <semantics>\n",
    "    <mrow class=\"MJX-TeXAtom-ORD\">\n",
    "      <mstyle scriptlevel=\"0\" displaystyle=\"true\">\n",
    "        <mi>n</mi>\n",
    "        <mi>log</mi>\n",
    "        <mo>⁡<!-- ⁡ --></mo>\n",
    "        <mi>n</mi>\n",
    "      </mstyle>\n",
    "    </mrow>\n",
    "    <annotation encoding=\"application/x-tex\">{\\displaystyle n\\log n}</annotation>\n",
    "  </semantics>\n",
    "</math></span><img src=\"https://wikimedia.org/api/rest_v1/media/math/render/svg/560dfdce0353a330e03e4b3e0b7ca6e484bb40fb\" class=\"mwe-math-fallback-image-inline\" aria-hidden=\"true\" style=\"vertical-align: -0.671ex; width:6.535ex; height:2.509ex;\" alt=\"n\\log n\"></span></span>\n",
    "</td>\n",
    "<td style=\"background:#fdd\"><span data-sort-value=\"15\"><span class=\"mwe-math-element\"><span class=\"mwe-math-mathml-inline mwe-math-mathml-a11y\" style=\"display: none;\"><math xmlns=\"http://www.w3.org/1998/Math/MathML\" alttext=\"{\\displaystyle n}\">\n",
    "  <semantics>\n",
    "    <mrow class=\"MJX-TeXAtom-ORD\">\n",
    "      <mstyle scriptlevel=\"0\" displaystyle=\"true\">\n",
    "        <mi>n</mi>\n",
    "      </mstyle>\n",
    "    </mrow>\n",
    "    <annotation encoding=\"application/x-tex\">{\\displaystyle n}</annotation>\n",
    "  </semantics>\n",
    "</math></span><img src=\"https://wikimedia.org/api/rest_v1/media/math/render/svg/a601995d55609f2d9f5e233e36fbe9ea26011b3b\" class=\"mwe-math-fallback-image-inline\" aria-hidden=\"true\" style=\"vertical-align: -0.338ex; width:1.395ex; height:1.676ex;\" alt=\"n\"></span></span>\n",
    "</td>\n",
    "<td style=\"background:#dfd\"><span data-sort-value=\"0\">Oui</span>\n",
    "</td></tr>\n",
    "<tr align=\"center\">\n",
    "<td><a href=\"/wiki/Tri_de_Shell\" title=\"Tri de Shell\">Tri de Shell</a>\n",
    "</td>\n",
    "<td style=\"background:#dfd\"><span data-sort-value=\"15\"><span class=\"mwe-math-element\"><span class=\"mwe-math-mathml-inline mwe-math-mathml-a11y\" style=\"display: none;\"><math xmlns=\"http://www.w3.org/1998/Math/MathML\" alttext=\"{\\displaystyle n}\">\n",
    "  <semantics>\n",
    "    <mrow class=\"MJX-TeXAtom-ORD\">\n",
    "      <mstyle scriptlevel=\"0\" displaystyle=\"true\">\n",
    "        <mi>n</mi>\n",
    "      </mstyle>\n",
    "    </mrow>\n",
    "    <annotation encoding=\"application/x-tex\">{\\displaystyle n}</annotation>\n",
    "  </semantics>\n",
    "</math></span><img src=\"https://wikimedia.org/api/rest_v1/media/math/render/svg/a601995d55609f2d9f5e233e36fbe9ea26011b3b\" class=\"mwe-math-fallback-image-inline\" aria-hidden=\"true\" style=\"vertical-align: -0.338ex; width:1.395ex; height:1.676ex;\" alt=\"n\"></span></span>\n",
    "</td>\n",
    "<td style=\"background:#ffd\"><span data-sort-value=\"23\"><span class=\"mwe-math-element\"><span class=\"mwe-math-mathml-inline mwe-math-mathml-a11y\" style=\"display: none;\"><math xmlns=\"http://www.w3.org/1998/Math/MathML\" alttext=\"{\\displaystyle n\\log ^{2}n}\">\n",
    "  <semantics>\n",
    "    <mrow class=\"MJX-TeXAtom-ORD\">\n",
    "      <mstyle scriptlevel=\"0\" displaystyle=\"true\">\n",
    "        <mi>n</mi>\n",
    "        <msup>\n",
    "          <mi>log</mi>\n",
    "          <mrow class=\"MJX-TeXAtom-ORD\">\n",
    "            <mn>2</mn>\n",
    "          </mrow>\n",
    "        </msup>\n",
    "        <mo>⁡<!-- ⁡ --></mo>\n",
    "        <mi>n</mi>\n",
    "      </mstyle>\n",
    "    </mrow>\n",
    "    <annotation encoding=\"application/x-tex\">{\\displaystyle n\\log ^{2}n}</annotation>\n",
    "  </semantics>\n",
    "</math></span><img src=\"https://wikimedia.org/api/rest_v1/media/math/render/svg/8dcc3d3ab4d647731efd75119a13e8febd1a7e44\" class=\"mwe-math-fallback-image-inline\" aria-hidden=\"true\" style=\"vertical-align: -0.671ex; width:7.59ex; height:3.009ex;\" alt=\"n \\log^2 n\"></span><br>ou<br><span class=\"mwe-math-element\"><span class=\"mwe-math-mathml-inline mwe-math-mathml-a11y\" style=\"display: none;\"><math xmlns=\"http://www.w3.org/1998/Math/MathML\" alttext=\"{\\displaystyle n^{3/2}}\">\n",
    "  <semantics>\n",
    "    <mrow class=\"MJX-TeXAtom-ORD\">\n",
    "      <mstyle scriptlevel=\"0\" displaystyle=\"true\">\n",
    "        <msup>\n",
    "          <mi>n</mi>\n",
    "          <mrow class=\"MJX-TeXAtom-ORD\">\n",
    "            <mn>3</mn>\n",
    "            <mrow class=\"MJX-TeXAtom-ORD\">\n",
    "              <mo>/</mo>\n",
    "            </mrow>\n",
    "            <mn>2</mn>\n",
    "          </mrow>\n",
    "        </msup>\n",
    "      </mstyle>\n",
    "    </mrow>\n",
    "    <annotation encoding=\"application/x-tex\">{\\displaystyle n^{3/2}}</annotation>\n",
    "  </semantics>\n",
    "</math></span><img src=\"https://wikimedia.org/api/rest_v1/media/math/render/svg/7101d69221defce7e4590ac55cfb4f22ea1732b2\" class=\"mwe-math-fallback-image-inline\" aria-hidden=\"true\" style=\"vertical-align: -0.338ex; width:4.093ex; height:2.843ex;\" alt=\"n^{3/2}\"></span></span>\n",
    "</td>\n",
    "<td style=\"background:#ffd\"><span data-sort-value=\"23\"><span class=\"mwe-math-element\"><span class=\"mwe-math-mathml-inline mwe-math-mathml-a11y\" style=\"display: none;\"><math xmlns=\"http://www.w3.org/1998/Math/MathML\" alttext=\"{\\displaystyle n\\log ^{2}n}\">\n",
    "  <semantics>\n",
    "    <mrow class=\"MJX-TeXAtom-ORD\">\n",
    "      <mstyle scriptlevel=\"0\" displaystyle=\"true\">\n",
    "        <mi>n</mi>\n",
    "        <msup>\n",
    "          <mi>log</mi>\n",
    "          <mrow class=\"MJX-TeXAtom-ORD\">\n",
    "            <mn>2</mn>\n",
    "          </mrow>\n",
    "        </msup>\n",
    "        <mo>⁡<!-- ⁡ --></mo>\n",
    "        <mi>n</mi>\n",
    "      </mstyle>\n",
    "    </mrow>\n",
    "    <annotation encoding=\"application/x-tex\">{\\displaystyle n\\log ^{2}n}</annotation>\n",
    "  </semantics>\n",
    "</math></span><img src=\"https://wikimedia.org/api/rest_v1/media/math/render/svg/8dcc3d3ab4d647731efd75119a13e8febd1a7e44\" class=\"mwe-math-fallback-image-inline\" aria-hidden=\"true\" style=\"vertical-align: -0.671ex; width:7.59ex; height:3.009ex;\" alt=\"n \\log^2 n\"></span> pour la meilleure<br> suite d'espacements connue</span>\n",
    "</td>\n",
    "<td style=\"background:#dfd\"><span data-sort-value=\"00\"><span class=\"mwe-math-element\"><span class=\"mwe-math-mathml-inline mwe-math-mathml-a11y\" style=\"display: none;\"><math xmlns=\"http://www.w3.org/1998/Math/MathML\" alttext=\"{\\displaystyle 1}\">\n",
    "  <semantics>\n",
    "    <mrow class=\"MJX-TeXAtom-ORD\">\n",
    "      <mstyle scriptlevel=\"0\" displaystyle=\"true\">\n",
    "        <mn>1</mn>\n",
    "      </mstyle>\n",
    "    </mrow>\n",
    "    <annotation encoding=\"application/x-tex\">{\\displaystyle 1}</annotation>\n",
    "  </semantics>\n",
    "</math></span><img src=\"https://wikimedia.org/api/rest_v1/media/math/render/svg/92d98b82a3778f043108d4e20960a9193df57cbf\" class=\"mwe-math-fallback-image-inline\" aria-hidden=\"true\" style=\"vertical-align: -0.338ex; width:1.162ex; height:2.176ex;\" alt=\"1\"></span></span>\n",
    "</td>\n",
    "<td style=\"background:#fdd\"><span data-sort-value=\"1\">Non</span>\n",
    "</td></tr>\n",
    "<tr align=\"center\">\n",
    "<td><a href=\"/wiki/Tri_%C3%A0_bulles\" title=\"Tri à bulles\">Tri à bulles</a>\n",
    "</td>\n",
    "<td style=\"background:#dfd\"><span data-sort-value=\"15\"><span class=\"mwe-math-element\"><span class=\"mwe-math-mathml-inline mwe-math-mathml-a11y\" style=\"display: none;\"><math xmlns=\"http://www.w3.org/1998/Math/MathML\" alttext=\"{\\displaystyle n}\">\n",
    "  <semantics>\n",
    "    <mrow class=\"MJX-TeXAtom-ORD\">\n",
    "      <mstyle scriptlevel=\"0\" displaystyle=\"true\">\n",
    "        <mi>n</mi>\n",
    "      </mstyle>\n",
    "    </mrow>\n",
    "    <annotation encoding=\"application/x-tex\">{\\displaystyle n}</annotation>\n",
    "  </semantics>\n",
    "</math></span><img src=\"https://wikimedia.org/api/rest_v1/media/math/render/svg/a601995d55609f2d9f5e233e36fbe9ea26011b3b\" class=\"mwe-math-fallback-image-inline\" aria-hidden=\"true\" style=\"vertical-align: -0.338ex; width:1.395ex; height:1.676ex;\" alt=\"n\"></span></span>\n",
    "</td>\n",
    "<td style=\"background:#fdd\"><span data-sort-value=\"25\"><span class=\"mwe-math-element\"><span class=\"mwe-math-mathml-inline mwe-math-mathml-a11y\" style=\"display: none;\"><math xmlns=\"http://www.w3.org/1998/Math/MathML\" alttext=\"{\\displaystyle n^{2}}\">\n",
    "  <semantics>\n",
    "    <mrow class=\"MJX-TeXAtom-ORD\">\n",
    "      <mstyle scriptlevel=\"0\" displaystyle=\"true\">\n",
    "        <msup>\n",
    "          <mi>n</mi>\n",
    "          <mrow class=\"MJX-TeXAtom-ORD\">\n",
    "            <mn>2</mn>\n",
    "          </mrow>\n",
    "        </msup>\n",
    "      </mstyle>\n",
    "    </mrow>\n",
    "    <annotation encoding=\"application/x-tex\">{\\displaystyle n^{2}}</annotation>\n",
    "  </semantics>\n",
    "</math></span><img src=\"https://wikimedia.org/api/rest_v1/media/math/render/svg/ac9810bbdafe4a6a8061338db0f74e25b7952620\" class=\"mwe-math-fallback-image-inline\" aria-hidden=\"true\" style=\"vertical-align: -0.338ex; width:2.449ex; height:2.676ex;\" alt=\"n^{2}\"></span></span>\n",
    "</td>\n",
    "<td style=\"background:#fdd\"><span data-sort-value=\"25\"><span class=\"mwe-math-element\"><span class=\"mwe-math-mathml-inline mwe-math-mathml-a11y\" style=\"display: none;\"><math xmlns=\"http://www.w3.org/1998/Math/MathML\" alttext=\"{\\displaystyle n^{2}}\">\n",
    "  <semantics>\n",
    "    <mrow class=\"MJX-TeXAtom-ORD\">\n",
    "      <mstyle scriptlevel=\"0\" displaystyle=\"true\">\n",
    "        <msup>\n",
    "          <mi>n</mi>\n",
    "          <mrow class=\"MJX-TeXAtom-ORD\">\n",
    "            <mn>2</mn>\n",
    "          </mrow>\n",
    "        </msup>\n",
    "      </mstyle>\n",
    "    </mrow>\n",
    "    <annotation encoding=\"application/x-tex\">{\\displaystyle n^{2}}</annotation>\n",
    "  </semantics>\n",
    "</math></span><img src=\"https://wikimedia.org/api/rest_v1/media/math/render/svg/ac9810bbdafe4a6a8061338db0f74e25b7952620\" class=\"mwe-math-fallback-image-inline\" aria-hidden=\"true\" style=\"vertical-align: -0.338ex; width:2.449ex; height:2.676ex;\" alt=\"n^{2}\"></span></span>\n",
    "</td>\n",
    "<td style=\"background:#dfd\"><span data-sort-value=\"00\"><span class=\"mwe-math-element\"><span class=\"mwe-math-mathml-inline mwe-math-mathml-a11y\" style=\"display: none;\"><math xmlns=\"http://www.w3.org/1998/Math/MathML\" alttext=\"{\\displaystyle 1}\">\n",
    "  <semantics>\n",
    "    <mrow class=\"MJX-TeXAtom-ORD\">\n",
    "      <mstyle scriptlevel=\"0\" displaystyle=\"true\">\n",
    "        <mn>1</mn>\n",
    "      </mstyle>\n",
    "    </mrow>\n",
    "    <annotation encoding=\"application/x-tex\">{\\displaystyle 1}</annotation>\n",
    "  </semantics>\n",
    "</math></span><img src=\"https://wikimedia.org/api/rest_v1/media/math/render/svg/92d98b82a3778f043108d4e20960a9193df57cbf\" class=\"mwe-math-fallback-image-inline\" aria-hidden=\"true\" style=\"vertical-align: -0.338ex; width:1.162ex; height:2.176ex;\" alt=\"1\"></span></span>\n",
    "</td>\n",
    "<td style=\"background:#dfd\"><span data-sort-value=\"0\">Oui</span>\n",
    "</td></tr>\n",
    "<tr align=\"center\">\n",
    "<td><a href=\"/wiki/Tri_arborescent\" title=\"Tri arborescent\">Tri arborescent</a>\n",
    "</td>\n",
    "<td style=\"background:#dfd\"><span data-sort-value=\"20\"><span class=\"mwe-math-element\"><span class=\"mwe-math-mathml-inline mwe-math-mathml-a11y\" style=\"display: none;\"><math xmlns=\"http://www.w3.org/1998/Math/MathML\" alttext=\"{\\displaystyle n\\log n}\">\n",
    "  <semantics>\n",
    "    <mrow class=\"MJX-TeXAtom-ORD\">\n",
    "      <mstyle scriptlevel=\"0\" displaystyle=\"true\">\n",
    "        <mi>n</mi>\n",
    "        <mi>log</mi>\n",
    "        <mo>⁡<!-- ⁡ --></mo>\n",
    "        <mi>n</mi>\n",
    "      </mstyle>\n",
    "    </mrow>\n",
    "    <annotation encoding=\"application/x-tex\">{\\displaystyle n\\log n}</annotation>\n",
    "  </semantics>\n",
    "</math></span><img src=\"https://wikimedia.org/api/rest_v1/media/math/render/svg/560dfdce0353a330e03e4b3e0b7ca6e484bb40fb\" class=\"mwe-math-fallback-image-inline\" aria-hidden=\"true\" style=\"vertical-align: -0.671ex; width:6.535ex; height:2.509ex;\" alt=\"n\\log n\"></span></span>\n",
    "</td>\n",
    "<td style=\"background:#dfd\"><span data-sort-value=\"20\"><span class=\"mwe-math-element\"><span class=\"mwe-math-mathml-inline mwe-math-mathml-a11y\" style=\"display: none;\"><math xmlns=\"http://www.w3.org/1998/Math/MathML\" alttext=\"{\\displaystyle n\\log n}\">\n",
    "  <semantics>\n",
    "    <mrow class=\"MJX-TeXAtom-ORD\">\n",
    "      <mstyle scriptlevel=\"0\" displaystyle=\"true\">\n",
    "        <mi>n</mi>\n",
    "        <mi>log</mi>\n",
    "        <mo>⁡<!-- ⁡ --></mo>\n",
    "        <mi>n</mi>\n",
    "      </mstyle>\n",
    "    </mrow>\n",
    "    <annotation encoding=\"application/x-tex\">{\\displaystyle n\\log n}</annotation>\n",
    "  </semantics>\n",
    "</math></span><img src=\"https://wikimedia.org/api/rest_v1/media/math/render/svg/560dfdce0353a330e03e4b3e0b7ca6e484bb40fb\" class=\"mwe-math-fallback-image-inline\" aria-hidden=\"true\" style=\"vertical-align: -0.671ex; width:6.535ex; height:2.509ex;\" alt=\"n\\log n\"></span></span>\n",
    "</td>\n",
    "<td style=\"background:#dfd\"><span data-sort-value=\"20\"><span class=\"mwe-math-element\"><span class=\"mwe-math-mathml-inline mwe-math-mathml-a11y\" style=\"display: none;\"><math xmlns=\"http://www.w3.org/1998/Math/MathML\" alttext=\"{\\displaystyle n\\log n}\">\n",
    "  <semantics>\n",
    "    <mrow class=\"MJX-TeXAtom-ORD\">\n",
    "      <mstyle scriptlevel=\"0\" displaystyle=\"true\">\n",
    "        <mi>n</mi>\n",
    "        <mi>log</mi>\n",
    "        <mo>⁡<!-- ⁡ --></mo>\n",
    "        <mi>n</mi>\n",
    "      </mstyle>\n",
    "    </mrow>\n",
    "    <annotation encoding=\"application/x-tex\">{\\displaystyle n\\log n}</annotation>\n",
    "  </semantics>\n",
    "</math></span><img src=\"https://wikimedia.org/api/rest_v1/media/math/render/svg/560dfdce0353a330e03e4b3e0b7ca6e484bb40fb\" class=\"mwe-math-fallback-image-inline\" aria-hidden=\"true\" style=\"vertical-align: -0.671ex; width:6.535ex; height:2.509ex;\" alt=\"n\\log n\"></span> (arbre équilibré)</span>\n",
    "</td>\n",
    "<td style=\"background:#fdd\"><span data-sort-value=\"15\"><span class=\"mwe-math-element\"><span class=\"mwe-math-mathml-inline mwe-math-mathml-a11y\" style=\"display: none;\"><math xmlns=\"http://www.w3.org/1998/Math/MathML\" alttext=\"{\\displaystyle n}\">\n",
    "  <semantics>\n",
    "    <mrow class=\"MJX-TeXAtom-ORD\">\n",
    "      <mstyle scriptlevel=\"0\" displaystyle=\"true\">\n",
    "        <mi>n</mi>\n",
    "      </mstyle>\n",
    "    </mrow>\n",
    "    <annotation encoding=\"application/x-tex\">{\\displaystyle n}</annotation>\n",
    "  </semantics>\n",
    "</math></span><img src=\"https://wikimedia.org/api/rest_v1/media/math/render/svg/a601995d55609f2d9f5e233e36fbe9ea26011b3b\" class=\"mwe-math-fallback-image-inline\" aria-hidden=\"true\" style=\"vertical-align: -0.338ex; width:1.395ex; height:1.676ex;\" alt=\"n\"></span></span>\n",
    "</td>\n",
    "<td style=\"background:#dfd\"><span data-sort-value=\"0\">Oui</span>\n",
    "</td></tr>\n",
    "<tr align=\"center\">\n",
    "<td><a href=\"/wiki/Smoothsort\" title=\"Smoothsort\">Smoothsort</a>\n",
    "</td>\n",
    "<td style=\"background:#dfd\"><span data-sort-value=\"15\"><span class=\"mwe-math-element\"><span class=\"mwe-math-mathml-inline mwe-math-mathml-a11y\" style=\"display: none;\"><math xmlns=\"http://www.w3.org/1998/Math/MathML\" alttext=\"{\\displaystyle n}\">\n",
    "  <semantics>\n",
    "    <mrow class=\"MJX-TeXAtom-ORD\">\n",
    "      <mstyle scriptlevel=\"0\" displaystyle=\"true\">\n",
    "        <mi>n</mi>\n",
    "      </mstyle>\n",
    "    </mrow>\n",
    "    <annotation encoding=\"application/x-tex\">{\\displaystyle n}</annotation>\n",
    "  </semantics>\n",
    "</math></span><img src=\"https://wikimedia.org/api/rest_v1/media/math/render/svg/a601995d55609f2d9f5e233e36fbe9ea26011b3b\" class=\"mwe-math-fallback-image-inline\" aria-hidden=\"true\" style=\"vertical-align: -0.338ex; width:1.395ex; height:1.676ex;\" alt=\"n\"></span></span>\n",
    "</td>\n",
    "<td style=\"background:#dfd\"><span data-sort-value=\"20\"><span class=\"mwe-math-element\"><span class=\"mwe-math-mathml-inline mwe-math-mathml-a11y\" style=\"display: none;\"><math xmlns=\"http://www.w3.org/1998/Math/MathML\" alttext=\"{\\displaystyle n\\log n}\">\n",
    "  <semantics>\n",
    "    <mrow class=\"MJX-TeXAtom-ORD\">\n",
    "      <mstyle scriptlevel=\"0\" displaystyle=\"true\">\n",
    "        <mi>n</mi>\n",
    "        <mi>log</mi>\n",
    "        <mo>⁡<!-- ⁡ --></mo>\n",
    "        <mi>n</mi>\n",
    "      </mstyle>\n",
    "    </mrow>\n",
    "    <annotation encoding=\"application/x-tex\">{\\displaystyle n\\log n}</annotation>\n",
    "  </semantics>\n",
    "</math></span><img src=\"https://wikimedia.org/api/rest_v1/media/math/render/svg/560dfdce0353a330e03e4b3e0b7ca6e484bb40fb\" class=\"mwe-math-fallback-image-inline\" aria-hidden=\"true\" style=\"vertical-align: -0.671ex; width:6.535ex; height:2.509ex;\" alt=\"n\\log n\"></span></span>\n",
    "</td>\n",
    "<td style=\"background:#dfd\"><span data-sort-value=\"20\"><span class=\"mwe-math-element\"><span class=\"mwe-math-mathml-inline mwe-math-mathml-a11y\" style=\"display: none;\"><math xmlns=\"http://www.w3.org/1998/Math/MathML\" alttext=\"{\\displaystyle n\\log n}\">\n",
    "  <semantics>\n",
    "    <mrow class=\"MJX-TeXAtom-ORD\">\n",
    "      <mstyle scriptlevel=\"0\" displaystyle=\"true\">\n",
    "        <mi>n</mi>\n",
    "        <mi>log</mi>\n",
    "        <mo>⁡<!-- ⁡ --></mo>\n",
    "        <mi>n</mi>\n",
    "      </mstyle>\n",
    "    </mrow>\n",
    "    <annotation encoding=\"application/x-tex\">{\\displaystyle n\\log n}</annotation>\n",
    "  </semantics>\n",
    "</math></span><img src=\"https://wikimedia.org/api/rest_v1/media/math/render/svg/560dfdce0353a330e03e4b3e0b7ca6e484bb40fb\" class=\"mwe-math-fallback-image-inline\" aria-hidden=\"true\" style=\"vertical-align: -0.671ex; width:6.535ex; height:2.509ex;\" alt=\"n\\log n\"></span></span>\n",
    "</td>\n",
    "<td style=\"background:#dfd\"><span data-sort-value=\"00\"><span class=\"mwe-math-element\"><span class=\"mwe-math-mathml-inline mwe-math-mathml-a11y\" style=\"display: none;\"><math xmlns=\"http://www.w3.org/1998/Math/MathML\" alttext=\"{\\displaystyle 1}\">\n",
    "  <semantics>\n",
    "    <mrow class=\"MJX-TeXAtom-ORD\">\n",
    "      <mstyle scriptlevel=\"0\" displaystyle=\"true\">\n",
    "        <mn>1</mn>\n",
    "      </mstyle>\n",
    "    </mrow>\n",
    "    <annotation encoding=\"application/x-tex\">{\\displaystyle 1}</annotation>\n",
    "  </semantics>\n",
    "</math></span><img src=\"https://wikimedia.org/api/rest_v1/media/math/render/svg/92d98b82a3778f043108d4e20960a9193df57cbf\" class=\"mwe-math-fallback-image-inline\" aria-hidden=\"true\" style=\"vertical-align: -0.338ex; width:1.162ex; height:2.176ex;\" alt=\"1\"></span></span>\n",
    "</td>\n",
    "<td style=\"background:#fdd\"><span data-sort-value=\"1\">Non</span>\n",
    "</td></tr>\n",
    "<tr align=\"center\">\n",
    "<td><a href=\"/wiki/Tri_cocktail\" title=\"Tri cocktail\">Tri cocktail</a>\n",
    "</td>\n",
    "<td style=\"background:#dfd\"><span data-sort-value=\"15\"><span class=\"mwe-math-element\"><span class=\"mwe-math-mathml-inline mwe-math-mathml-a11y\" style=\"display: none;\"><math xmlns=\"http://www.w3.org/1998/Math/MathML\" alttext=\"{\\displaystyle n}\">\n",
    "  <semantics>\n",
    "    <mrow class=\"MJX-TeXAtom-ORD\">\n",
    "      <mstyle scriptlevel=\"0\" displaystyle=\"true\">\n",
    "        <mi>n</mi>\n",
    "      </mstyle>\n",
    "    </mrow>\n",
    "    <annotation encoding=\"application/x-tex\">{\\displaystyle n}</annotation>\n",
    "  </semantics>\n",
    "</math></span><img src=\"https://wikimedia.org/api/rest_v1/media/math/render/svg/a601995d55609f2d9f5e233e36fbe9ea26011b3b\" class=\"mwe-math-fallback-image-inline\" aria-hidden=\"true\" style=\"vertical-align: -0.338ex; width:1.395ex; height:1.676ex;\" alt=\"n\"></span></span>\n",
    "</td>\n",
    "<td style=\"background:#fdd\"><span data-sort-value=\"25\"><span class=\"mwe-math-element\"><span class=\"mwe-math-mathml-inline mwe-math-mathml-a11y\" style=\"display: none;\"><math xmlns=\"http://www.w3.org/1998/Math/MathML\" alttext=\"{\\displaystyle n^{2}}\">\n",
    "  <semantics>\n",
    "    <mrow class=\"MJX-TeXAtom-ORD\">\n",
    "      <mstyle scriptlevel=\"0\" displaystyle=\"true\">\n",
    "        <msup>\n",
    "          <mi>n</mi>\n",
    "          <mrow class=\"MJX-TeXAtom-ORD\">\n",
    "            <mn>2</mn>\n",
    "          </mrow>\n",
    "        </msup>\n",
    "      </mstyle>\n",
    "    </mrow>\n",
    "    <annotation encoding=\"application/x-tex\">{\\displaystyle n^{2}}</annotation>\n",
    "  </semantics>\n",
    "</math></span><img src=\"https://wikimedia.org/api/rest_v1/media/math/render/svg/ac9810bbdafe4a6a8061338db0f74e25b7952620\" class=\"mwe-math-fallback-image-inline\" aria-hidden=\"true\" style=\"vertical-align: -0.338ex; width:2.449ex; height:2.676ex;\" alt=\"n^{2}\"></span></span>\n",
    "</td>\n",
    "<td style=\"background:#fdd\"><span data-sort-value=\"25\"><span class=\"mwe-math-element\"><span class=\"mwe-math-mathml-inline mwe-math-mathml-a11y\" style=\"display: none;\"><math xmlns=\"http://www.w3.org/1998/Math/MathML\" alttext=\"{\\displaystyle n^{2}}\">\n",
    "  <semantics>\n",
    "    <mrow class=\"MJX-TeXAtom-ORD\">\n",
    "      <mstyle scriptlevel=\"0\" displaystyle=\"true\">\n",
    "        <msup>\n",
    "          <mi>n</mi>\n",
    "          <mrow class=\"MJX-TeXAtom-ORD\">\n",
    "            <mn>2</mn>\n",
    "          </mrow>\n",
    "        </msup>\n",
    "      </mstyle>\n",
    "    </mrow>\n",
    "    <annotation encoding=\"application/x-tex\">{\\displaystyle n^{2}}</annotation>\n",
    "  </semantics>\n",
    "</math></span><img src=\"https://wikimedia.org/api/rest_v1/media/math/render/svg/ac9810bbdafe4a6a8061338db0f74e25b7952620\" class=\"mwe-math-fallback-image-inline\" aria-hidden=\"true\" style=\"vertical-align: -0.338ex; width:2.449ex; height:2.676ex;\" alt=\"n^{2}\"></span></span>\n",
    "</td>\n",
    "<td style=\"background:#dfd\"><span data-sort-value=\"00\"><span class=\"mwe-math-element\"><span class=\"mwe-math-mathml-inline mwe-math-mathml-a11y\" style=\"display: none;\"><math xmlns=\"http://www.w3.org/1998/Math/MathML\" alttext=\"{\\displaystyle 1}\">\n",
    "  <semantics>\n",
    "    <mrow class=\"MJX-TeXAtom-ORD\">\n",
    "      <mstyle scriptlevel=\"0\" displaystyle=\"true\">\n",
    "        <mn>1</mn>\n",
    "      </mstyle>\n",
    "    </mrow>\n",
    "    <annotation encoding=\"application/x-tex\">{\\displaystyle 1}</annotation>\n",
    "  </semantics>\n",
    "</math></span><img src=\"https://wikimedia.org/api/rest_v1/media/math/render/svg/92d98b82a3778f043108d4e20960a9193df57cbf\" class=\"mwe-math-fallback-image-inline\" aria-hidden=\"true\" style=\"vertical-align: -0.338ex; width:1.162ex; height:2.176ex;\" alt=\"1\"></span></span>\n",
    "</td>\n",
    "<td style=\"background:#dfd\"><span data-sort-value=\"0\">Oui</span>\n",
    "</td></tr>\n",
    "<tr align=\"center\">\n",
    "<td><a href=\"/wiki/Tri_%C3%A0_peigne\" title=\"Tri à peigne\">Tri à peigne</a>\n",
    "</td>\n",
    "<td style=\"background:#dfd\"><span data-sort-value=\"15\"><span class=\"mwe-math-element\"><span class=\"mwe-math-mathml-inline mwe-math-mathml-a11y\" style=\"display: none;\"><math xmlns=\"http://www.w3.org/1998/Math/MathML\" alttext=\"{\\displaystyle n}\">\n",
    "  <semantics>\n",
    "    <mrow class=\"MJX-TeXAtom-ORD\">\n",
    "      <mstyle scriptlevel=\"0\" displaystyle=\"true\">\n",
    "        <mi>n</mi>\n",
    "      </mstyle>\n",
    "    </mrow>\n",
    "    <annotation encoding=\"application/x-tex\">{\\displaystyle n}</annotation>\n",
    "  </semantics>\n",
    "</math></span><img src=\"https://wikimedia.org/api/rest_v1/media/math/render/svg/a601995d55609f2d9f5e233e36fbe9ea26011b3b\" class=\"mwe-math-fallback-image-inline\" aria-hidden=\"true\" style=\"vertical-align: -0.338ex; width:1.395ex; height:1.676ex;\" alt=\"n\"></span></span>\n",
    "</td>\n",
    "<td style=\"background:#dfd\"><span data-sort-value=\"15\"><span class=\"mwe-math-element\"><span class=\"mwe-math-mathml-inline mwe-math-mathml-a11y\" style=\"display: none;\"><math xmlns=\"http://www.w3.org/1998/Math/MathML\" alttext=\"{\\displaystyle n\\log n}\">\n",
    "  <semantics>\n",
    "    <mrow class=\"MJX-TeXAtom-ORD\">\n",
    "      <mstyle scriptlevel=\"0\" displaystyle=\"true\">\n",
    "        <mi>n</mi>\n",
    "        <mi>log</mi>\n",
    "        <mo>⁡<!-- ⁡ --></mo>\n",
    "        <mi>n</mi>\n",
    "      </mstyle>\n",
    "    </mrow>\n",
    "    <annotation encoding=\"application/x-tex\">{\\displaystyle n\\log n}</annotation>\n",
    "  </semantics>\n",
    "</math></span><img src=\"https://wikimedia.org/api/rest_v1/media/math/render/svg/560dfdce0353a330e03e4b3e0b7ca6e484bb40fb\" class=\"mwe-math-fallback-image-inline\" aria-hidden=\"true\" style=\"vertical-align: -0.671ex; width:6.535ex; height:2.509ex;\" alt=\"n\\log n\"></span></span>\n",
    "</td>\n",
    "<td style=\"background:#fdd\"><span data-sort-value=\"25\"><span class=\"mwe-math-element\"><span class=\"mwe-math-mathml-inline mwe-math-mathml-a11y\" style=\"display: none;\"><math xmlns=\"http://www.w3.org/1998/Math/MathML\" alttext=\"{\\displaystyle n^{2}}\">\n",
    "  <semantics>\n",
    "    <mrow class=\"MJX-TeXAtom-ORD\">\n",
    "      <mstyle scriptlevel=\"0\" displaystyle=\"true\">\n",
    "        <msup>\n",
    "          <mi>n</mi>\n",
    "          <mrow class=\"MJX-TeXAtom-ORD\">\n",
    "            <mn>2</mn>\n",
    "          </mrow>\n",
    "        </msup>\n",
    "      </mstyle>\n",
    "    </mrow>\n",
    "    <annotation encoding=\"application/x-tex\">{\\displaystyle n^{2}}</annotation>\n",
    "  </semantics>\n",
    "</math></span><img src=\"https://wikimedia.org/api/rest_v1/media/math/render/svg/ac9810bbdafe4a6a8061338db0f74e25b7952620\" class=\"mwe-math-fallback-image-inline\" aria-hidden=\"true\" style=\"vertical-align: -0.338ex; width:2.449ex; height:2.676ex;\" alt=\"n^{2}\"></span></span>\n",
    "</td>\n",
    "<td style=\"background:#dfd\"><span data-sort-value=\"00\"><span class=\"mwe-math-element\"><span class=\"mwe-math-mathml-inline mwe-math-mathml-a11y\" style=\"display: none;\"><math xmlns=\"http://www.w3.org/1998/Math/MathML\" alttext=\"{\\displaystyle 1}\">\n",
    "  <semantics>\n",
    "    <mrow class=\"MJX-TeXAtom-ORD\">\n",
    "      <mstyle scriptlevel=\"0\" displaystyle=\"true\">\n",
    "        <mn>1</mn>\n",
    "      </mstyle>\n",
    "    </mrow>\n",
    "    <annotation encoding=\"application/x-tex\">{\\displaystyle 1}</annotation>\n",
    "  </semantics>\n",
    "</math></span><img src=\"https://wikimedia.org/api/rest_v1/media/math/render/svg/92d98b82a3778f043108d4e20960a9193df57cbf\" class=\"mwe-math-fallback-image-inline\" aria-hidden=\"true\" style=\"vertical-align: -0.338ex; width:1.162ex; height:2.176ex;\" alt=\"1\"></span></span>\n",
    "</td>\n",
    "<td style=\"background:#fdd\"><span data-sort-value=\"1\">Non</span>\n",
    "</td></tr>\n",
    "<tr align=\"center\">\n",
    "<td><a href=\"/wiki/Tri_pair-impair\" title=\"Tri pair-impair\">Tri pair-impair</a>\n",
    "</td>\n",
    "<td style=\"background:#dfd\"><span data-sort-value=\"15\"><span class=\"mwe-math-element\"><span class=\"mwe-math-mathml-inline mwe-math-mathml-a11y\" style=\"display: none;\"><math xmlns=\"http://www.w3.org/1998/Math/MathML\" alttext=\"{\\displaystyle n}\">\n",
    "  <semantics>\n",
    "    <mrow class=\"MJX-TeXAtom-ORD\">\n",
    "      <mstyle scriptlevel=\"0\" displaystyle=\"true\">\n",
    "        <mi>n</mi>\n",
    "      </mstyle>\n",
    "    </mrow>\n",
    "    <annotation encoding=\"application/x-tex\">{\\displaystyle n}</annotation>\n",
    "  </semantics>\n",
    "</math></span><img src=\"https://wikimedia.org/api/rest_v1/media/math/render/svg/a601995d55609f2d9f5e233e36fbe9ea26011b3b\" class=\"mwe-math-fallback-image-inline\" aria-hidden=\"true\" style=\"vertical-align: -0.338ex; width:1.395ex; height:1.676ex;\" alt=\"n\"></span></span>\n",
    "</td>\n",
    "<td style=\"background:#fdd\"><span data-sort-value=\"25\"><span class=\"mwe-math-element\"><span class=\"mwe-math-mathml-inline mwe-math-mathml-a11y\" style=\"display: none;\"><math xmlns=\"http://www.w3.org/1998/Math/MathML\" alttext=\"{\\displaystyle n^{2}}\">\n",
    "  <semantics>\n",
    "    <mrow class=\"MJX-TeXAtom-ORD\">\n",
    "      <mstyle scriptlevel=\"0\" displaystyle=\"true\">\n",
    "        <msup>\n",
    "          <mi>n</mi>\n",
    "          <mrow class=\"MJX-TeXAtom-ORD\">\n",
    "            <mn>2</mn>\n",
    "          </mrow>\n",
    "        </msup>\n",
    "      </mstyle>\n",
    "    </mrow>\n",
    "    <annotation encoding=\"application/x-tex\">{\\displaystyle n^{2}}</annotation>\n",
    "  </semantics>\n",
    "</math></span><img src=\"https://wikimedia.org/api/rest_v1/media/math/render/svg/ac9810bbdafe4a6a8061338db0f74e25b7952620\" class=\"mwe-math-fallback-image-inline\" aria-hidden=\"true\" style=\"vertical-align: -0.338ex; width:2.449ex; height:2.676ex;\" alt=\"n^{2}\"></span></span>\n",
    "</td>\n",
    "<td style=\"background:#fdd\"><span data-sort-value=\"25\"><span class=\"mwe-math-element\"><span class=\"mwe-math-mathml-inline mwe-math-mathml-a11y\" style=\"display: none;\"><math xmlns=\"http://www.w3.org/1998/Math/MathML\" alttext=\"{\\displaystyle n^{2}}\">\n",
    "  <semantics>\n",
    "    <mrow class=\"MJX-TeXAtom-ORD\">\n",
    "      <mstyle scriptlevel=\"0\" displaystyle=\"true\">\n",
    "        <msup>\n",
    "          <mi>n</mi>\n",
    "          <mrow class=\"MJX-TeXAtom-ORD\">\n",
    "            <mn>2</mn>\n",
    "          </mrow>\n",
    "        </msup>\n",
    "      </mstyle>\n",
    "    </mrow>\n",
    "    <annotation encoding=\"application/x-tex\">{\\displaystyle n^{2}}</annotation>\n",
    "  </semantics>\n",
    "</math></span><img src=\"https://wikimedia.org/api/rest_v1/media/math/render/svg/ac9810bbdafe4a6a8061338db0f74e25b7952620\" class=\"mwe-math-fallback-image-inline\" aria-hidden=\"true\" style=\"vertical-align: -0.338ex; width:2.449ex; height:2.676ex;\" alt=\"n^{2}\"></span></span>\n",
    "</td>\n",
    "<td style=\"background:#dfd\"><span data-sort-value=\"00\"><span class=\"mwe-math-element\"><span class=\"mwe-math-mathml-inline mwe-math-mathml-a11y\" style=\"display: none;\"><math xmlns=\"http://www.w3.org/1998/Math/MathML\" alttext=\"{\\displaystyle 1}\">\n",
    "  <semantics>\n",
    "    <mrow class=\"MJX-TeXAtom-ORD\">\n",
    "      <mstyle scriptlevel=\"0\" displaystyle=\"true\">\n",
    "        <mn>1</mn>\n",
    "      </mstyle>\n",
    "    </mrow>\n",
    "    <annotation encoding=\"application/x-tex\">{\\displaystyle 1}</annotation>\n",
    "  </semantics>\n",
    "</math></span><img src=\"https://wikimedia.org/api/rest_v1/media/math/render/svg/92d98b82a3778f043108d4e20960a9193df57cbf\" class=\"mwe-math-fallback-image-inline\" aria-hidden=\"true\" style=\"vertical-align: -0.338ex; width:1.162ex; height:2.176ex;\" alt=\"1\"></span></span>\n",
    "</td>\n",
    "<td style=\"background:#dfd\"><span data-sort-value=\"0\">Oui</span>\n",
    "</td></tr></tbody><tfoot></tfoot>\n",
    "</table>\n",
    "\n",
    "Source : [*wikipedia*](https://fr.wikipedia.org/wiki/Algorithme_de_tri)"
   ]
  },
  {
   "cell_type": "markdown",
   "id": "803d4605",
   "metadata": {
    "slideshow": {
     "slide_type": "slide"
    }
   },
   "source": [
    "### Dépasser les limites de l'interpréteur"
   ]
  },
  {
   "cell_type": "markdown",
   "id": "eee2aa5b",
   "metadata": {
    "slideshow": {
     "slide_type": "slide"
    }
   },
   "source": [
    "#### User et abuser des bibliothèques reposant sur des implémentations compilées"
   ]
  },
  {
   "cell_type": "code",
   "execution_count": 34,
   "id": "50db6cb8",
   "metadata": {
    "slideshow": {
     "slide_type": "fragment"
    }
   },
   "outputs": [],
   "source": [
    "def update_np(grid):\n",
    "    next_grid = np.zeros_like(grid, dtype=np.int8)\n",
    "    # on crée un tableau numpy avec la somme des voisins pour chaque case\n",
    "    N = (grid[0:-2, 0:-2] + grid[0:-2, 1:-1] + grid[0:-2, 2:] +\n",
    "         grid[1:-1, 0:-2]                    +grid[1:-1, 2:] +\n",
    "         grid[2:  , 0:-2] + grid[2:  , 1:-1] + grid[2:  , 2:])\n",
    "    # des masques pour les naissances et survies\n",
    "    birth = (N == 3) & (grid[1:-1, 1:-1] == 0)\n",
    "    survive = ((N == 2) | (N == 3)) & (grid[1:-1, 1:-1] == 1)\n",
    "    next_grid[1:-1, 1:-1][birth | survive] = 1\n",
    "    return next_grid"
   ]
  },
  {
   "cell_type": "code",
   "execution_count": 35,
   "id": "fb97e766",
   "metadata": {
    "scrolled": true,
    "slideshow": {
     "slide_type": "fragment"
    }
   },
   "outputs": [
    {
     "name": "stdout",
     "output_type": "stream",
     "text": [
      "34.7 µs ± 2.51 µs per loop (mean ± std. dev. of 7 runs, 10,000 loops each)\n"
     ]
    }
   ],
   "source": [
    "%timeit update_np(grid)"
   ]
  },
  {
   "cell_type": "code",
   "execution_count": 36,
   "id": "f4ffa132",
   "metadata": {
    "slideshow": {
     "slide_type": "fragment"
    }
   },
   "outputs": [
    {
     "name": "stdout",
     "output_type": "stream",
     "text": [
      "réduction du temps de calcul d'un facteur: 166 entre la version naive et la version pythonique\n"
     ]
    }
   ],
   "source": [
    "print(f\"réduction du temps de calcul d'un facteur: {3.58/0.0216:0.0f} entre la version naive et la version pythonique\")"
   ]
  },
  {
   "cell_type": "markdown",
   "id": "2c5130a9",
   "metadata": {
    "slideshow": {
     "slide_type": "subslide"
    }
   },
   "source": [
    "### Just In Time (JIT) avec numba"
   ]
  },
  {
   "cell_type": "code",
   "execution_count": 37,
   "id": "a7767cb5",
   "metadata": {
    "slideshow": {
     "slide_type": "fragment"
    }
   },
   "outputs": [],
   "source": [
    "import numba\n",
    "\n",
    "\n",
    "@numba.jit(nopython=True)\n",
    "def update_numba(grid: np.ndarray) -> np.ndarray:\n",
    "    n, m = grid.shape\n",
    "    next_grid = np.zeros((n, m), dtype=np.int8)\n",
    "\n",
    "    for row in range(n):\n",
    "        for col in range(m):\n",
    "            live_neighbors = (\n",
    "                np.sum(grid[row - 1 : row + 2, col - 1 : col + 2]) - grid[row, col]\n",
    "            )\n",
    "            if live_neighbors < 2 or live_neighbors > 3:\n",
    "                next_grid[row][col] = 0\n",
    "            elif live_neighbors == 3 and grid[row][col] == 0:\n",
    "                next_grid[row][col] = 1\n",
    "            else:\n",
    "                next_grid[row][col] = grid[row][col]\n",
    "\n",
    "    return next_grid"
   ]
  },
  {
   "cell_type": "code",
   "execution_count": 38,
   "id": "dfca4666",
   "metadata": {
    "slideshow": {
     "slide_type": "fragment"
    }
   },
   "outputs": [
    {
     "data": {
      "text/plain": [
       "<matplotlib.image.AxesImage at 0x167151b10>"
      ]
     },
     "execution_count": 38,
     "metadata": {},
     "output_type": "execute_result"
    },
    {
     "data": {
      "image/png": "[encoded data removed]",
      "text/plain": [
       "<Figure size 640x480 with 1 Axes>"
      ]
     },
     "metadata": {},
     "output_type": "display_data"
    }
   ],
   "source": [
    "plt.imshow(update_numba(grid), cmap=\"gray_r\")"
   ]
  },
  {
   "cell_type": "code",
   "execution_count": 39,
   "id": "b8c2882a",
   "metadata": {
    "slideshow": {
     "slide_type": "fragment"
    }
   },
   "outputs": [
    {
     "name": "stdout",
     "output_type": "stream",
     "text": [
      "23.6 µs ± 298 ns per loop (mean ± std. dev. of 7 runs, 10,000 loops each)\n"
     ]
    }
   ],
   "source": [
    "%timeit update_numba(grid)"
   ]
  },
  {
   "cell_type": "markdown",
   "id": "18c9c472",
   "metadata": {
    "slideshow": {
     "slide_type": "subslide"
    }
   },
   "source": [
    " - Numba est très efficace pour accélerer le temps dexécution des fonctions python. Il se limité néanmoins aux fonctions et il est assez difficile à optimiser.\n",
    "\n",
    " - Plus difficile à prendre en main, `cython` offre plus de controle grace à une surcouche du langage python"
   ]
  },
  {
   "cell_type": "code",
   "execution_count": 43,
   "id": "31ed0d63",
   "metadata": {
    "slideshow": {
     "slide_type": "fragment"
    }
   },
   "outputs": [
    {
     "name": "stdout",
     "output_type": "stream",
     "text": [
      "The Cython extension is already loaded. To reload it, use:\n",
      "  %reload_ext Cython\n"
     ]
    }
   ],
   "source": [
    "%load_ext Cython"
   ]
  },
  {
   "cell_type": "code",
   "execution_count": 44,
   "id": "bc53fcdb",
   "metadata": {
    "slideshow": {
     "slide_type": "fragment"
    }
   },
   "outputs": [
    {
     "name": "stderr",
     "output_type": "stream",
     "text": [
      "/Users/dgalembeck/.cache/ipython/cython/_cython_magic_ca0ca05ee3f0dd7cbb9721402aa23a6d.c:18930:21: warning: fallthrough annotation in unreachable code [-Wunreachable-code-fallthrough]\n",
      "                    CYTHON_FALLTHROUGH;\n",
      "                    ^\n",
      "/Users/dgalembeck/.cache/ipython/cython/_cython_magic_ca0ca05ee3f0dd7cbb9721402aa23a6d.c:357:34: note: expanded from macro 'CYTHON_FALLTHROUGH'\n",
      "      #define CYTHON_FALLTHROUGH __attribute__((fallthrough))\n",
      "                                 ^\n",
      "/Users/dgalembeck/.cache/ipython/cython/_cython_magic_ca0ca05ee3f0dd7cbb9721402aa23a6d.c:18941:21: warning: fallthrough annotation in unreachable code [-Wunreachable-code-fallthrough]\n",
      "                    CYTHON_FALLTHROUGH;\n",
      "                    ^\n",
      "/Users/dgalembeck/.cache/ipython/cython/_cython_magic_ca0ca05ee3f0dd7cbb9721402aa23a6d.c:357:34: note: expanded from macro 'CYTHON_FALLTHROUGH'\n",
      "      #define CYTHON_FALLTHROUGH __attribute__((fallthrough))\n",
      "                                 ^\n",
      "2 warnings generated.\n",
      "ld: warning: -undefined dynamic_lookup may not work with chained fixups\n"
     ]
    },
    {
     "data": {
      "text/html": [
       "<!DOCTYPE html>\n",
       "<!-- Generated by Cython 0.29.32 -->\n",
       "<html>\n",
       "<head>\n",
       "    <meta http-equiv=\"Content-Type\" content=\"text/html; charset=utf-8\" />\n",
       "    <title>Cython: _cython_magic_ca0ca05ee3f0dd7cbb9721402aa23a6d.pyx</title>\n",
       "    <style type=\"text/css\">\n",
       "    \n",
       "body.cython { font-family: courier; font-size: 12; }\n",
       "\n",
       ".cython.tag  {  }\n",
       ".cython.line { margin: 0em }\n",
       ".cython.code { font-size: 9; color: #444444; display: none; margin: 0px 0px 0px 8px; border-left: 8px none; }\n",
       "\n",
       ".cython.line .run { background-color: #B0FFB0; }\n",
       ".cython.line .mis { background-color: #FFB0B0; }\n",
       ".cython.code.run  { border-left: 8px solid #B0FFB0; }\n",
       ".cython.code.mis  { border-left: 8px solid #FFB0B0; }\n",
       "\n",
       ".cython.code .py_c_api  { color: red; }\n",
       ".cython.code .py_macro_api  { color: #FF7000; }\n",
       ".cython.code .pyx_c_api  { color: #FF3000; }\n",
       ".cython.code .pyx_macro_api  { color: #FF7000; }\n",
       ".cython.code .refnanny  { color: #FFA000; }\n",
       ".cython.code .trace  { color: #FFA000; }\n",
       ".cython.code .error_goto  { color: #FFA000; }\n",
       "\n",
       ".cython.code .coerce  { color: #008000; border: 1px dotted #008000 }\n",
       ".cython.code .py_attr { color: #FF0000; font-weight: bold; }\n",
       ".cython.code .c_attr  { color: #0000FF; }\n",
       ".cython.code .py_call { color: #FF0000; font-weight: bold; }\n",
       ".cython.code .c_call  { color: #0000FF; }\n",
       "\n",
       ".cython.score-0 {background-color: #FFFFff;}\n",
       ".cython.score-1 {background-color: #FFFFe7;}\n",
       ".cython.score-2 {background-color: #FFFFd4;}\n",
       ".cython.score-3 {background-color: #FFFFc4;}\n",
       ".cython.score-4 {background-color: #FFFFb6;}\n",
       ".cython.score-5 {background-color: #FFFFaa;}\n",
       ".cython.score-6 {background-color: #FFFF9f;}\n",
       ".cython.score-7 {background-color: #FFFF96;}\n",
       ".cython.score-8 {background-color: #FFFF8d;}\n",
       ".cython.score-9 {background-color: #FFFF86;}\n",
       ".cython.score-10 {background-color: #FFFF7f;}\n",
       ".cython.score-11 {background-color: #FFFF79;}\n",
       ".cython.score-12 {background-color: #FFFF73;}\n",
       ".cython.score-13 {background-color: #FFFF6e;}\n",
       ".cython.score-14 {background-color: #FFFF6a;}\n",
       ".cython.score-15 {background-color: #FFFF66;}\n",
       ".cython.score-16 {background-color: #FFFF62;}\n",
       ".cython.score-17 {background-color: #FFFF5e;}\n",
       ".cython.score-18 {background-color: #FFFF5b;}\n",
       ".cython.score-19 {background-color: #FFFF57;}\n",
       ".cython.score-20 {background-color: #FFFF55;}\n",
       ".cython.score-21 {background-color: #FFFF52;}\n",
       ".cython.score-22 {background-color: #FFFF4f;}\n",
       ".cython.score-23 {background-color: #FFFF4d;}\n",
       ".cython.score-24 {background-color: #FFFF4b;}\n",
       ".cython.score-25 {background-color: #FFFF48;}\n",
       ".cython.score-26 {background-color: #FFFF46;}\n",
       ".cython.score-27 {background-color: #FFFF44;}\n",
       ".cython.score-28 {background-color: #FFFF43;}\n",
       ".cython.score-29 {background-color: #FFFF41;}\n",
       ".cython.score-30 {background-color: #FFFF3f;}\n",
       ".cython.score-31 {background-color: #FFFF3e;}\n",
       ".cython.score-32 {background-color: #FFFF3c;}\n",
       ".cython.score-33 {background-color: #FFFF3b;}\n",
       ".cython.score-34 {background-color: #FFFF39;}\n",
       ".cython.score-35 {background-color: #FFFF38;}\n",
       ".cython.score-36 {background-color: #FFFF37;}\n",
       ".cython.score-37 {background-color: #FFFF36;}\n",
       ".cython.score-38 {background-color: #FFFF35;}\n",
       ".cython.score-39 {background-color: #FFFF34;}\n",
       ".cython.score-40 {background-color: #FFFF33;}\n",
       ".cython.score-41 {background-color: #FFFF32;}\n",
       ".cython.score-42 {background-color: #FFFF31;}\n",
       ".cython.score-43 {background-color: #FFFF30;}\n",
       ".cython.score-44 {background-color: #FFFF2f;}\n",
       ".cython.score-45 {background-color: #FFFF2e;}\n",
       ".cython.score-46 {background-color: #FFFF2d;}\n",
       ".cython.score-47 {background-color: #FFFF2c;}\n",
       ".cython.score-48 {background-color: #FFFF2b;}\n",
       ".cython.score-49 {background-color: #FFFF2b;}\n",
       ".cython.score-50 {background-color: #FFFF2a;}\n",
       ".cython.score-51 {background-color: #FFFF29;}\n",
       ".cython.score-52 {background-color: #FFFF29;}\n",
       ".cython.score-53 {background-color: #FFFF28;}\n",
       ".cython.score-54 {background-color: #FFFF27;}\n",
       ".cython.score-55 {background-color: #FFFF27;}\n",
       ".cython.score-56 {background-color: #FFFF26;}\n",
       ".cython.score-57 {background-color: #FFFF26;}\n",
       ".cython.score-58 {background-color: #FFFF25;}\n",
       ".cython.score-59 {background-color: #FFFF24;}\n",
       ".cython.score-60 {background-color: #FFFF24;}\n",
       ".cython.score-61 {background-color: #FFFF23;}\n",
       ".cython.score-62 {background-color: #FFFF23;}\n",
       ".cython.score-63 {background-color: #FFFF22;}\n",
       ".cython.score-64 {background-color: #FFFF22;}\n",
       ".cython.score-65 {background-color: #FFFF22;}\n",
       ".cython.score-66 {background-color: #FFFF21;}\n",
       ".cython.score-67 {background-color: #FFFF21;}\n",
       ".cython.score-68 {background-color: #FFFF20;}\n",
       ".cython.score-69 {background-color: #FFFF20;}\n",
       ".cython.score-70 {background-color: #FFFF1f;}\n",
       ".cython.score-71 {background-color: #FFFF1f;}\n",
       ".cython.score-72 {background-color: #FFFF1f;}\n",
       ".cython.score-73 {background-color: #FFFF1e;}\n",
       ".cython.score-74 {background-color: #FFFF1e;}\n",
       ".cython.score-75 {background-color: #FFFF1e;}\n",
       ".cython.score-76 {background-color: #FFFF1d;}\n",
       ".cython.score-77 {background-color: #FFFF1d;}\n",
       ".cython.score-78 {background-color: #FFFF1c;}\n",
       ".cython.score-79 {background-color: #FFFF1c;}\n",
       ".cython.score-80 {background-color: #FFFF1c;}\n",
       ".cython.score-81 {background-color: #FFFF1c;}\n",
       ".cython.score-82 {background-color: #FFFF1b;}\n",
       ".cython.score-83 {background-color: #FFFF1b;}\n",
       ".cython.score-84 {background-color: #FFFF1b;}\n",
       ".cython.score-85 {background-color: #FFFF1a;}\n",
       ".cython.score-86 {background-color: #FFFF1a;}\n",
       ".cython.score-87 {background-color: #FFFF1a;}\n",
       ".cython.score-88 {background-color: #FFFF1a;}\n",
       ".cython.score-89 {background-color: #FFFF19;}\n",
       ".cython.score-90 {background-color: #FFFF19;}\n",
       ".cython.score-91 {background-color: #FFFF19;}\n",
       ".cython.score-92 {background-color: #FFFF19;}\n",
       ".cython.score-93 {background-color: #FFFF18;}\n",
       ".cython.score-94 {background-color: #FFFF18;}\n",
       ".cython.score-95 {background-color: #FFFF18;}\n",
       ".cython.score-96 {background-color: #FFFF18;}\n",
       ".cython.score-97 {background-color: #FFFF17;}\n",
       ".cython.score-98 {background-color: #FFFF17;}\n",
       ".cython.score-99 {background-color: #FFFF17;}\n",
       ".cython.score-100 {background-color: #FFFF17;}\n",
       ".cython.score-101 {background-color: #FFFF16;}\n",
       ".cython.score-102 {background-color: #FFFF16;}\n",
       ".cython.score-103 {background-color: #FFFF16;}\n",
       ".cython.score-104 {background-color: #FFFF16;}\n",
       ".cython.score-105 {background-color: #FFFF16;}\n",
       ".cython.score-106 {background-color: #FFFF15;}\n",
       ".cython.score-107 {background-color: #FFFF15;}\n",
       ".cython.score-108 {background-color: #FFFF15;}\n",
       ".cython.score-109 {background-color: #FFFF15;}\n",
       ".cython.score-110 {background-color: #FFFF15;}\n",
       ".cython.score-111 {background-color: #FFFF15;}\n",
       ".cython.score-112 {background-color: #FFFF14;}\n",
       ".cython.score-113 {background-color: #FFFF14;}\n",
       ".cython.score-114 {background-color: #FFFF14;}\n",
       ".cython.score-115 {background-color: #FFFF14;}\n",
       ".cython.score-116 {background-color: #FFFF14;}\n",
       ".cython.score-117 {background-color: #FFFF14;}\n",
       ".cython.score-118 {background-color: #FFFF13;}\n",
       ".cython.score-119 {background-color: #FFFF13;}\n",
       ".cython.score-120 {background-color: #FFFF13;}\n",
       ".cython.score-121 {background-color: #FFFF13;}\n",
       ".cython.score-122 {background-color: #FFFF13;}\n",
       ".cython.score-123 {background-color: #FFFF13;}\n",
       ".cython.score-124 {background-color: #FFFF13;}\n",
       ".cython.score-125 {background-color: #FFFF12;}\n",
       ".cython.score-126 {background-color: #FFFF12;}\n",
       ".cython.score-127 {background-color: #FFFF12;}\n",
       ".cython.score-128 {background-color: #FFFF12;}\n",
       ".cython.score-129 {background-color: #FFFF12;}\n",
       ".cython.score-130 {background-color: #FFFF12;}\n",
       ".cython.score-131 {background-color: #FFFF12;}\n",
       ".cython.score-132 {background-color: #FFFF11;}\n",
       ".cython.score-133 {background-color: #FFFF11;}\n",
       ".cython.score-134 {background-color: #FFFF11;}\n",
       ".cython.score-135 {background-color: #FFFF11;}\n",
       ".cython.score-136 {background-color: #FFFF11;}\n",
       ".cython.score-137 {background-color: #FFFF11;}\n",
       ".cython.score-138 {background-color: #FFFF11;}\n",
       ".cython.score-139 {background-color: #FFFF11;}\n",
       ".cython.score-140 {background-color: #FFFF11;}\n",
       ".cython.score-141 {background-color: #FFFF10;}\n",
       ".cython.score-142 {background-color: #FFFF10;}\n",
       ".cython.score-143 {background-color: #FFFF10;}\n",
       ".cython.score-144 {background-color: #FFFF10;}\n",
       ".cython.score-145 {background-color: #FFFF10;}\n",
       ".cython.score-146 {background-color: #FFFF10;}\n",
       ".cython.score-147 {background-color: #FFFF10;}\n",
       ".cython.score-148 {background-color: #FFFF10;}\n",
       ".cython.score-149 {background-color: #FFFF10;}\n",
       ".cython.score-150 {background-color: #FFFF0f;}\n",
       ".cython.score-151 {background-color: #FFFF0f;}\n",
       ".cython.score-152 {background-color: #FFFF0f;}\n",
       ".cython.score-153 {background-color: #FFFF0f;}\n",
       ".cython.score-154 {background-color: #FFFF0f;}\n",
       ".cython.score-155 {background-color: #FFFF0f;}\n",
       ".cython.score-156 {background-color: #FFFF0f;}\n",
       ".cython.score-157 {background-color: #FFFF0f;}\n",
       ".cython.score-158 {background-color: #FFFF0f;}\n",
       ".cython.score-159 {background-color: #FFFF0f;}\n",
       ".cython.score-160 {background-color: #FFFF0f;}\n",
       ".cython.score-161 {background-color: #FFFF0e;}\n",
       ".cython.score-162 {background-color: #FFFF0e;}\n",
       ".cython.score-163 {background-color: #FFFF0e;}\n",
       ".cython.score-164 {background-color: #FFFF0e;}\n",
       ".cython.score-165 {background-color: #FFFF0e;}\n",
       ".cython.score-166 {background-color: #FFFF0e;}\n",
       ".cython.score-167 {background-color: #FFFF0e;}\n",
       ".cython.score-168 {background-color: #FFFF0e;}\n",
       ".cython.score-169 {background-color: #FFFF0e;}\n",
       ".cython.score-170 {background-color: #FFFF0e;}\n",
       ".cython.score-171 {background-color: #FFFF0e;}\n",
       ".cython.score-172 {background-color: #FFFF0e;}\n",
       ".cython.score-173 {background-color: #FFFF0d;}\n",
       ".cython.score-174 {background-color: #FFFF0d;}\n",
       ".cython.score-175 {background-color: #FFFF0d;}\n",
       ".cython.score-176 {background-color: #FFFF0d;}\n",
       ".cython.score-177 {background-color: #FFFF0d;}\n",
       ".cython.score-178 {background-color: #FFFF0d;}\n",
       ".cython.score-179 {background-color: #FFFF0d;}\n",
       ".cython.score-180 {background-color: #FFFF0d;}\n",
       ".cython.score-181 {background-color: #FFFF0d;}\n",
       ".cython.score-182 {background-color: #FFFF0d;}\n",
       ".cython.score-183 {background-color: #FFFF0d;}\n",
       ".cython.score-184 {background-color: #FFFF0d;}\n",
       ".cython.score-185 {background-color: #FFFF0d;}\n",
       ".cython.score-186 {background-color: #FFFF0d;}\n",
       ".cython.score-187 {background-color: #FFFF0c;}\n",
       ".cython.score-188 {background-color: #FFFF0c;}\n",
       ".cython.score-189 {background-color: #FFFF0c;}\n",
       ".cython.score-190 {background-color: #FFFF0c;}\n",
       ".cython.score-191 {background-color: #FFFF0c;}\n",
       ".cython.score-192 {background-color: #FFFF0c;}\n",
       ".cython.score-193 {background-color: #FFFF0c;}\n",
       ".cython.score-194 {background-color: #FFFF0c;}\n",
       ".cython.score-195 {background-color: #FFFF0c;}\n",
       ".cython.score-196 {background-color: #FFFF0c;}\n",
       ".cython.score-197 {background-color: #FFFF0c;}\n",
       ".cython.score-198 {background-color: #FFFF0c;}\n",
       ".cython.score-199 {background-color: #FFFF0c;}\n",
       ".cython.score-200 {background-color: #FFFF0c;}\n",
       ".cython.score-201 {background-color: #FFFF0c;}\n",
       ".cython.score-202 {background-color: #FFFF0c;}\n",
       ".cython.score-203 {background-color: #FFFF0b;}\n",
       ".cython.score-204 {background-color: #FFFF0b;}\n",
       ".cython.score-205 {background-color: #FFFF0b;}\n",
       ".cython.score-206 {background-color: #FFFF0b;}\n",
       ".cython.score-207 {background-color: #FFFF0b;}\n",
       ".cython.score-208 {background-color: #FFFF0b;}\n",
       ".cython.score-209 {background-color: #FFFF0b;}\n",
       ".cython.score-210 {background-color: #FFFF0b;}\n",
       ".cython.score-211 {background-color: #FFFF0b;}\n",
       ".cython.score-212 {background-color: #FFFF0b;}\n",
       ".cython.score-213 {background-color: #FFFF0b;}\n",
       ".cython.score-214 {background-color: #FFFF0b;}\n",
       ".cython.score-215 {background-color: #FFFF0b;}\n",
       ".cython.score-216 {background-color: #FFFF0b;}\n",
       ".cython.score-217 {background-color: #FFFF0b;}\n",
       ".cython.score-218 {background-color: #FFFF0b;}\n",
       ".cython.score-219 {background-color: #FFFF0b;}\n",
       ".cython.score-220 {background-color: #FFFF0b;}\n",
       ".cython.score-221 {background-color: #FFFF0b;}\n",
       ".cython.score-222 {background-color: #FFFF0a;}\n",
       ".cython.score-223 {background-color: #FFFF0a;}\n",
       ".cython.score-224 {background-color: #FFFF0a;}\n",
       ".cython.score-225 {background-color: #FFFF0a;}\n",
       ".cython.score-226 {background-color: #FFFF0a;}\n",
       ".cython.score-227 {background-color: #FFFF0a;}\n",
       ".cython.score-228 {background-color: #FFFF0a;}\n",
       ".cython.score-229 {background-color: #FFFF0a;}\n",
       ".cython.score-230 {background-color: #FFFF0a;}\n",
       ".cython.score-231 {background-color: #FFFF0a;}\n",
       ".cython.score-232 {background-color: #FFFF0a;}\n",
       ".cython.score-233 {background-color: #FFFF0a;}\n",
       ".cython.score-234 {background-color: #FFFF0a;}\n",
       ".cython.score-235 {background-color: #FFFF0a;}\n",
       ".cython.score-236 {background-color: #FFFF0a;}\n",
       ".cython.score-237 {background-color: #FFFF0a;}\n",
       ".cython.score-238 {background-color: #FFFF0a;}\n",
       ".cython.score-239 {background-color: #FFFF0a;}\n",
       ".cython.score-240 {background-color: #FFFF0a;}\n",
       ".cython.score-241 {background-color: #FFFF0a;}\n",
       ".cython.score-242 {background-color: #FFFF0a;}\n",
       ".cython.score-243 {background-color: #FFFF0a;}\n",
       ".cython.score-244 {background-color: #FFFF0a;}\n",
       ".cython.score-245 {background-color: #FFFF0a;}\n",
       ".cython.score-246 {background-color: #FFFF09;}\n",
       ".cython.score-247 {background-color: #FFFF09;}\n",
       ".cython.score-248 {background-color: #FFFF09;}\n",
       ".cython.score-249 {background-color: #FFFF09;}\n",
       ".cython.score-250 {background-color: #FFFF09;}\n",
       ".cython.score-251 {background-color: #FFFF09;}\n",
       ".cython.score-252 {background-color: #FFFF09;}\n",
       ".cython.score-253 {background-color: #FFFF09;}\n",
       ".cython.score-254 {background-color: #FFFF09;}\n",
       "pre { line-height: 125%; }\n",
       "td.linenos .normal { color: inherit; background-color: transparent; padding-left: 5px; padding-right: 5px; }\n",
       "span.linenos { color: inherit; background-color: transparent; padding-left: 5px; padding-right: 5px; }\n",
       "td.linenos .special { color: #000000; background-color: #ffffc0; padding-left: 5px; padding-right: 5px; }\n",
       "span.linenos.special { color: #000000; background-color: #ffffc0; padding-left: 5px; padding-right: 5px; }\n",
       ".cython .hll { background-color: #ffffcc }\n",
       ".cython { background: #f8f8f8; }\n",
       ".cython .c { color: #3D7B7B; font-style: italic } /* Comment */\n",
       ".cython .err { border: 1px solid #FF0000 } /* Error */\n",
       ".cython .k { color: #008000; font-weight: bold } /* Keyword */\n",
       ".cython .o { color: #666666 } /* Operator */\n",
       ".cython .ch { color: #3D7B7B; font-style: italic } /* Comment.Hashbang */\n",
       ".cython .cm { color: #3D7B7B; font-style: italic } /* Comment.Multiline */\n",
       ".cython .cp { color: #9C6500 } /* Comment.Preproc */\n",
       ".cython .cpf { color: #3D7B7B; font-style: italic } /* Comment.PreprocFile */\n",
       ".cython .c1 { color: #3D7B7B; font-style: italic } /* Comment.Single */\n",
       ".cython .cs { color: #3D7B7B; font-style: italic } /* Comment.Special */\n",
       ".cython .gd { color: #A00000 } /* Generic.Deleted */\n",
       ".cython .ge { font-style: italic } /* Generic.Emph */\n",
       ".cython .gr { color: #E40000 } /* Generic.Error */\n",
       ".cython .gh { color: #000080; font-weight: bold } /* Generic.Heading */\n",
       ".cython .gi { color: #008400 } /* Generic.Inserted */\n",
       ".cython .go { color: #717171 } /* Generic.Output */\n",
       ".cython .gp { color: #000080; font-weight: bold } /* Generic.Prompt */\n",
       ".cython .gs { font-weight: bold } /* Generic.Strong */\n",
       ".cython .gu { color: #800080; font-weight: bold } /* Generic.Subheading */\n",
       ".cython .gt { color: #0044DD } /* Generic.Traceback */\n",
       ".cython .kc { color: #008000; font-weight: bold } /* Keyword.Constant */\n",
       ".cython .kd { color: #008000; font-weight: bold } /* Keyword.Declaration */\n",
       ".cython .kn { color: #008000; font-weight: bold } /* Keyword.Namespace */\n",
       ".cython .kp { color: #008000 } /* Keyword.Pseudo */\n",
       ".cython .kr { color: #008000; font-weight: bold } /* Keyword.Reserved */\n",
       ".cython .kt { color: #B00040 } /* Keyword.Type */\n",
       ".cython .m { color: #666666 } /* Literal.Number */\n",
       ".cython .s { color: #BA2121 } /* Literal.String */\n",
       ".cython .na { color: #687822 } /* Name.Attribute */\n",
       ".cython .nb { color: #008000 } /* Name.Builtin */\n",
       ".cython .nc { color: #0000FF; font-weight: bold } /* Name.Class */\n",
       ".cython .no { color: #880000 } /* Name.Constant */\n",
       ".cython .nd { color: #AA22FF } /* Name.Decorator */\n",
       ".cython .ni { color: #717171; font-weight: bold } /* Name.Entity */\n",
       ".cython .ne { color: #CB3F38; font-weight: bold } /* Name.Exception */\n",
       ".cython .nf { color: #0000FF } /* Name.Function */\n",
       ".cython .nl { color: #767600 } /* Name.Label */\n",
       ".cython .nn { color: #0000FF; font-weight: bold } /* Name.Namespace */\n",
       ".cython .nt { color: #008000; font-weight: bold } /* Name.Tag */\n",
       ".cython .nv { color: #19177C } /* Name.Variable */\n",
       ".cython .ow { color: #AA22FF; font-weight: bold } /* Operator.Word */\n",
       ".cython .w { color: #bbbbbb } /* Text.Whitespace */\n",
       ".cython .mb { color: #666666 } /* Literal.Number.Bin */\n",
       ".cython .mf { color: #666666 } /* Literal.Number.Float */\n",
       ".cython .mh { color: #666666 } /* Literal.Number.Hex */\n",
       ".cython .mi { color: #666666 } /* Literal.Number.Integer */\n",
       ".cython .mo { color: #666666 } /* Literal.Number.Oct */\n",
       ".cython .sa { color: #BA2121 } /* Literal.String.Affix */\n",
       ".cython .sb { color: #BA2121 } /* Literal.String.Backtick */\n",
       ".cython .sc { color: #BA2121 } /* Literal.String.Char */\n",
       ".cython .dl { color: #BA2121 } /* Literal.String.Delimiter */\n",
       ".cython .sd { color: #BA2121; font-style: italic } /* Literal.String.Doc */\n",
       ".cython .s2 { color: #BA2121 } /* Literal.String.Double */\n",
       ".cython .se { color: #AA5D1F; font-weight: bold } /* Literal.String.Escape */\n",
       ".cython .sh { color: #BA2121 } /* Literal.String.Heredoc */\n",
       ".cython .si { color: #A45A77; font-weight: bold } /* Literal.String.Interpol */\n",
       ".cython .sx { color: #008000 } /* Literal.String.Other */\n",
       ".cython .sr { color: #A45A77 } /* Literal.String.Regex */\n",
       ".cython .s1 { color: #BA2121 } /* Literal.String.Single */\n",
       ".cython .ss { color: #19177C } /* Literal.String.Symbol */\n",
       ".cython .bp { color: #008000 } /* Name.Builtin.Pseudo */\n",
       ".cython .fm { color: #0000FF } /* Name.Function.Magic */\n",
       ".cython .vc { color: #19177C } /* Name.Variable.Class */\n",
       ".cython .vg { color: #19177C } /* Name.Variable.Global */\n",
       ".cython .vi { color: #19177C } /* Name.Variable.Instance */\n",
       ".cython .vm { color: #19177C } /* Name.Variable.Magic */\n",
       ".cython .il { color: #666666 } /* Literal.Number.Integer.Long */\n",
       "    </style>\n",
       "</head>\n",
       "<body class=\"cython\">\n",
       "<p><span style=\"border-bottom: solid 1px grey;\">Generated by Cython 0.29.32</span></p>\n",
       "<p>\n",
       "    <span style=\"background-color: #FFFF00\">Yellow lines</span> hint at Python interaction.<br />\n",
       "    Click on a line that starts with a \"<code>+</code>\" to see the C code that Cython generated for it.\n",
       "</p>\n",
       "<div class=\"cython\"><pre class=\"cython line score-16\" onclick=\"(function(s){s.display=s.display==='block'?'none':'block'})(this.nextElementSibling.style)\">+<span class=\"\">01</span>: <span class=\"k\">import</span> <span class=\"nn\">numpy</span> <span class=\"k\">as</span> <span class=\"nn\">np</span></pre>\n",
       "<pre class='cython code score-16 '>  __pyx_t_1 = <span class='pyx_c_api'>__Pyx_Import</span>(__pyx_n_s_numpy, 0, 0);<span class='error_goto'> if (unlikely(!__pyx_t_1)) __PYX_ERR(0, 1, __pyx_L1_error)</span>\n",
       "  <span class='refnanny'>__Pyx_GOTREF</span>(__pyx_t_1);\n",
       "  if (<span class='py_c_api'>PyDict_SetItem</span>(__pyx_d, __pyx_n_s_np, __pyx_t_1) &lt; 0) <span class='error_goto'>__PYX_ERR(0, 1, __pyx_L1_error)</span>\n",
       "  <span class='pyx_macro_api'>__Pyx_DECREF</span>(__pyx_t_1); __pyx_t_1 = 0;\n",
       "/* … */\n",
       "  __pyx_t_1 = <span class='pyx_c_api'>__Pyx_PyDict_NewPresized</span>(0);<span class='error_goto'> if (unlikely(!__pyx_t_1)) __PYX_ERR(0, 1, __pyx_L1_error)</span>\n",
       "  <span class='refnanny'>__Pyx_GOTREF</span>(__pyx_t_1);\n",
       "  if (<span class='py_c_api'>PyDict_SetItem</span>(__pyx_d, __pyx_n_s_test, __pyx_t_1) &lt; 0) <span class='error_goto'>__PYX_ERR(0, 1, __pyx_L1_error)</span>\n",
       "  <span class='pyx_macro_api'>__Pyx_DECREF</span>(__pyx_t_1); __pyx_t_1 = 0;\n",
       "</pre><pre class=\"cython line score-0\">&#xA0;<span class=\"\">02</span>: <span class=\"k\">from</span> <span class=\"nn\">cython</span> <span class=\"k\">import</span> <span class=\"n\">boundscheck</span><span class=\"p\">,</span> <span class=\"n\">wraparound</span></pre>\n",
       "<pre class=\"cython line score-0\">&#xA0;<span class=\"\">03</span>: </pre>\n",
       "<pre class=\"cython line score-0\">&#xA0;<span class=\"\">04</span>: <span class=\"nd\">@boundscheck</span><span class=\"p\">(</span><span class=\"bp\">False</span><span class=\"p\">)</span></pre>\n",
       "<pre class=\"cython line score-0\">&#xA0;<span class=\"\">05</span>: <span class=\"nd\">@wraparound</span><span class=\"p\">(</span><span class=\"bp\">False</span><span class=\"p\">)</span></pre>\n",
       "<pre class=\"cython line score-24\" onclick=\"(function(s){s.display=s.display==='block'?'none':'block'})(this.nextElementSibling.style)\">+<span class=\"\">06</span>: <span class=\"k\">def</span> <span class=\"nf\">update_cython3</span><span class=\"p\">(</span><span class=\"n\">signed</span> <span class=\"n\">char</span><span class=\"p\">[:,</span> <span class=\"p\">:]</span> <span class=\"n\">grid</span><span class=\"p\">):</span></pre>\n",
       "<pre class='cython code score-24 '>/* Python wrapper */\n",
       "static PyObject *__pyx_pw_46_cython_magic_ca0ca05ee3f0dd7cbb9721402aa23a6d_1update_cython3(PyObject *__pyx_self, PyObject *__pyx_arg_grid); /*proto*/\n",
       "static PyMethodDef __pyx_mdef_46_cython_magic_ca0ca05ee3f0dd7cbb9721402aa23a6d_1update_cython3 = {\"update_cython3\", (PyCFunction)__pyx_pw_46_cython_magic_ca0ca05ee3f0dd7cbb9721402aa23a6d_1update_cython3, METH_O, 0};\n",
       "static PyObject *__pyx_pw_46_cython_magic_ca0ca05ee3f0dd7cbb9721402aa23a6d_1update_cython3(PyObject *__pyx_self, PyObject *__pyx_arg_grid) {\n",
       "  __Pyx_memviewslice __pyx_v_grid = { 0, 0, { 0 }, { 0 }, { 0 } };\n",
       "  PyObject *__pyx_r = 0;\n",
       "  <span class='refnanny'>__Pyx_RefNannyDeclarations</span>\n",
       "  <span class='refnanny'>__Pyx_RefNannySetupContext</span>(\"update_cython3 (wrapper)\", 0);\n",
       "  assert(__pyx_arg_grid); {\n",
       "    __pyx_v_grid = <span class='pyx_c_api'>__Pyx_PyObject_to_MemoryviewSlice_dsds_signed__char</span>(__pyx_arg_grid, PyBUF_WRITABLE);<span class='error_goto'> if (unlikely(!__pyx_v_grid.memview)) __PYX_ERR(0, 6, __pyx_L3_error)</span>\n",
       "  }\n",
       "  goto __pyx_L4_argument_unpacking_done;\n",
       "  __pyx_L3_error:;\n",
       "  <span class='pyx_c_api'>__Pyx_AddTraceback</span>(\"_cython_magic_ca0ca05ee3f0dd7cbb9721402aa23a6d.update_cython3\", __pyx_clineno, __pyx_lineno, __pyx_filename);\n",
       "  <span class='refnanny'>__Pyx_RefNannyFinishContext</span>();\n",
       "  return NULL;\n",
       "  __pyx_L4_argument_unpacking_done:;\n",
       "  __pyx_r = __pyx_pf_46_cython_magic_ca0ca05ee3f0dd7cbb9721402aa23a6d_update_cython3(__pyx_self, __pyx_v_grid);\n",
       "  int __pyx_lineno = 0;\n",
       "  const char *__pyx_filename = NULL;\n",
       "  int __pyx_clineno = 0;\n",
       "\n",
       "  /* function exit code */\n",
       "  <span class='refnanny'>__Pyx_RefNannyFinishContext</span>();\n",
       "  return __pyx_r;\n",
       "}\n",
       "\n",
       "static PyObject *__pyx_pf_46_cython_magic_ca0ca05ee3f0dd7cbb9721402aa23a6d_update_cython3(CYTHON_UNUSED PyObject *__pyx_self, __Pyx_memviewslice __pyx_v_grid) {\n",
       "  int __pyx_v_n;\n",
       "  int __pyx_v_m;\n",
       "  int __pyx_v_row;\n",
       "  int __pyx_v_col;\n",
       "  int __pyx_v_live_neighbors;\n",
       "  __Pyx_memviewslice __pyx_v_next_grid = { 0, 0, { 0 }, { 0 }, { 0 } };\n",
       "  PyObject *__pyx_r = NULL;\n",
       "  <span class='refnanny'>__Pyx_RefNannyDeclarations</span>\n",
       "  <span class='refnanny'>__Pyx_RefNannySetupContext</span>(\"update_cython3\", 0);\n",
       "/* … */\n",
       "  /* function exit code */\n",
       "  __pyx_L1_error:;\n",
       "  <span class='pyx_macro_api'>__Pyx_XDECREF</span>(__pyx_t_1);\n",
       "  <span class='pyx_macro_api'>__Pyx_XDECREF</span>(__pyx_t_2);\n",
       "  <span class='pyx_macro_api'>__Pyx_XDECREF</span>(__pyx_t_3);\n",
       "  <span class='pyx_macro_api'>__Pyx_XDECREF</span>(__pyx_t_4);\n",
       "  <span class='pyx_macro_api'>__Pyx_XDECREF</span>(__pyx_t_5);\n",
       "  __PYX_XDEC_MEMVIEW(&amp;__pyx_t_6, 1);\n",
       "  <span class='pyx_c_api'>__Pyx_AddTraceback</span>(\"_cython_magic_ca0ca05ee3f0dd7cbb9721402aa23a6d.update_cython3\", __pyx_clineno, __pyx_lineno, __pyx_filename);\n",
       "  __pyx_r = NULL;\n",
       "  __pyx_L0:;\n",
       "  __PYX_XDEC_MEMVIEW(&amp;__pyx_v_grid, 1);\n",
       "  __PYX_XDEC_MEMVIEW(&amp;__pyx_v_next_grid, 1);\n",
       "  <span class='refnanny'>__Pyx_XGIVEREF</span>(__pyx_r);\n",
       "  <span class='refnanny'>__Pyx_RefNannyFinishContext</span>();\n",
       "  return __pyx_r;\n",
       "}\n",
       "/* … */\n",
       "  __pyx_tuple__20 = <span class='py_c_api'>PyTuple_Pack</span>(8, __pyx_n_s_grid, __pyx_n_s_grid, __pyx_n_s_n, __pyx_n_s_m, __pyx_n_s_row, __pyx_n_s_col, __pyx_n_s_live_neighbors, __pyx_n_s_next_grid);<span class='error_goto'> if (unlikely(!__pyx_tuple__20)) __PYX_ERR(0, 6, __pyx_L1_error)</span>\n",
       "  <span class='refnanny'>__Pyx_GOTREF</span>(__pyx_tuple__20);\n",
       "  <span class='refnanny'>__Pyx_GIVEREF</span>(__pyx_tuple__20);\n",
       "/* … */\n",
       "  __pyx_t_1 = PyCFunction_NewEx(&amp;__pyx_mdef_46_cython_magic_ca0ca05ee3f0dd7cbb9721402aa23a6d_1update_cython3, NULL, __pyx_n_s_cython_magic_ca0ca05ee3f0dd7cbb);<span class='error_goto'> if (unlikely(!__pyx_t_1)) __PYX_ERR(0, 6, __pyx_L1_error)</span>\n",
       "  <span class='refnanny'>__Pyx_GOTREF</span>(__pyx_t_1);\n",
       "  if (<span class='py_c_api'>PyDict_SetItem</span>(__pyx_d, __pyx_n_s_update_cython3, __pyx_t_1) &lt; 0) <span class='error_goto'>__PYX_ERR(0, 6, __pyx_L1_error)</span>\n",
       "  <span class='pyx_macro_api'>__Pyx_DECREF</span>(__pyx_t_1); __pyx_t_1 = 0;\n",
       "  __pyx_codeobj__21 = (PyObject*)<span class='pyx_c_api'>__Pyx_PyCode_New</span>(1, 0, 8, 0, CO_OPTIMIZED|CO_NEWLOCALS, __pyx_empty_bytes, __pyx_empty_tuple, __pyx_empty_tuple, __pyx_tuple__20, __pyx_empty_tuple, __pyx_empty_tuple, __pyx_kp_s_Users_dgalembeck_cache_ipython, __pyx_n_s_update_cython3, 6, __pyx_empty_bytes);<span class='error_goto'> if (unlikely(!__pyx_codeobj__21)) __PYX_ERR(0, 6, __pyx_L1_error)</span>\n",
       "</pre><pre class=\"cython line score-0\">&#xA0;<span class=\"\">07</span>:     <span class=\"k\">cdef</span> <span class=\"kt\">int</span> <span class=\"nf\">n</span><span class=\"p\">,</span> <span class=\"nf\">m</span><span class=\"p\">,</span> <span class=\"nf\">row</span><span class=\"p\">,</span> <span class=\"nf\">col</span><span class=\"p\">,</span> <span class=\"nf\">live_neighbors</span></pre>\n",
       "<pre class=\"cython line score-0\">&#xA0;<span class=\"\">08</span>:     <span class=\"k\">cdef</span> <span class=\"kt\">signed</span> <span class=\"kt\">char</span>[<span class=\"p\">:,</span> <span class=\"p\">:]</span> <span class=\"n\">next_grid</span></pre>\n",
       "<pre class=\"cython line score-0\">&#xA0;<span class=\"\">09</span>: </pre>\n",
       "<pre class=\"cython line score-0\" onclick=\"(function(s){s.display=s.display==='block'?'none':'block'})(this.nextElementSibling.style)\">+<span class=\"\">10</span>:     <span class=\"n\">n</span> <span class=\"o\">=</span> <span class=\"n\">grid</span><span class=\"o\">.</span><span class=\"n\">shape</span><span class=\"p\">[</span><span class=\"mf\">0</span><span class=\"p\">]</span></pre>\n",
       "<pre class='cython code score-0 '>  __pyx_v_n = (__pyx_v_grid.shape[0]);\n",
       "</pre><pre class=\"cython line score-0\" onclick=\"(function(s){s.display=s.display==='block'?'none':'block'})(this.nextElementSibling.style)\">+<span class=\"\">11</span>:     <span class=\"n\">m</span> <span class=\"o\">=</span> <span class=\"n\">grid</span><span class=\"o\">.</span><span class=\"n\">shape</span><span class=\"p\">[</span><span class=\"mf\">1</span><span class=\"p\">]</span></pre>\n",
       "<pre class='cython code score-0 '>  __pyx_v_m = (__pyx_v_grid.shape[1]);\n",
       "</pre><pre class=\"cython line score-43\" onclick=\"(function(s){s.display=s.display==='block'?'none':'block'})(this.nextElementSibling.style)\">+<span class=\"\">12</span>:     <span class=\"n\">next_grid</span> <span class=\"o\">=</span> <span class=\"n\">np</span><span class=\"o\">.</span><span class=\"n\">zeros</span><span class=\"p\">((</span><span class=\"n\">n</span><span class=\"p\">,</span> <span class=\"n\">m</span><span class=\"p\">),</span> <span class=\"n\">dtype</span><span class=\"o\">=</span><span class=\"n\">np</span><span class=\"o\">.</span><span class=\"n\">int8</span><span class=\"p\">)</span></pre>\n",
       "<pre class='cython code score-43 '>  <span class='pyx_c_api'>__Pyx_GetModuleGlobalName</span>(__pyx_t_1, __pyx_n_s_np);<span class='error_goto'> if (unlikely(!__pyx_t_1)) __PYX_ERR(0, 12, __pyx_L1_error)</span>\n",
       "  <span class='refnanny'>__Pyx_GOTREF</span>(__pyx_t_1);\n",
       "  __pyx_t_2 = <span class='pyx_c_api'>__Pyx_PyObject_GetAttrStr</span>(__pyx_t_1, __pyx_n_s_zeros);<span class='error_goto'> if (unlikely(!__pyx_t_2)) __PYX_ERR(0, 12, __pyx_L1_error)</span>\n",
       "  <span class='refnanny'>__Pyx_GOTREF</span>(__pyx_t_2);\n",
       "  <span class='pyx_macro_api'>__Pyx_DECREF</span>(__pyx_t_1); __pyx_t_1 = 0;\n",
       "  __pyx_t_1 = <span class='pyx_c_api'>__Pyx_PyInt_From_int</span>(__pyx_v_n);<span class='error_goto'> if (unlikely(!__pyx_t_1)) __PYX_ERR(0, 12, __pyx_L1_error)</span>\n",
       "  <span class='refnanny'>__Pyx_GOTREF</span>(__pyx_t_1);\n",
       "  __pyx_t_3 = <span class='pyx_c_api'>__Pyx_PyInt_From_int</span>(__pyx_v_m);<span class='error_goto'> if (unlikely(!__pyx_t_3)) __PYX_ERR(0, 12, __pyx_L1_error)</span>\n",
       "  <span class='refnanny'>__Pyx_GOTREF</span>(__pyx_t_3);\n",
       "  __pyx_t_4 = <span class='py_c_api'>PyTuple_New</span>(2);<span class='error_goto'> if (unlikely(!__pyx_t_4)) __PYX_ERR(0, 12, __pyx_L1_error)</span>\n",
       "  <span class='refnanny'>__Pyx_GOTREF</span>(__pyx_t_4);\n",
       "  <span class='refnanny'>__Pyx_GIVEREF</span>(__pyx_t_1);\n",
       "  <span class='py_macro_api'>PyTuple_SET_ITEM</span>(__pyx_t_4, 0, __pyx_t_1);\n",
       "  <span class='refnanny'>__Pyx_GIVEREF</span>(__pyx_t_3);\n",
       "  <span class='py_macro_api'>PyTuple_SET_ITEM</span>(__pyx_t_4, 1, __pyx_t_3);\n",
       "  __pyx_t_1 = 0;\n",
       "  __pyx_t_3 = 0;\n",
       "  __pyx_t_3 = <span class='py_c_api'>PyTuple_New</span>(1);<span class='error_goto'> if (unlikely(!__pyx_t_3)) __PYX_ERR(0, 12, __pyx_L1_error)</span>\n",
       "  <span class='refnanny'>__Pyx_GOTREF</span>(__pyx_t_3);\n",
       "  <span class='refnanny'>__Pyx_GIVEREF</span>(__pyx_t_4);\n",
       "  <span class='py_macro_api'>PyTuple_SET_ITEM</span>(__pyx_t_3, 0, __pyx_t_4);\n",
       "  __pyx_t_4 = 0;\n",
       "  __pyx_t_4 = <span class='pyx_c_api'>__Pyx_PyDict_NewPresized</span>(1);<span class='error_goto'> if (unlikely(!__pyx_t_4)) __PYX_ERR(0, 12, __pyx_L1_error)</span>\n",
       "  <span class='refnanny'>__Pyx_GOTREF</span>(__pyx_t_4);\n",
       "  <span class='pyx_c_api'>__Pyx_GetModuleGlobalName</span>(__pyx_t_1, __pyx_n_s_np);<span class='error_goto'> if (unlikely(!__pyx_t_1)) __PYX_ERR(0, 12, __pyx_L1_error)</span>\n",
       "  <span class='refnanny'>__Pyx_GOTREF</span>(__pyx_t_1);\n",
       "  __pyx_t_5 = <span class='pyx_c_api'>__Pyx_PyObject_GetAttrStr</span>(__pyx_t_1, __pyx_n_s_int8);<span class='error_goto'> if (unlikely(!__pyx_t_5)) __PYX_ERR(0, 12, __pyx_L1_error)</span>\n",
       "  <span class='refnanny'>__Pyx_GOTREF</span>(__pyx_t_5);\n",
       "  <span class='pyx_macro_api'>__Pyx_DECREF</span>(__pyx_t_1); __pyx_t_1 = 0;\n",
       "  if (<span class='py_c_api'>PyDict_SetItem</span>(__pyx_t_4, __pyx_n_s_dtype, __pyx_t_5) &lt; 0) <span class='error_goto'>__PYX_ERR(0, 12, __pyx_L1_error)</span>\n",
       "  <span class='pyx_macro_api'>__Pyx_DECREF</span>(__pyx_t_5); __pyx_t_5 = 0;\n",
       "  __pyx_t_5 = <span class='pyx_c_api'>__Pyx_PyObject_Call</span>(__pyx_t_2, __pyx_t_3, __pyx_t_4);<span class='error_goto'> if (unlikely(!__pyx_t_5)) __PYX_ERR(0, 12, __pyx_L1_error)</span>\n",
       "  <span class='refnanny'>__Pyx_GOTREF</span>(__pyx_t_5);\n",
       "  <span class='pyx_macro_api'>__Pyx_DECREF</span>(__pyx_t_2); __pyx_t_2 = 0;\n",
       "  <span class='pyx_macro_api'>__Pyx_DECREF</span>(__pyx_t_3); __pyx_t_3 = 0;\n",
       "  <span class='pyx_macro_api'>__Pyx_DECREF</span>(__pyx_t_4); __pyx_t_4 = 0;\n",
       "  __pyx_t_6 = <span class='pyx_c_api'>__Pyx_PyObject_to_MemoryviewSlice_dsds_signed__char</span>(__pyx_t_5, PyBUF_WRITABLE);<span class='error_goto'> if (unlikely(!__pyx_t_6.memview)) __PYX_ERR(0, 12, __pyx_L1_error)</span>\n",
       "  <span class='pyx_macro_api'>__Pyx_DECREF</span>(__pyx_t_5); __pyx_t_5 = 0;\n",
       "  __pyx_v_next_grid = __pyx_t_6;\n",
       "  __pyx_t_6.memview = NULL;\n",
       "  __pyx_t_6.data = NULL;\n",
       "</pre><pre class=\"cython line score-0\">&#xA0;<span class=\"\">13</span>: </pre>\n",
       "<pre class=\"cython line score-0\" onclick=\"(function(s){s.display=s.display==='block'?'none':'block'})(this.nextElementSibling.style)\">+<span class=\"\">14</span>:     <span class=\"k\">for</span> <span class=\"n\">row</span> <span class=\"ow\">in</span> <span class=\"nb\">range</span><span class=\"p\">(</span><span class=\"n\">n</span><span class=\"p\">):</span></pre>\n",
       "<pre class='cython code score-0 '>  __pyx_t_7 = __pyx_v_n;\n",
       "  __pyx_t_8 = __pyx_t_7;\n",
       "  for (__pyx_t_9 = 0; __pyx_t_9 &lt; __pyx_t_8; __pyx_t_9+=1) {\n",
       "    __pyx_v_row = __pyx_t_9;\n",
       "</pre><pre class=\"cython line score-0\" onclick=\"(function(s){s.display=s.display==='block'?'none':'block'})(this.nextElementSibling.style)\">+<span class=\"\">15</span>:         <span class=\"k\">for</span> <span class=\"n\">col</span> <span class=\"ow\">in</span> <span class=\"nb\">range</span><span class=\"p\">(</span><span class=\"n\">m</span><span class=\"p\">):</span></pre>\n",
       "<pre class='cython code score-0 '>    __pyx_t_10 = __pyx_v_m;\n",
       "    __pyx_t_11 = __pyx_t_10;\n",
       "    for (__pyx_t_12 = 0; __pyx_t_12 &lt; __pyx_t_11; __pyx_t_12+=1) {\n",
       "      __pyx_v_col = __pyx_t_12;\n",
       "</pre><pre class=\"cython line score-0\">&#xA0;<span class=\"\">16</span>:             <span class=\"n\">live_neighbors</span> <span class=\"o\">=</span>  <span class=\"p\">(</span></pre>\n",
       "<pre class=\"cython line score-0\" onclick=\"(function(s){s.display=s.display==='block'?'none':'block'})(this.nextElementSibling.style)\">+<span class=\"\">17</span>:                 <span class=\"n\">grid</span><span class=\"p\">[</span><span class=\"n\">row</span><span class=\"o\">-</span><span class=\"mf\">1</span><span class=\"p\">,</span> <span class=\"n\">col</span><span class=\"o\">-</span><span class=\"mf\">1</span><span class=\"p\">]</span> <span class=\"o\">+</span> <span class=\"n\">grid</span><span class=\"p\">[</span><span class=\"n\">row</span><span class=\"o\">-</span><span class=\"mf\">1</span><span class=\"p\">,</span> <span class=\"n\">col</span><span class=\"p\">]</span> <span class=\"o\">+</span> <span class=\"n\">grid</span><span class=\"p\">[</span><span class=\"n\">row</span><span class=\"o\">-</span><span class=\"mf\">1</span><span class=\"p\">,</span> <span class=\"n\">col</span><span class=\"o\">+</span><span class=\"mf\">1</span><span class=\"p\">]</span> <span class=\"o\">+</span></pre>\n",
       "<pre class='cython code score-0 '>      __pyx_t_13 = (__pyx_v_row - 1);\n",
       "      __pyx_t_14 = (__pyx_v_col - 1);\n",
       "      __pyx_t_15 = (__pyx_v_row - 1);\n",
       "      __pyx_t_16 = __pyx_v_col;\n",
       "      __pyx_t_17 = (__pyx_v_row - 1);\n",
       "      __pyx_t_18 = (__pyx_v_col + 1);\n",
       "</pre><pre class=\"cython line score-0\" onclick=\"(function(s){s.display=s.display==='block'?'none':'block'})(this.nextElementSibling.style)\">+<span class=\"\">18</span>:                 <span class=\"n\">grid</span><span class=\"p\">[</span><span class=\"n\">row</span><span class=\"p\">,</span> <span class=\"n\">col</span><span class=\"o\">-</span><span class=\"mf\">1</span><span class=\"p\">]</span> <span class=\"o\">+</span>                      <span class=\"n\">grid</span><span class=\"p\">[</span><span class=\"n\">row</span><span class=\"p\">,</span> <span class=\"n\">col</span><span class=\"o\">+</span><span class=\"mf\">1</span><span class=\"p\">]</span> <span class=\"o\">+</span></pre>\n",
       "<pre class='cython code score-0 '>      __pyx_t_19 = __pyx_v_row;\n",
       "      __pyx_t_20 = (__pyx_v_col - 1);\n",
       "/* … */\n",
       "      __pyx_t_21 = __pyx_v_row;\n",
       "      __pyx_t_22 = (__pyx_v_col + 1);\n",
       "</pre><pre class=\"cython line score-0\" onclick=\"(function(s){s.display=s.display==='block'?'none':'block'})(this.nextElementSibling.style)\">+<span class=\"\">19</span>:                 <span class=\"n\">grid</span><span class=\"p\">[</span><span class=\"n\">row</span><span class=\"o\">+</span><span class=\"mf\">1</span><span class=\"p\">,</span> <span class=\"n\">col</span><span class=\"o\">-</span><span class=\"mf\">1</span><span class=\"p\">]</span> <span class=\"o\">+</span> <span class=\"n\">grid</span><span class=\"p\">[</span><span class=\"n\">row</span><span class=\"o\">+</span><span class=\"mf\">1</span><span class=\"p\">,</span> <span class=\"n\">col</span><span class=\"p\">]</span> <span class=\"o\">+</span> <span class=\"n\">grid</span><span class=\"p\">[</span><span class=\"n\">row</span><span class=\"o\">+</span><span class=\"mf\">1</span><span class=\"p\">,</span> <span class=\"n\">col</span><span class=\"o\">+</span><span class=\"mf\">1</span><span class=\"p\">]</span></pre>\n",
       "<pre class='cython code score-0 '>      __pyx_t_23 = (__pyx_v_row + 1);\n",
       "      __pyx_t_24 = (__pyx_v_col - 1);\n",
       "/* … */\n",
       "      __pyx_t_25 = (__pyx_v_row + 1);\n",
       "      __pyx_t_26 = __pyx_v_col;\n",
       "/* … */\n",
       "      __pyx_t_27 = (__pyx_v_row + 1);\n",
       "      __pyx_t_28 = (__pyx_v_col + 1);\n",
       "      __pyx_v_live_neighbors = ((((((((*((signed char *) ( /* dim=1 */ (( /* dim=0 */ (__pyx_v_grid.data + __pyx_t_13 * __pyx_v_grid.strides[0]) ) + __pyx_t_14 * __pyx_v_grid.strides[1]) ))) + (*((signed char *) ( /* dim=1 */ (( /* dim=0 */ (__pyx_v_grid.data + __pyx_t_15 * __pyx_v_grid.strides[0]) ) + __pyx_t_16 * __pyx_v_grid.strides[1]) )))) + (*((signed char *) ( /* dim=1 */ (( /* dim=0 */ (__pyx_v_grid.data + __pyx_t_17 * __pyx_v_grid.strides[0]) ) + __pyx_t_18 * __pyx_v_grid.strides[1]) )))) + (*((signed char *) ( /* dim=1 */ (( /* dim=0 */ (__pyx_v_grid.data + __pyx_t_19 * __pyx_v_grid.strides[0]) ) + __pyx_t_20 * __pyx_v_grid.strides[1]) )))) + (*((signed char *) ( /* dim=1 */ (( /* dim=0 */ (__pyx_v_grid.data + __pyx_t_21 * __pyx_v_grid.strides[0]) ) + __pyx_t_22 * __pyx_v_grid.strides[1]) )))) + (*((signed char *) ( /* dim=1 */ (( /* dim=0 */ (__pyx_v_grid.data + __pyx_t_23 * __pyx_v_grid.strides[0]) ) + __pyx_t_24 * __pyx_v_grid.strides[1]) )))) + (*((signed char *) ( /* dim=1 */ (( /* dim=0 */ (__pyx_v_grid.data + __pyx_t_25 * __pyx_v_grid.strides[0]) ) + __pyx_t_26 * __pyx_v_grid.strides[1]) )))) + (*((signed char *) ( /* dim=1 */ (( /* dim=0 */ (__pyx_v_grid.data + __pyx_t_27 * __pyx_v_grid.strides[0]) ) + __pyx_t_28 * __pyx_v_grid.strides[1]) ))));\n",
       "</pre><pre class=\"cython line score-0\">&#xA0;<span class=\"\">20</span>:             <span class=\"p\">)</span></pre>\n",
       "<pre class=\"cython line score-0\">&#xA0;<span class=\"\">21</span>: </pre>\n",
       "<pre class=\"cython line score-0\" onclick=\"(function(s){s.display=s.display==='block'?'none':'block'})(this.nextElementSibling.style)\">+<span class=\"\">22</span>:             <span class=\"k\">if</span> <span class=\"n\">live_neighbors</span> <span class=\"o\">&lt;</span> <span class=\"mf\">2</span> <span class=\"ow\">or</span> <span class=\"n\">live_neighbors</span> <span class=\"o\">&gt;</span> <span class=\"mf\">3</span><span class=\"p\">:</span></pre>\n",
       "<pre class='cython code score-0 '>      __pyx_t_30 = ((__pyx_v_live_neighbors &lt; 2) != 0);\n",
       "      if (!__pyx_t_30) {\n",
       "      } else {\n",
       "        __pyx_t_29 = __pyx_t_30;\n",
       "        goto __pyx_L8_bool_binop_done;\n",
       "      }\n",
       "      __pyx_t_30 = ((__pyx_v_live_neighbors &gt; 3) != 0);\n",
       "      __pyx_t_29 = __pyx_t_30;\n",
       "      __pyx_L8_bool_binop_done:;\n",
       "      if (__pyx_t_29) {\n",
       "/* … */\n",
       "        goto __pyx_L7;\n",
       "      }\n",
       "</pre><pre class=\"cython line score-0\" onclick=\"(function(s){s.display=s.display==='block'?'none':'block'})(this.nextElementSibling.style)\">+<span class=\"\">23</span>:                 <span class=\"n\">next_grid</span><span class=\"p\">[</span><span class=\"n\">row</span><span class=\"p\">][</span><span class=\"n\">col</span><span class=\"p\">]</span> <span class=\"o\">=</span> <span class=\"mf\">0</span></pre>\n",
       "<pre class='cython code score-0 '>        __pyx_t_28 = __pyx_v_row;\n",
       "        __pyx_t_27 = __pyx_v_col;\n",
       "        *((signed char *) ( /* dim=1 */ (( /* dim=0 */ (__pyx_v_next_grid.data + __pyx_t_28 * __pyx_v_next_grid.strides[0]) ) + __pyx_t_27 * __pyx_v_next_grid.strides[1]) )) = 0;\n",
       "</pre><pre class=\"cython line score-0\" onclick=\"(function(s){s.display=s.display==='block'?'none':'block'})(this.nextElementSibling.style)\">+<span class=\"\">24</span>:             <span class=\"k\">elif</span> <span class=\"n\">live_neighbors</span> <span class=\"o\">==</span> <span class=\"mf\">3</span> <span class=\"ow\">and</span> <span class=\"n\">grid</span><span class=\"p\">[</span><span class=\"n\">row</span><span class=\"p\">][</span><span class=\"n\">col</span><span class=\"p\">]</span> <span class=\"o\">==</span> <span class=\"mf\">0</span><span class=\"p\">:</span></pre>\n",
       "<pre class='cython code score-0 '>      __pyx_t_30 = ((__pyx_v_live_neighbors == 3) != 0);\n",
       "      if (__pyx_t_30) {\n",
       "      } else {\n",
       "        __pyx_t_29 = __pyx_t_30;\n",
       "        goto __pyx_L10_bool_binop_done;\n",
       "      }\n",
       "      __pyx_t_27 = __pyx_v_row;\n",
       "      __pyx_t_28 = __pyx_v_col;\n",
       "      __pyx_t_30 = (((*((signed char *) ( /* dim=1 */ (( /* dim=0 */ (__pyx_v_grid.data + __pyx_t_27 * __pyx_v_grid.strides[0]) ) + __pyx_t_28 * __pyx_v_grid.strides[1]) ))) == 0) != 0);\n",
       "      __pyx_t_29 = __pyx_t_30;\n",
       "      __pyx_L10_bool_binop_done:;\n",
       "      if (__pyx_t_29) {\n",
       "/* … */\n",
       "        goto __pyx_L7;\n",
       "      }\n",
       "</pre><pre class=\"cython line score-0\" onclick=\"(function(s){s.display=s.display==='block'?'none':'block'})(this.nextElementSibling.style)\">+<span class=\"\">25</span>:                 <span class=\"n\">next_grid</span><span class=\"p\">[</span><span class=\"n\">row</span><span class=\"p\">][</span><span class=\"n\">col</span><span class=\"p\">]</span> <span class=\"o\">=</span> <span class=\"mf\">1</span></pre>\n",
       "<pre class='cython code score-0 '>        __pyx_t_28 = __pyx_v_row;\n",
       "        __pyx_t_27 = __pyx_v_col;\n",
       "        *((signed char *) ( /* dim=1 */ (( /* dim=0 */ (__pyx_v_next_grid.data + __pyx_t_28 * __pyx_v_next_grid.strides[0]) ) + __pyx_t_27 * __pyx_v_next_grid.strides[1]) )) = 1;\n",
       "</pre><pre class=\"cython line score-0\">&#xA0;<span class=\"\">26</span>:             <span class=\"k\">else</span><span class=\"p\">:</span></pre>\n",
       "<pre class=\"cython line score-0\" onclick=\"(function(s){s.display=s.display==='block'?'none':'block'})(this.nextElementSibling.style)\">+<span class=\"\">27</span>:                 <span class=\"n\">next_grid</span><span class=\"p\">[</span><span class=\"n\">row</span><span class=\"p\">][</span><span class=\"n\">col</span><span class=\"p\">]</span> <span class=\"o\">=</span> <span class=\"n\">grid</span><span class=\"p\">[</span><span class=\"n\">row</span><span class=\"p\">][</span><span class=\"n\">col</span><span class=\"p\">]</span></pre>\n",
       "<pre class='cython code score-0 '>      /*else*/ {\n",
       "        __pyx_t_27 = __pyx_v_row;\n",
       "        __pyx_t_28 = __pyx_v_col;\n",
       "        __pyx_t_26 = __pyx_v_row;\n",
       "        __pyx_t_25 = __pyx_v_col;\n",
       "        *((signed char *) ( /* dim=1 */ (( /* dim=0 */ (__pyx_v_next_grid.data + __pyx_t_26 * __pyx_v_next_grid.strides[0]) ) + __pyx_t_25 * __pyx_v_next_grid.strides[1]) )) = (*((signed char *) ( /* dim=1 */ (( /* dim=0 */ (__pyx_v_grid.data + __pyx_t_27 * __pyx_v_grid.strides[0]) ) + __pyx_t_28 * __pyx_v_grid.strides[1]) )));\n",
       "      }\n",
       "      __pyx_L7:;\n",
       "    }\n",
       "  }\n",
       "</pre><pre class=\"cython line score-0\">&#xA0;<span class=\"\">28</span>: </pre>\n",
       "<pre class=\"cython line score-1\" onclick=\"(function(s){s.display=s.display==='block'?'none':'block'})(this.nextElementSibling.style)\">+<span class=\"\">29</span>:     <span class=\"k\">return</span> <span class=\"n\">next_grid</span></pre>\n",
       "<pre class='cython code score-1 '>  <span class='pyx_macro_api'>__Pyx_XDECREF</span>(__pyx_r);\n",
       "  __pyx_t_5 = __pyx_memoryview_fromslice(__pyx_v_next_grid, 2, (PyObject *(*)(char *)) __pyx_memview_get_signed__char, (int (*)(char *, PyObject *)) __pyx_memview_set_signed__char, 0);;<span class='error_goto'> if (unlikely(!__pyx_t_5)) __PYX_ERR(0, 29, __pyx_L1_error)</span>\n",
       "  <span class='refnanny'>__Pyx_GOTREF</span>(__pyx_t_5);\n",
       "  __pyx_r = __pyx_t_5;\n",
       "  __pyx_t_5 = 0;\n",
       "  goto __pyx_L0;\n",
       "</pre></div></body></html>"
      ],
      "text/plain": [
       "<IPython.core.display.HTML object>"
      ]
     },
     "execution_count": 44,
     "metadata": {},
     "output_type": "execute_result"
    }
   ],
   "source": [
    "%%cython -a\n",
    "import numpy as np\n",
    "from cython import boundscheck, wraparound\n",
    "\n",
    "@boundscheck(False)\n",
    "@wraparound(False)\n",
    "def update_cython3(signed char[:, :] grid):\n",
    "    cdef int n, m, row, col, live_neighbors\n",
    "    cdef signed char[:, :] next_grid\n",
    "    \n",
    "    n = grid.shape[0]\n",
    "    m = grid.shape[1]\n",
    "    next_grid = np.zeros((n, m), dtype=np.int8)\n",
    "\n",
    "    for row in range(n):\n",
    "        for col in range(m):\n",
    "            live_neighbors =  (\n",
    "                grid[row-1, col-1] + grid[row-1, col] + grid[row-1, col+1] +\n",
    "                grid[row, col-1] +                      grid[row, col+1] +\n",
    "                grid[row+1, col-1] + grid[row+1, col] + grid[row+1, col+1]\n",
    "            )\n",
    "                        \n",
    "            if live_neighbors < 2 or live_neighbors > 3:\n",
    "                next_grid[row][col] = 0\n",
    "            elif live_neighbors == 3 and grid[row][col] == 0:\n",
    "                next_grid[row][col] = 1\n",
    "            else:\n",
    "                next_grid[row][col] = grid[row][col]\n",
    "    \n",
    "    return next_grid"
   ]
  },
  {
   "cell_type": "code",
   "execution_count": 45,
   "id": "fce41a33",
   "metadata": {
    "slideshow": {
     "slide_type": "subslide"
    }
   },
   "outputs": [
    {
     "name": "stdout",
     "output_type": "stream",
     "text": [
      "3.06 µs ± 12 ns per loop (mean ± std. dev. of 7 runs, 100,000 loops each)\n"
     ]
    }
   ],
   "source": [
    "%timeit update_cython3(grid)"
   ]
  },
  {
   "cell_type": "code",
   "execution_count": 48,
   "id": "6d359e3d",
   "metadata": {
    "slideshow": {
     "slide_type": "subslide"
    }
   },
   "outputs": [],
   "source": [
    "import numba\n",
    "\n",
    "@numba.jit(nopython=True)\n",
    "def update_numba(grid: np.ndarray) -> np.ndarray:\n",
    "    next_grid = np.zeros(grid.shape, dtype=np.int8)\n",
    "    n, m = grid.shape\n",
    "    \n",
    "    for row in range(n):\n",
    "        for col in range(m):\n",
    "            live_neighbors =  (\n",
    "                grid[row-1, col-1] + grid[row-1, col] + grid[row-1, col+1] +\n",
    "                grid[row, col-1] +                      grid[row, col+1] +\n",
    "                grid[row+1, col-1] + grid[row+1, col] + grid[row+1, col+1]\n",
    "            )\n",
    "            \n",
    "            # If the number of surrounding live cells is < 2 or > 3 then we make the cell at grid[row][col] a dead cell\n",
    "            if live_neighbors < 2 or live_neighbors > 3:\n",
    "                next_grid[row][col] = 0\n",
    "            # If the number of surrounding live cells is 3 and the cell at grid[row][col] was previously dead then make\n",
    "            # the cell into a live cell\n",
    "            elif live_neighbors == 3 and grid[row][col] == 0:\n",
    "                next_grid[row][col] = 1\n",
    "            # If the number of surrounding live cells is 3 and the cell at grid[row][col] is alive keep it alive\n",
    "            else:\n",
    "                next_grid[row][col] = grid[row][col]\n",
    "    \n",
    "    return next_grid"
   ]
  },
  {
   "cell_type": "code",
   "execution_count": 49,
   "id": "ba607853",
   "metadata": {
    "slideshow": {
     "slide_type": "subslide"
    }
   },
   "outputs": [
    {
     "name": "stdout",
     "output_type": "stream",
     "text": [
      "6.21 µs ± 2.99 µs per loop (mean ± std. dev. of 7 runs, 1 loop each)\n"
     ]
    }
   ],
   "source": [
    "%timeit update_numba(grid)"
   ]
  },
  {
   "cell_type": "markdown",
   "id": "50ff5b7f",
   "metadata": {
    "slideshow": {
     "slide_type": "slide"
    }
   },
   "source": [
    "### Parallélisme  et concurrence en python"
   ]
  },
  {
   "cell_type": "markdown",
   "id": "de819f64",
   "metadata": {
    "slideshow": {
     "slide_type": "fragment"
    }
   },
   "source": [
    "<div class=\"alert alert-danger\" role=\"alert\">\n",
    "   <b> Attention : </b> concurrence $\\neq$ parallèlisme. <br>\n",
    "   La <b>concurrence</b> c'est l'exécutions de plusieurs taches (plus ou moins) en même temps. Penser <i> thread</i> avec mémoire généralement partagée et chemins d'exécution variable.<br>\n",
    "   Le <b> parallèlisme </b>, c'est l'usage de plusieurs coeurs (ou machines) en même temps pour diviser le temps de calcul. La mémoire peut etre partager ou non. Ex: MPI ou openMP. <br>\n",
    "</div>"
   ]
  },
  {
   "cell_type": "markdown",
   "id": "9b5f9ff6",
   "metadata": {
    "slideshow": {
     "slide_type": "slide"
    }
   },
   "source": [
    "#### Appels concurrents\n",
    "<div class=\"alert alert-success\" role=\"alert\">\n",
    "   <b>Global Interpreter Lock (GIL)</b>  est un mécanisme intégré à l'interpréteur le plus courant (CPython) qui garanti qu'un seul processus à la fois peut accéder à certaines resssources pour en assurer le bon fonctionnement. <br>\n",
    "    $\\Longrightarrow$ bloque l'exécution parallèle de threads python... Deux conséquences : \n",
    "    <ol>\n",
    "        <li>Les calculs couteux ne sont pas plus rapides</li>\n",
    "        <li>Les IOs ou appels systems ne sont pas impactés</li>\n",
    "    </ol>\n",
    "</div>"
   ]
  },
  {
   "cell_type": "markdown",
   "id": "be7ab5a4",
   "metadata": {
    "slideshow": {
     "slide_type": "fragment"
    }
   },
   "source": [
    "##### Bon usage du multithreading\n",
    "On va télécharger tout un tas de drapeaux avec et sans le module `threading.Thread`."
   ]
  },
  {
   "cell_type": "code",
   "execution_count": 53,
   "id": "58cd35fb",
   "metadata": {
    "slideshow": {
     "slide_type": "fragment"
    }
   },
   "outputs": [],
   "source": [
    "import requests\n",
    "r = requests.get(\"https://flagcdn.com/fr/codes.json\")\n",
    "codes = r.json()"
   ]
  },
  {
   "cell_type": "code",
   "execution_count": 54,
   "id": "0979b87b",
   "metadata": {
    "slideshow": {
     "slide_type": "fragment"
    }
   },
   "outputs": [
    {
     "name": "stdout",
     "output_type": "stream",
     "text": [
      "CPU times: user 6.49 s, sys: 454 ms, total: 6.94 s\n",
      "Wall time: 32.9 s\n"
     ]
    }
   ],
   "source": [
    "%%time\n",
    "for c in codes.keys():\n",
    "    url = f\"https://flagcdn.com/256x192/{c}.png\"\n",
    "    r = requests.get(url)"
   ]
  },
  {
   "cell_type": "code",
   "execution_count": 55,
   "id": "888c75d6",
   "metadata": {
    "slideshow": {
     "slide_type": "fragment"
    }
   },
   "outputs": [
    {
     "data": {
      "application/vnd.jupyter.widget-view+json": {
       "model_id": "82479b478d3c4921be344561a8e6069b",
       "version_major": 2,
       "version_minor": 0
      },
      "text/plain": [
       "Image(value=b'\\x89PNG\\r\\n\\x1a\\n\\x00\\x00\\x00\\rIHDR\\x00\\x00\\x01\\x00\\x00\\x00\\x00\\xc0\\x08\\x03\\x00\\x00\\x00\\xdc3MT\\x…"
      ]
     },
     "execution_count": 55,
     "metadata": {},
     "output_type": "execute_result"
    }
   ],
   "source": [
    "from ipywidgets import Image\n",
    "Image(value=r.content)"
   ]
  },
  {
   "cell_type": "code",
   "execution_count": 56,
   "id": "c37fb2dd",
   "metadata": {
    "slideshow": {
     "slide_type": "fragment"
    }
   },
   "outputs": [],
   "source": [
    "from threading import Thread\n",
    "class Drapeau(Thread):\n",
    "    def __init__(self, code):\n",
    "        super().__init__()\n",
    "        self.code = code\n",
    "\n",
    "    def run(self):\n",
    "        url = f\"https://flagcdn.com/256x192/{self.code}.png\"\n",
    "        self.r = requests.get(url)"
   ]
  },
  {
   "cell_type": "code",
   "execution_count": 57,
   "id": "2a3efdf5",
   "metadata": {
    "slideshow": {
     "slide_type": "fragment"
    }
   },
   "outputs": [
    {
     "name": "stdout",
     "output_type": "stream",
     "text": [
      "CPU times: user 4.54 s, sys: 1.79 s, total: 6.33 s\n",
      "Wall time: 3.11 s\n"
     ]
    }
   ],
   "source": [
    "%%time\n",
    "threads = []\n",
    "for c in codes.keys():\n",
    "    thread = Drapeau(c)\n",
    "    thread.start()\n",
    "    threads.append(thread)\n",
    "\n",
    "for thread in threads:\n",
    "    thread.join()"
   ]
  },
  {
   "cell_type": "code",
   "execution_count": 58,
   "id": "7c144835",
   "metadata": {
    "slideshow": {
     "slide_type": "fragment"
    }
   },
   "outputs": [
    {
     "data": {
      "application/vnd.jupyter.widget-view+json": {
       "model_id": "1aa1c0e173414e97876f2a3ca98f92da",
       "version_major": 2,
       "version_minor": 0
      },
      "text/plain": [
       "Image(value=b'\\x89PNG\\r\\n\\x1a\\n\\x00\\x00\\x00\\rIHDR\\x00\\x00\\x01\\x00\\x00\\x00\\x00\\xc0\\x08\\x03\\x00\\x00\\x00\\xdc3MT\\x…"
      ]
     },
     "execution_count": 58,
     "metadata": {},
     "output_type": "execute_result"
    }
   ],
   "source": [
    "from ipywidgets import Image\n",
    "Image(value=thread.r.content)"
   ]
  },
  {
   "cell_type": "markdown",
   "id": "5212b2e8",
   "metadata": {
    "slideshow": {
     "slide_type": "subslide"
    }
   },
   "source": [
    "##### Mauvais usage du multithreading"
   ]
  },
  {
   "cell_type": "code",
   "execution_count": 59,
   "id": "12ef5294",
   "metadata": {
    "slideshow": {
     "slide_type": "fragment"
    }
   },
   "outputs": [],
   "source": [
    "class LocalUpdate(Thread):\n",
    "    def __init__ (self,grid,row,col):\n",
    "        super().__init__()\n",
    "        self.grid=grid\n",
    "        self.row=row\n",
    "        self.col=col\n",
    "        self.val=0\n",
    "        \n",
    "    def run(self):\n",
    "        live_neighbors = np.sum(self.grid[self.row -1 : self.row + 2, self.col - 1 : self.col + 2]) - self.grid[self.row, self.col] \n",
    "        if live_neighbors < 2 or live_neighbors > 3:\n",
    "            self.val= 0\n",
    "        elif live_neighbors == 3 and self.grid[self.row, self.col] == 0:\n",
    "            self.val= 1\n",
    "        else:\n",
    "            self.val=self.grid[self.row, self.col]\n",
    "\n",
    "def update_threaded(grid: np.ndarray) -> np.ndarray:\n",
    "    n, m = grid.shape\n",
    "    next_grid = np.zeros((n, m), dtype=np.int8)\n",
    "    # on parcours les lignes et le colones \n",
    "    threads=[[None for _ in range(m)]for _ in range(n)]\n",
    "    for row in range(n):\n",
    "        for col in range(m):\n",
    "            thread=LocalUpdate(grid,row,col)\n",
    "            thread.start()\n",
    "            threads[row][col]=thread\n",
    "    # On récupère les résultats\n",
    "    for row in range(n):\n",
    "        for col in range(m):\n",
    "            next_grid[row,col]=threads[row][col].val\n",
    "    return next_grid"
   ]
  },
  {
   "cell_type": "code",
   "execution_count": 60,
   "id": "d51922b1",
   "metadata": {
    "slideshow": {
     "slide_type": "fragment"
    }
   },
   "outputs": [
    {
     "name": "stdout",
     "output_type": "stream",
     "text": [
      "CPU times: user 48.7 ms, sys: 44.4 ms, total: 93.2 ms\n",
      "Wall time: 96.6 ms\n",
      "Speedup comparé à l'original python pur 0.03 soit une multiplication par 31 du temps de calcul\n"
     ]
    },
    {
     "data": {
      "text/plain": [
       "<matplotlib.image.AxesImage at 0x16da5a980>"
      ]
     },
     "execution_count": 60,
     "metadata": {},
     "output_type": "execute_result"
    },
    {
     "data": {
      "image/png": "[encoded data removed]",
      "text/plain": [
       "<Figure size 640x480 with 1 Axes>"
      ]
     },
     "metadata": {},
     "output_type": "display_data"
    }
   ],
   "source": [
    "%time update_threaded(grid)\n",
    "print(f\"Speedup comparé à l'original python pur {3.58/110:0.2f} soit une multiplication par {110/3.58:0.0f} du temps de calcul\")\n",
    "plt.imshow(update_threaded(grid), cmap=\"gray_r\")\n"
   ]
  },
  {
   "cell_type": "markdown",
   "id": "81ddb860",
   "metadata": {
    "slideshow": {
     "slide_type": "subslide"
    }
   },
   "source": [
    "Entrer dans le détail du multithreading dépasse le contenu de ce cours. Pour aller plus loin\n",
    "- [`asyncio`](https://docs.python.org/fr/3/library/asyncio.html) (quelques incompatibilités avec jupyter)\n",
    "- https://realpython.com/python-concurrency/"
   ]
  },
  {
   "cell_type": "markdown",
   "id": "34754946",
   "metadata": {
    "slideshow": {
     "slide_type": "slide"
    }
   },
   "source": [
    "#### Parallèlisme\n",
    "La programmation parallèle est l'arme ultime pour les calcul de grande envergure mais elle ne s'applique pas du tout à un problème de taille aussi modeste. On distingue deux grandes familles:\n",
    "- mémoire partagée, avec **OpenMP**\n",
    "    1. fonctionne facilement sur machine personelle.\n",
    "    1. numpy (entre autre) utilise déjà ce parallèlisme pour les opération d'algèbre linaire\n",
    "- mémoire distribuée, avec **MPI**\n",
    "    1. sur supercalculateur\n",
    "    1. l'utilisateur dois gérer les communications entre les noeuds\n",
    "    \n",
    " ![](openMP_MPI.png)"
   ]
  },
  {
   "cell_type": "markdown",
   "id": "dcd8b2c9",
   "metadata": {
    "slideshow": {
     "slide_type": "slide"
    }
   },
   "source": [
    "### Déporter des calculs sur GPU avec `cupy`"
   ]
  },
  {
   "cell_type": "code",
   "execution_count": 61,
   "id": "8a281d32",
   "metadata": {
    "slideshow": {
     "slide_type": "fragment"
    }
   },
   "outputs": [
    {
     "data": {
      "text/html": [
       "<iframe src=\"https://cupy.dev/\" width=\"1200\" height=\"800\"></iframe>\n"
      ],
      "text/plain": [
       "<IPython.core.display.HTML object>"
      ]
     },
     "metadata": {},
     "output_type": "display_data"
    }
   ],
   "source": [
    "%%html \n",
    "<iframe src=\"https://cupy.dev/\" width=\"1200\" height=\"800\"></iframe>"
   ]
  },
  {
   "cell_type": "code",
   "execution_count": 1,
   "id": "9a755abb",
   "metadata": {
    "slideshow": {
     "slide_type": "subslide"
    }
   },
   "outputs": [
    {
     "ename": "ModuleNotFoundError",
     "evalue": "No module named 'cupy'",
     "output_type": "error",
     "traceback": [
      "\u001b[0;31m---------------------------------------------------------------------------\u001b[0m",
      "\u001b[0;31mModuleNotFoundError\u001b[0m                       Traceback (most recent call last)",
      "Cell \u001b[0;32mIn [1], line 1\u001b[0m\n\u001b[0;32m----> 1\u001b[0m \u001b[39mimport\u001b[39;00m \u001b[39mcupy\u001b[39;00m \u001b[39mas\u001b[39;00m \u001b[39mcp\u001b[39;00m\n\u001b[1;32m      2\u001b[0m \u001b[39mdef\u001b[39;00m \u001b[39mupdate_cp\u001b[39m(grid):\n\u001b[1;32m      3\u001b[0m     next_grid \u001b[39m=\u001b[39m cp\u001b[39m.\u001b[39mzeros_like(grid, dtype\u001b[39m=\u001b[39mnp\u001b[39m.\u001b[39mint8)\n",
      "\u001b[0;31mModuleNotFoundError\u001b[0m: No module named 'cupy'"
     ]
    }
   ],
   "source": [
    "import cupy as cp\n",
    "def update_cp(grid):\n",
    "    next_grid = cp.zeros_like(grid, dtype=np.int8)\n",
    "    # on crée un tableau numpy avec la somme des voisins pour chaque case\n",
    "    N = (grid[0:-2, 0:-2] + grid[0:-2, 1:-1] + grid[0:-2, 2:] +\n",
    "         grid[1:-1, 0:-2]                    +grid[1:-1, 2:] +\n",
    "         grid[2:  , 0:-2] + grid[2:  , 1:-1] + grid[2:  , 2:])\n",
    "    # des masques pour les naissances et survies\n",
    "    birth = (N == 3) & (grid[1:-1, 1:-1] == 0)\n",
    "    survive = ((N == 2) | (N == 3)) & (grid[1:-1, 1:-1] == 1)\n",
    "    next_grid[1:-1, 1:-1][birth | survive] = 1\n",
    "    return next_grid"
   ]
  },
  {
   "cell_type": "code",
   "execution_count": 2,
   "id": "af58b288",
   "metadata": {
    "slideshow": {
     "slide_type": "fragment"
    }
   },
   "outputs": [
    {
     "ename": "NameError",
     "evalue": "name 'cp' is not defined",
     "output_type": "error",
     "traceback": [
      "\u001b[0;31m---------------------------------------------------------------------------\u001b[0m",
      "\u001b[0;31mNameError\u001b[0m                                 Traceback (most recent call last)",
      "Cell \u001b[0;32mIn [2], line 1\u001b[0m\n\u001b[0;32m----> 1\u001b[0m grid_GPU\u001b[39m=\u001b[39mcp\u001b[39m.\u001b[39marray(grid)\n",
      "\u001b[0;31mNameError\u001b[0m: name 'cp' is not defined"
     ]
    }
   ],
   "source": [
    "grid_GPU=cp.array(grid)"
   ]
  },
  {
   "cell_type": "code",
   "execution_count": null,
   "id": "12a3f2c2",
   "metadata": {
    "slideshow": {
     "slide_type": "fragment"
    }
   },
   "outputs": [
    {
     "name": "stdout",
     "output_type": "stream",
     "text": [
      "CPU times: user 3.33 ms, sys: 733 µs, total: 4.07 ms\n",
      "Wall time: 2.1 ms\n"
     ]
    },
    {
     "data": {
      "text/plain": [
       "array([[0, 0, 0, ..., 0, 0, 0],\n",
       "       [0, 0, 0, ..., 0, 0, 0],\n",
       "       [0, 0, 0, ..., 0, 0, 0],\n",
       "       ...,\n",
       "       [0, 0, 0, ..., 0, 0, 0],\n",
       "       [0, 0, 0, ..., 0, 0, 0],\n",
       "       [0, 0, 0, ..., 0, 0, 0]], dtype=int8)"
      ]
     },
     "execution_count": 106,
     "metadata": {},
     "output_type": "execute_result"
    }
   ],
   "source": [
    "%time update_cp(grid_GPU)"
   ]
  },
  {
   "cell_type": "markdown",
   "id": "e1777ac1",
   "metadata": {
    "slideshow": {
     "slide_type": "fragment"
    }
   },
   "source": [
    "Ici, ce n'est pas très efficace car le tableau est trop petit. Il faut des problèmes beaucoup plus grand pour tirer partie du GPU.\n",
    "- Réel avantage à partir de $10^7$ doubles"
   ]
  },
  {
   "cell_type": "markdown",
   "id": "0dc938e7",
   "metadata": {
    "slideshow": {
     "slide_type": "subslide"
    }
   },
   "source": [
    "### Approche multilangages : bindings\n",
    "Python s'interface très bien avec d'autres langages, en particulier le C++."
   ]
  },
  {
   "cell_type": "markdown",
   "id": "bcbb1d15",
   "metadata": {
    "slideshow": {
     "slide_type": "fragment"
    }
   },
   "source": [
    "**Mais pourquoi est-ce utile?**\n",
    "- si on a déjà une librairie C/C++ de grande taille, stable, rapide.\n",
    "- si on souhaite encore accélérer notre implémentation\n",
    "- si on utilise python comme un outil de test pour d'autres programmes"
   ]
  },
  {
   "cell_type": "markdown",
   "id": "60a6cb02",
   "metadata": {
    "slideshow": {
     "slide_type": "fragment"
    }
   },
   "source": [
    "**Vast sujet qui mérite un cours à lui seul!** Puisqu'il faut gérer:\n",
    "- les types\n",
    "- les allocations\n",
    "- les deux langages (et la compilation du C/C++\n",
    "- les mutables/immutables\n",
    "- ..."
   ]
  },
  {
   "cell_type": "markdown",
   "id": "098f5aba",
   "metadata": {
    "slideshow": {
     "slide_type": "fragment"
    }
   },
   "source": [
    "Quelques outils célèbres: \n",
    " - ctypes\n",
    " - PyBind11\n",
    " - Cython\n",
    " - F2PY\n",
    " - Pyjulia\n",
    " - gopy\n",
    " - ...\n",
    " "
   ]
  },
  {
   "cell_type": "markdown",
   "id": "a3332f18",
   "metadata": {
    "slideshow": {
     "slide_type": "slide"
    }
   },
   "source": [
    "## Distribution et portabilité des paquets"
   ]
  },
  {
   "cell_type": "markdown",
   "id": "8e908ce7",
   "metadata": {
    "slideshow": {
     "slide_type": "fragment"
    }
   },
   "source": [
    "La semaine prochaine:\n",
    "- Fin du CM4:\n",
    "    - préparation du dossier de devloppement\n",
    "    - installation locale et geestion des dépendances\n",
    "    - processus de publication\n",
    "- TP noté"
   ]
  }
 ],
 "metadata": {
  "celltoolbar": "Diaporama",
  "kernelspec": {
   "display_name": "Python 3.10.6 64-bit",
   "language": "python",
   "name": "python3"
  },
  "language_info": {
   "codemirror_mode": {
    "name": "ipython",
    "version": 3
   },
   "file_extension": ".py",
   "mimetype": "text/x-python",
   "name": "python",
   "nbconvert_exporter": "python",
   "pygments_lexer": "ipython3",
   "version": "3.10.6"
  },
  "toc": {
   "base_numbering": 1,
   "nav_menu": {
    "height": "421px",
    "width": "260.833px"
   },
   "number_sections": true,
   "sideBar": false,
   "skip_h1_title": true,
   "title_cell": "Table of Contents",
   "title_sidebar": "Contents",
   "toc_cell": false,
   "toc_position": {
    "height": "47.7167px",
    "left": "1760.97px",
    "top": "0px",
    "width": "159.033px"
   },
   "toc_section_display": false,
   "toc_window_display": true
  },
  "varInspector": {
   "cols": {
    "lenName": 16,
    "lenType": 16,
    "lenVar": 40
   },
   "kernels_config": {
    "python": {
     "delete_cmd_postfix": "",
     "delete_cmd_prefix": "del ",
     "library": "var_list.py",
     "varRefreshCmd": "print(var_dic_list())"
    },
    "r": {
     "delete_cmd_postfix": ") ",
     "delete_cmd_prefix": "rm(",
     "library": "var_list.r",
     "varRefreshCmd": "cat(var_dic_list()) "
    }
   },
   "types_to_exclude": [
    "module",
    "function",
    "builtin_function_or_method",
    "instance",
    "_Feature"
   ],
   "window_display": false
  },
  "vscode": {
   "interpreter": {
    "hash": "b0fa6594d8f4cbf19f97940f81e996739fb7646882a419484c72d19e05852a7e"
   }
  }
 },
 "nbformat": 4,
 "nbformat_minor": 5
}
