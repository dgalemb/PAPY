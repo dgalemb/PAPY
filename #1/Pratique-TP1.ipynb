{
 "cells": [
  {
   "cell_type": "code",
   "execution_count": 10,
   "metadata": {},
   "outputs": [
    {
     "data": {
      "text/plain": [
       "['LA CIGALE ET LA FOURMI\\n',\n",
       " 'La Cigale, ayant chanté\\n',\n",
       " \"Tout L'Été,\\n\",\n",
       " 'Se trouva fort dépourvue\\n',\n",
       " 'Quand la Bise fut venue.\\n',\n",
       " 'Pas un seul petit morceau\\n',\n",
       " 'De mouche ou de vermisseau.\\n',\n",
       " 'Elle alla crier famine\\n',\n",
       " 'Chez la Fourmi sa voisine,\\n',\n",
       " 'La priant de lui prêter\\n',\n",
       " 'Quelque grain pour subsister\\n',\n",
       " \"Jusqu'à la saison nouvelle.\\n\",\n",
       " '« Je vous paierai, lui dit-elle,\\n',\n",
       " \"Avant l'Août, foi d'animal,\\n\",\n",
       " 'Intérêt et principal. »\\n',\n",
       " \"La Fourmi n'est pas prêteuse :\\n\",\n",
       " \"C'est là son moindre défaut.\\n\",\n",
       " '« Que faisiez-vous au temps chaud ?\\n',\n",
       " 'Dit-elle à cette emprunteuse.\\n',\n",
       " '- Nuit et jour à tout venant\\n',\n",
       " 'Je chantais, ne vous déplaise.\\n',\n",
       " \"- Vous chantiez ? j'en suis fort aise :\\n\",\n",
       " 'Eh bien ! dansez maintenant. »']"
      ]
     },
     "execution_count": 10,
     "metadata": {},
     "output_type": "execute_result"
    }
   ],
   "source": [
    "with open('fable.txt') as f:\n",
    "    fable = f.readlines()\n",
    "\n",
    "fable"
   ]
  },
  {
   "cell_type": "code",
   "execution_count": 11,
   "metadata": {},
   "outputs": [
    {
     "data": {
      "text/plain": [
       "4"
      ]
     },
     "execution_count": 11,
     "metadata": {},
     "output_type": "execute_result"
    }
   ],
   "source": [
    "# Counting the number of dialogues\n",
    "dialogs = 0\n",
    "\n",
    "# Forming a single string\n",
    "total = ''\n",
    "for lines in fable:\n",
    "    total = total + \" \" + lines\n",
    "total = total.replace('\\n', ' \\n')\n",
    "\n",
    "# Searching caracters which indicate speech\n",
    "for k in range(len(total)):\n",
    "    if total[k] == '«':\n",
    "        dialogs += 1\n",
    "        flag = True\n",
    "        i = k + 1\n",
    "        while flag:\n",
    "            if total[i] == \"»\":\n",
    "                flag = False\n",
    "            if total[i] == \"-\" and total[i + 1] == ' ':\n",
    "                dialogs += 1\n",
    "            i += 1\n",
    "\n",
    "dialogs"
   ]
  },
  {
   "cell_type": "code",
   "execution_count": 12,
   "metadata": {},
   "outputs": [],
   "source": [
    "# Deleting all e's from the text\n",
    "\n",
    "for k in range(len(fable)):\n",
    "    fable[k] = fable[k].replace('e', '')\n",
    "    fable[k] = fable[k].replace('E', '')\n",
    "\n",
    "# And then saving them in fabl.txt\n",
    "\n",
    "with open('fabl.txt', 'w') as f:\n",
    "    for line in fable:\n",
    "        f.write(line)"
   ]
  },
  {
   "cell_type": "code",
   "execution_count": 13,
   "metadata": {},
   "outputs": [],
   "source": [
    "# Un parseur simple\n",
    "\n",
    "import urllib.request"
   ]
  },
  {
   "cell_type": "code",
   "execution_count": 14,
   "metadata": {},
   "outputs": [
    {
     "data": {
      "text/plain": [
       "(2214, 382761)"
      ]
     },
     "execution_count": 14,
     "metadata": {},
     "output_type": "execute_result"
    }
   ],
   "source": [
    "# Reading URL\n",
    "\n",
    "url = urllib.request.urlopen('https://fr.wikipedia.org/wiki/Python_(langage)')\n",
    "lines = url.readlines()\n",
    "linesstr = str(lines)\n",
    "\n",
    "# Counting number of caracters \n",
    "caracs = len(linesstr)\n",
    "\n",
    "linesqtd = 0\n",
    "\n",
    "# Counting number of lines\n",
    "for i in range(len(linesstr)):\n",
    "    if linesstr[i] == \"\\\\\" and linesstr[i + 1] == 'n':\n",
    "        linesqtd += 1\n",
    "\n",
    "linesqtd, caracs"
   ]
  },
  {
   "cell_type": "code",
   "execution_count": 15,
   "metadata": {},
   "outputs": [],
   "source": [
    "import re\n",
    "import pandas as pd"
   ]
  },
  {
   "cell_type": "code",
   "execution_count": 16,
   "metadata": {},
   "outputs": [
    {
     "data": {
      "text/plain": [
       "([],\n",
       " [('Utilisation\"', 2),\n",
       "  ('Historique\"', 2),\n",
       "  ('Caract\\\\xc3\\\\xa9ristiques\"', 2),\n",
       "  ('Biblioth\\\\xc3\\\\xa8que standard\"', 2),\n",
       "  ('Conventions de style\"', 2),\n",
       "  ('Interfaces graphiques\"', 2),\n",
       "  ('La communaut\\\\xc3\\\\xa9 Python\"', 2),\n",
       "  ('Impl\\\\xc3\\\\xa9mentations du langage\"', 2),\n",
       "  ('Distributions de Python\"', 2),\n",
       "  ('Historique des versions\"', 2),\n",
       "  ('D\\\\xc3\\\\xa9veloppement\"', 2),\n",
       "  ('Notes et r\\\\xc3\\\\xa9f\\\\xc3\\\\xa9rences\"', 2),\n",
       "  ('Voir aussi\"', 2)],\n",
       " [('Au CWI\"', 3),\n",
       "  ('Au CNRI\"', 3),\n",
       "  ('\\\\xc3\\\\x80 BeOpen\"', 3),\n",
       "  ('La Python Software Foundation\"', 3),\n",
       "  ('Syntaxe\"', 3),\n",
       "  ('R\\\\xc3\\\\xa9flexivit\\\\xc3\\\\xa9\"', 3),\n",
       "  ('Typage\"', 3),\n",
       "  ('Mod\\\\xc3\\\\xa8le objet\"', 3),\n",
       "  ('Adoption de Python\"', 3),\n",
       "  ('Les PEP\"', 3),\n",
       "  ('Python 3\"', 3),\n",
       "  ('Python pour smartphones\"', 3),\n",
       "  ('Bibliographie\"', 3),\n",
       "  ('Liste des principaux frameworks\"', 3),\n",
       "  ('Articles connexes\"', 3)])"
      ]
     },
     "execution_count": 16,
     "metadata": {},
     "output_type": "execute_result"
    }
   ],
   "source": [
    "#Getting all text between the title tags\n",
    "match1 = re.findall('<h1>(.*?)</h1>', linesstr)\n",
    "match2 = re.findall('<h2>(.*?)</h2>', linesstr)\n",
    "match3 = re.findall('<h3>(.*?)</h3>', linesstr)\n",
    "\n",
    "match12 = []\n",
    "match22 = []\n",
    "match32 = []\n",
    "\n",
    "#Extracting only the title itself\n",
    "for match in match1:\n",
    "    match12.append((re.search(r'title=\"(.*?)\"', match).group()[29:], 1))\n",
    "for match in match2:\n",
    "    match22.append((re.search(r'title=\"(.*?)\"', match).group()[29:], 2))\n",
    "for match in match3:\n",
    "    match32.append((re.search(r'title=\"(.*?)\"', match).group()[29:], 3))\n",
    "\n",
    "\n",
    "match12, match22, match32"
   ]
  },
  {
   "cell_type": "code",
   "execution_count": 22,
   "metadata": {},
   "outputs": [
    {
     "name": "stdout",
     "output_type": "stream",
     "text": [
      "Mémorisez un nombre entre 1 et 100, je vais essayer de le retrouver. Et ne trichez pas ensuite\n",
      "Tricheur !!!! \n",
      " J'ai gangé par forfait en  0 coups !!!\n",
      "Je propose  -264401739400 ... +, - ou G ?\n"
     ]
    }
   ],
   "source": [
    "# BONUS - jeu plus petite / plus grande with  cheating detection\n",
    "import random\n",
    "\n",
    "Poss = [-10**12, 10**12] # This array will hold the smallest and biggest integers that still can be guessed\n",
    "                         # We initialize with big values to facilitate\n",
    "\n",
    "print(\"Mémorisez un nombre entre 1 et 100, je vais essayer de le retrouver. Et ne trichez pas ensuite\")\n",
    "\n",
    "def Guess(Poss, turn):\n",
    "\n",
    "    if Poss[1] < Poss[0] or Poss[1] == Poss[0]:\n",
    "        print(\"Tricheur !!!! \\n J'ai gangé par forfait en \", turn, \"coups !!!\")\n",
    "\n",
    "    turn += 1\n",
    "    guess = random.randrange(Poss[0] + 1, Poss[1] - 1)\n",
    "    print(\"Je propose \", guess, \"... +, - ou G ?\") \n",
    "    entree = str(input())\n",
    "    \n",
    "    if entree == \"G\":\n",
    "        print(\"J'ai trouvé \", guess, \"en \", turn,\"coups !!!\")\n",
    "        return\n",
    "        \n",
    "    elif entree == \"-\":\n",
    "        Poss[1] = guess\n",
    "        Guess(Poss, turn)\n",
    "    elif entree == \"+\":\n",
    "        Poss[0] = guess\n",
    "        Guess(Poss, turn)\n",
    "    else:\n",
    "        print(\"Input invalide, on recommence\")\n",
    "        Guess(Poss, turn)\n",
    "\n",
    "Guess(Poss, turn = 0)"
   ]
  },
  {
   "cell_type": "code",
   "execution_count": null,
   "metadata": {},
   "outputs": [],
   "source": []
  }
 ],
 "metadata": {
  "kernelspec": {
   "display_name": "Python 3.10.6 64-bit",
   "language": "python",
   "name": "python3"
  },
  "language_info": {
   "codemirror_mode": {
    "name": "ipython",
    "version": 3
   },
   "file_extension": ".py",
   "mimetype": "text/x-python",
   "name": "python",
   "nbconvert_exporter": "python",
   "pygments_lexer": "ipython3",
   "version": "3.10.6"
  },
  "orig_nbformat": 4,
  "vscode": {
   "interpreter": {
    "hash": "b0fa6594d8f4cbf19f97940f81e996739fb7646882a419484c72d19e05852a7e"
   }
  }
 },
 "nbformat": 4,
 "nbformat_minor": 2
}
