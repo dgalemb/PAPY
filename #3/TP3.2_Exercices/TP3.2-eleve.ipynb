{
 "cells": [
  {
   "cell_type": "markdown",
   "id": "cf4b591f",
   "metadata": {},
   "source": [
    "# TP Noté 1 : Dans la peau d'un influenceur data-scientist"
   ]
  },
  {
   "cell_type": "markdown",
   "id": "78d6736d",
   "metadata": {},
   "source": [
    "```Ecole Centrale Nantes\n",
    "Option InfoIA\n",
    "PAPY: Programmation avancée python\n",
    "TP3.2\n",
    "Année 2022-2023\n",
    "Auteur: Lucas Lestandi\n",
    "lucas.lestandi@ec-nantes.fr\n",
    "V1.0\n",
    "```"
   ]
  },
  {
   "cell_type": "markdown",
   "id": "d222a4f3",
   "metadata": {},
   "source": [
    "<div class=\"alert alert-danger\" role=\"alert\">\n",
    "   <b> Attention : </b>  il s'agit d'un TP noté. Le notebook de rapport, ainsi que les fichiers/modules `.py` seront à déposer sur Hippocampus avant la séance suivante. Autrement dit, mercredi 23:59. <br>\n",
    "    Bien entendu, vous pouvez travailler en groupe, mais pas plus de 3. Merci de m'informer pendant la séance des groupes, via slack par exemple.\n",
    "</div>\n",
    "\n",
    "*Dans ce TP, vous mettrez en oeuvre les connaissances acquises au cours de précédentes séances. Vous utiliserez à bon escient les paradigmes de programmation d'un vrai projet : des fonctions, des classes, et une structure de code utilisant des modules externes.*\n",
    "\n",
    "Récemment, l'actualité a été marquée par de [nombreux articles](https://www.challenges.fr/economie/i-fly-bernard-lavion-de-bernard-ces-comptes-twitter-qui-font-enfler-la-polemique-sur-les-jets-prives_825097) relatant le mécontentement certains milliardaires face aux comptes twitter (et autre) relatant leurs déplacements en jet privé. On notera le cas [I fly Bernard](https://twitter.com/i_fly_Bernard), [l'avion de Bernard](https://www.instagram.com/laviondebernard/) coté français et [ElonJet](https://twitter.com/ElonJet) outre atlantique avec par Jack Sweeney. Les codes respectifs sont plus ou moins disponibles en ligne et plus ou moins faciles à suivre.  Dans tous les cas, ils s'appuient sur des données publiques puisque tous les avions doivent être équipés d'un émetteur ADSB donnant leur position. Ces données sont extraites des bases et traitées avec le langage le plus simple pour ces taches : python, évidemment. \n",
    "\n",
    "Le but de ce TP est de reproduire, dans un notebook, la capture des données ADSB, puis leur traitement pour afficher un trajet (avec matplotlib) et effectuer quelques traitements, par exemple pour une flotte complète. On proposera notre propre structure (de classe) simplifiée mais modulaire. On commencera par une rapide analyse du code source de deux comptes automatisés cité au-dessus afin de déterminer comment en tirer profit pour accélérer notre développement."
   ]
  },
  {
   "cell_type": "markdown",
   "id": "fb414138",
   "metadata": {},
   "source": [
    "## Analyse de code [1h-2h]\n",
    "Les codes [\"L'avion de Bernard\"](https://github.com/laviondebernard/instagram) et [\"ElonJet\"](https://github.com/Jxck-S/plane-notify) sont très différent. \n",
    "Pour les deux codes, on proposera une analyse rapide en répondant aux questions suivantes.\n",
    "1. **Récupération des sources** avec git\n",
    "1. **Description de la structure du projet**, \n",
    "    - nombre de fichiers python, autres langages, documents\n",
    "    - documentation et la facilité d'installation\n",
    "    - Licence : A-t-on le droit d'utiliser ce code pour usage personnel? commercial?\n",
    "1. Peut on **exécuter** le script principal et/ou un exemple?\n",
    "1. **Que fait le code ?** \n",
    "    - décrire la trame en quelques points clés\n",
    "    - quelles sont les dépendances principales\n",
    "    - Si la structure est complexe, on pourra utiliser la commande suivante pour dessiner un diagramme de classe et le commenter.\n",
    "    ```shell\n",
    "    $ pyreverse -o svg NOM-PAQUET .\n",
    "    ```\n",
    "    > `pyverse` fait parti du paquet pylint.\n",
    "    - commenter la qualité de l'implementation : respet des PEP, facilité de lecture, commentaires\n",
    "    \n",
    "1. **Evaluation de l'utilité**:\n",
    "    - ce code est-il pret à l'usage?\n",
    "    - ce code peut-il etre facilement utilisé?\n",
    "    - ce code est-il modulaire? \n",
    "    - dans le contexte de ce \"projet\" peut-on utiliser ce code comme squelette? \n",
    "\n",
    "**Question concluion:** On comparera ces deux paquets dans un court paragraphe avant de conclure sur leur utilisation dans la partie suivante."
   ]
  },
  {
   "cell_type": "markdown",
   "id": "459a14d7",
   "metadata": {},
   "source": [
    "## Une visu maison.\n",
    "<div class=\"alert alert-warning\" role=\"alert\">\n",
    "Comme vous le voyez, tout n'est pas bon à prendre dans un code trouvé en ligne. Cela peut être dû à plusieurs facteurs: inadéquation avec le projet en cours, trop grande complexité, mauvaise organisation, difficulté d'installation, etc. \n",
    "</div>\n",
    "\n",
    "Nous allons réduire la complexité au minimum afin d'obtenir des résultats exploitables en quelques heures.\n",
    "\n",
    "Pour cela, on utilisera tout de même certains paquets généralistes que l'on maitrise déjà (en théorie) et quelques autres spécifiques au problème, en particulier sous forme d'API.\n",
    "\n",
    "**Pré-requis:**\n",
    "- bibliothèques à installer : pandas, numpy, matplolib, cartopy/cartes\n",
    "\n",
    "```mamba install -c conda-forge cartopy```\n",
    "\n",
    "**Objectifs:**\n",
    "- Installer openskyAPI et récupérer les données ADSB publiques grâce à l'API d'*openskynetworks*\n",
    "- Créer une structure de classe permettant de représenter : des avions et des trajets. En option, pourrait aimer représenter les aéroports.\n",
    "- Proposer une visualisation avec matplotlib-cartopy d'un trajet\n",
    "- Extraire un certain nombre d'informations issues des données de vol\n",
    "\n",
    "**Les données**: Le système ADS-B est publique mais la conservation des données nécessites des moyens, ne serait-ce que pour le stockage et l'accés web. Pour cette raison les services proposent plusieurs version selon le degrès d'implication des utilisateurs (authentifié ou non, payant ou non). \n",
    "- [openskynetworks](https://opensky-network.org/) est une association à but non lucratif qui récolte les signauax ADS-B (entre autre) et les rends accessible gratuitement et sur enregistrement. Il semblerait que l'API python ne permette d'accéder qu'aux données en temps réel. D'autres modes d'accés son possible (requettes web, etc.), en particulier à l'aide d'un compte. Pour ce TP, nous ferons sans. Les données retenues: \n",
    "    - l'api `opensky_api` pour récupérer des données en direct et tracer une carte \"radar\" autour de sa position\n",
    "    - des données historiques téléchargées à l'avance sur ce même site au format CSV pour la semaine du 27 Juin 2022. "
   ]
  },
  {
   "cell_type": "markdown",
   "id": "b0b53da3-1d0b-4c6a-b381-a86b4a33907a",
   "metadata": {},
   "source": [
    "## Exploration des données"
   ]
  },
  {
   "cell_type": "markdown",
   "id": "33c85d43-7826-442c-bada-b4dfb019dbb4",
   "metadata": {},
   "source": [
    "> Installation openskyAPI\n",
    "> - cloner les sources\n",
    "> - Suivre le readme.md et installer avec pip\n",
    "> - Explorer un peu les données : \n",
    ">   1. Combien d'avions volent en ce moment dans le monde?\n",
    ">   1. Combien sont aux sol mais avec le transpondeur allumé?\n",
    ">   1. Quelle est la vitesse moyenne des appareils dans le \"carré\" (42,51,-5,8)?\n",
    ">   1. Proposer une ou deux autres métriques intéressantes. \n",
    ">   1. Recharger les données, les résultats sont-ils les mêmes? "
   ]
  },
  {
   "cell_type": "code",
   "execution_count": 2,
   "id": "58eec689",
   "metadata": {},
   "outputs": [],
   "source": [
    "from opensky_api import OpenSkyApi\n",
    "import time"
   ]
  },
  {
   "cell_type": "code",
   "execution_count": null,
   "id": "e8aaccaa-a9b3-445e-ac1a-2bc950441dd2",
   "metadata": {},
   "outputs": [],
   "source": [
    "api = OpenSkyApi()\n",
    "states = api.get_states(bbox=(42,51,-5,8)) # on récupére tous les vols en ce moment sur un zone couvrant l'essentiel de la France."
   ]
  },
  {
   "cell_type": "markdown",
   "id": "68d5ae01-834b-45c9-98b5-64705b802f50",
   "metadata": {},
   "source": [
    "Attention le nombre de requettes étant limité, on ne rejouera pas la cellule précédente. On pourra récuppérer les états correspondants aux avions avec `states.states` qui est une liste de vecteurs d'états. On retrouve la description dans la documentation.\n",
    "> Represents the state of a vehicle at a particular time. It has the following fields:\n",
    "> -  **icao24** - ICAO24 address of the transmitter in hex string representation.\n",
    "> -  **callsign** - callsign of the vehicle. Can be None if no callsign has been received.\n",
    "> -  **origin_country** - inferred through the ICAO24 address\n",
    "> -  **time_position** - seconds since epoch of last position report. Can be None if there was no position report received by OpenSky within 15s before.\n",
    "> -  **last_contact** - seconds since epoch of last received message from this transponder\n",
    "> -  **longitude** - in ellipsoidal coordinates (WGS-84) and degrees. Can be None\n",
    "> -  **latitude** - in ellipsoidal coordinates (WGS-84) and degrees. Can be None\n",
    "> -  **geo_altitude** - geometric altitude in meters. Can be None\n",
    "> -  **on_ground** - true if aircraft is on ground (sends ADS-B surface position reports).\n",
    "> -  **velocity** - over ground in m/s. Can be None if information not present\n",
    "> -  **true_track** - in decimal degrees (0 is north). Can be None if information not present.\n",
    "> -  **vertical_rate** - in m/s, incline is positive, decline negative. Can be None if information not present.\n",
    "> -  **sensors** - serial numbers of sensors which received messages from the vehicle within the validity period of this state vector. Can be None if no filtering for sensor has been requested.\n",
    "> -  **baro_altitude** - barometric altitude in meters. Can be None\n",
    "> -  **squawk** - transponder code aka Squawk. Can be None\n",
    "> -  **spi** - special purpose indicator\n",
    "> -  **position_source** - origin of this state's position: 0 = ADS-B, 1 = ASTERIX, 2 = MLAT, 3 = FLARM\n",
    "\n",
    "On va se satisfaire d'extraire les positions, vitesses et orientation pour les positionner sur la carte ainsi que icao24 et calssign pour pouvoir identifier les appareils et les croiser avec d'autres bases de données.\n",
    "<div class=\"alert alert-info\" role=\"alert\">\n",
    "    Créer un classe représentant les avions avec les caractéristiques <b>reduitess</b> listées au dessus. Rappel, il est possible de créer plusieurs méthodes d'instanciation avec le décorateur <code>@classmethod</code>. <b>Ne pas oublier la documentation de votre code, il sera relu!</b> \n",
    "</div>\n",
    "On instanciera cette classe pour tous les `states` obtenu avec opensky_api afin de les sauvegarder (format de votre choix) et surtout de les afficher sur une carte."
   ]
  },
  {
   "cell_type": "markdown",
   "id": "c33e2566-48b3-483a-b3c8-19281ce81cf0",
   "metadata": {},
   "source": [
    "On écrira une fonction d'affichage qui place les avions sur la carte et représente leur vitesse (taille) et leur direction de manière similaire à ce qui est proposé dans l'exemple.\n",
    "```python\n",
    "import matplotlib.pyplot as plt\n",
    "from matplotlib.markers import MarkerStyle\n",
    "from matplotlib.colors import Normalize\n",
    "from matplotlib.textpath import TextPath\n",
    "from matplotlib.transforms import Affine2D\n",
    "from avion import Avion\n",
    "import cartopy.crs as ccrs\n",
    "import cartopy.io.img_tiles as cimgt\n",
    "\n",
    "def plot(liste_avion, *args, **kwargs):\n",
    "    fig = plt.figure(figsize=(15,15))\n",
    "\n",
    "    # Create a GeoAxes in the tile's projection.\n",
    "    ax = fig.add_subplot(1, 1, 1, projection=stamen_terrain.crs)\n",
    "    # Limit the extent of the map to a small longitude/latitude range.\n",
    "    ax.set_extent([-5, 8, 42, 51], crs=ccrs.Geodetic())\n",
    "    # Add the Stamen data at zoom level 8.\n",
    "    ax.add_image(cimgt.GoogleTiles(\"RGB\"), 8)\n",
    "\n",
    "    SUCCESS_SYMBOLS = TextPath((0, 0), \"✈\") # Définie le marquer avion\n",
    "    #boucle de plot a écrire\n",
    "\n",
    "    fig.savefig(\"carte.jpg\")\n",
    "    plt.show()\n",
    "```\n",
    "\n",
    "On obtiendra un résultat similaire à celui ci! Ne pas hésiter à utiliser d'autres fonds de cartes, icones ou types de représentation (vecteurs...)\n",
    "![Vols instantanés 5 Octobre 22](carte.jpg)"
   ]
  },
  {
   "cell_type": "code",
   "execution_count": 9,
   "id": "c81de7c9-84a0-4963-913e-b1e13ee0f681",
   "metadata": {},
   "outputs": [],
   "source": [
    "%load_ext autoreload\n",
    "%autoreload 2"
   ]
  },
  {
   "cell_type": "markdown",
   "id": "929b3c0f-3910-4eeb-a4c3-c4dbd9664199",
   "metadata": {},
   "source": [
    "### Données historiques"
   ]
  },
  {
   "cell_type": "markdown",
   "id": "c78b0e16-6737-4d7c-8aef-aef02a5f8c3c",
   "metadata": {},
   "source": [
    "Charger les données fournies avec pandas: https://box.ec-nantes.fr/index.php/s/pR5bfaFdncMZdcy. Il s'agit d'une version allégée, du dump hebdomadaire (450Mo) des données de opensky-network.\n",
    "- Que contient le fichier?\n",
    "- Quelle plage temporelle? \n",
    "- Donner quelques données moyennes : vitesse, position, nombre d'avions par tranche horaire.\n",
    "- On en profitera pour mesurer le temps (non négligeable) pour effectuer ces calculs.\n",
    "\n",
    "**Réduire les données pour pouvoir tracer**\n",
    "Une fois que l'on a bien les données en main on s'intéresse au déplacement d'un seul appareil (comme pour nos deux influenceurs).\n",
    "\n",
    "- Comment ces données s'intègrent-t-elles dans la classe avion que l'on a créée précédement? \n",
    "- Proposer un refactoring qui permette d'éviter les doublons lorsque l'on souhaite traver les trajectoires d'un appareil au cours d'une journée\n",
    "- Implémenter ces changements.\n",
    "- Tracer un vol de votre choix (parametres à déterminer) trajectoire journalière avec une approche similaire à l'exercice précédent.\n",
    "- Pour les plus motivés, on pourra traver tous les vols de la journée!\n",
    "![traj](trajectoire.jpg)"
   ]
  }
 ],
 "metadata": {
  "kernelspec": {
   "display_name": "Python 3 (ipykernel)",
   "language": "python",
   "name": "python3"
  },
  "language_info": {
   "codemirror_mode": {
    "name": "ipython",
    "version": 3
   },
   "file_extension": ".py",
   "mimetype": "text/x-python",
   "name": "python",
   "nbconvert_exporter": "python",
   "pygments_lexer": "ipython3",
   "version": "3.9.13"
  },
  "toc": {
   "base_numbering": 1,
   "nav_menu": {},
   "number_sections": true,
   "sideBar": true,
   "skip_h1_title": false,
   "title_cell": "Table of Contents",
   "title_sidebar": "Contents",
   "toc_cell": false,
   "toc_position": {},
   "toc_section_display": true,
   "toc_window_display": false
  },
  "varInspector": {
   "cols": {
    "lenName": 16,
    "lenType": 16,
    "lenVar": 40
   },
   "kernels_config": {
    "python": {
     "delete_cmd_postfix": "",
     "delete_cmd_prefix": "del ",
     "library": "var_list.py",
     "varRefreshCmd": "print(var_dic_list())"
    },
    "r": {
     "delete_cmd_postfix": ") ",
     "delete_cmd_prefix": "rm(",
     "library": "var_list.r",
     "varRefreshCmd": "cat(var_dic_list()) "
    }
   },
   "types_to_exclude": [
    "module",
    "function",
    "builtin_function_or_method",
    "instance",
    "_Feature"
   ],
   "window_display": false
  }
 },
 "nbformat": 4,
 "nbformat_minor": 5
}
