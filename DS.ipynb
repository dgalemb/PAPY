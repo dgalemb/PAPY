{
 "cells": [
  {
   "cell_type": "markdown",
   "id": "57890553",
   "metadata": {},
   "source": [
    "# Notebook Examen PAPY 2022"
   ]
  },
  {
   "cell_type": "markdown",
   "id": "f4db7ae8",
   "metadata": {},
   "source": [
    "# Partie 2: Programmation sur machine\n",
    "Vous avez terminé la partie connaissance du python de cet examen. Maintenant, vous devez proposer un programme qui réalise le chiffrement suivant.\n",
    "\n",
    "## Présentation du problème: Chiffrment par dictionnaire\n",
    "\n",
    "### Chiffrement de César\n",
    "En cryptographie, le chiffrement par décalage, aussi connu comme le chiffre de César, est une méthode de chiffrement très simple utilisée par Jules César dans ses correspondances secrètes.\n",
    "\n",
    "![](img/Caesar3.svg)\n",
    "\n",
    "Le texte chiffré s'obtient en remplaçant chaque lettre du texte clair original par une lettre à distance fixe, toujours du même côté, dans l'ordre de l'alphabet. Pour les dernières lettres (dans le cas d'un décalage à droite), on reprend au début. Par exemple avec un décalage de 3 vers la droite, A est remplacé par D, B devient E, et ainsi jusqu'à W qui devient Z, puis X devient A etc. Il s'agit d'une permutation circulaire de l'alphabet. La longueur du décalage, 3 dans l'exemple évoqué, constitue la clé du chiffrement qu'il suffit de transmettre au destinataire pour que celui-ci puisse déchiffrer le message. \n",
    "\n",
    "#### Example\n",
    "Le chiffrement peut être représenté par la superposition de deux alphabets, l'alphabet clair présenté dans l'ordre normal et l'alphabet chiffré décalé, à gauche ou à droite, du nombre de lettres voulu. Nous avons ci-dessous l'exemple d'un encodage de 3 lettres vers la droite. Le paramètre de décalage (ici 3) est la clé de chiffrement :\n",
    "\n",
    "\n",
    "| clair  |  ABCDEFGHIJKLMNOPQRSTUVWXYZ\n",
    "|---    |:-:    |\n",
    "|   chiffré       |DEFGHIJKLMNOPQRSTUVWXYZABC|\n",
    "\n",
    "Pour encoder un message, il suffit de regarder chaque lettre du message clair, et d'écrire la lettre encodée correspondante. Pour déchiffrer, on fait tout simplement l'inverse.\n",
    "\n",
    "| clair  | WIKIPEDIA L'ENCYCLOPEDIE LIBRE    \n",
    "|---    |:-:    |\n",
    "| chiffré |ZLNLSHGLD O'HQFBFORSHGLH OLEUH\n",
    "\n",
    "*Source: Wikipedia*\n",
    "\n",
    "### Chiffre de Vigenère\n",
    "Le chiffrage ci-dessus est très faible, même pour une longue table de caractères, par exemple ASCII.\n",
    "\n",
    "Pour améliorer la sécurité de notre chiffrement, on introduit un chiffrage plus complexe (aussi connue sous le nom de chiffre de Vigenère). Cette fois-ci, au lieu d'utiliser le même décalage pour tous les caractères, on va faire varier le décalage (shift) à chaque caractère. On utilisera pour cela une clé de chiffrage sous la forme d'une chaine de caractères (un mot ou une phrase) pour laquelle chaque lettre détermine le décalage (place dans la table de caractères). Lorsque la clé est épuisée, on reprend au premier élément de celle-ci.\n",
    "\n",
    "Pour un indice donné `i`, on chiffrera le i-eme caractère du texte  `texte[i]` en applicant le décalage donné par la position de la `clé[i]`  dans le dictionnaire i.e. `shift[i]=position(clé[i],dic)`.\n",
    "\n",
    "\n",
    "```\n",
    "alpha=\"ABCDEFGHIJKLMNOPQRSTUVWXYZ\"\n",
    "\n",
    "Texte en clair :   j'adore ecouter la radio toute la journee\n",
    "Clé répétée    :   M USIQU EMUSIQU EM USIQU EMUSI QU EMUSIQU\n",
    "                   ^ ^^^\n",
    "                   | ||Texte O, clé I : shift=8, on obtient le chiffré W\n",
    "                   | |Texte D, clé S : shift=8, on obtient le chiffré L\n",
    "                   | Texte A, clé U : shift=8, on obtient le chiffré I\n",
    "                   Texte J, clé M : shift=8, on obtient le chiffré R\n",
    "```\n",
    "\n",
    "<div class=\"alert alert-danger\" role=\"alert\">\n",
    "   <b> Attention : </b> vous devez documenter vos codes en utilisant a bon escient les commentaires et docstrings. Cela fait partie intégrante de l'évaluation de vos compétences.\n",
    "</div>\n",
    "\n",
    "## Implémentation du Code César\n",
    "1. Écrire une fonction `caesar(message, alpha, shift)-> str` du codage César. Elle prend pour argument le texte (`message`), la clé (`shift`) et l'alphabet `alpha` et renvoie le texte chiffré. Vous testerez de façon adéquate avec l'alphabet standard `\"ABCDEFGHIJKLMNOPQRSTUVWXYZ\"`.\n",
    "1. Encoder le message suivant : \"Tu quoque mi fili\" avec un décalage de 8.\n",
    "1. Décoder ce message (en anglais): \"ROVVY GYBVN\" et en donner la clé.\n"
   ]
  },
  {
   "cell_type": "code",
   "execution_count": 20,
   "id": "4d5fb2cd",
   "metadata": {},
   "outputs": [
    {
     "data": {
      "text/plain": [
       "'rzkts!'"
      ]
     },
     "execution_count": 20,
     "metadata": {},
     "output_type": "execute_result"
    }
   ],
   "source": [
    "# 2.2.1 Fonction caesar\n",
    "def caesar(message, alpha, shift) -> str:\n",
    "    res = []\n",
    "    alpha = alpha.lower()       # On travaille toujours avec les lettres en lowercase pour éviter d'erreurs\n",
    "    message = message.lower()\n",
    "    for k in message:           # On chiffre seulement les lettres, les autres symboles restent égaux\n",
    "        if k in alpha:\n",
    "            current = alpha.index(k, 0)\n",
    "            new = (current + shift) % 26 # On faire le modulu pour s'assurrer de retourner à premier lettre\n",
    "            res.append(alpha[new])\n",
    "        else:\n",
    "            res.append(k)\n",
    "\n",
    "    return ''.join(res)\n",
    "\n",
    "caesar('salut!', 'ABCDEFGHIJKLMNOPQRSTUVWXYZ', -1)"
   ]
  },
  {
   "cell_type": "code",
   "execution_count": 14,
   "id": "34a548a6",
   "metadata": {},
   "outputs": [
    {
     "data": {
      "text/plain": [
       "'bc ycwycm uq nqtq'"
      ]
     },
     "execution_count": 14,
     "metadata": {},
     "output_type": "execute_result"
    }
   ],
   "source": [
    "#2.2.2 Encodage \n",
    "caesar('Tu quoque mi fili', 'ABCDEFGHIJKLMNOPQRSTUVWXYZ', 8)"
   ]
  },
  {
   "cell_type": "markdown",
   "id": "ac3cde9b",
   "metadata": {},
   "source": [
    "On va maintenant utiliser les caractères de la table ASCII imprimable qui va assurer le bon fonctionnement sur un texte en anglais (sans accent). On peut obtenir avec la commande suivante: \n",
    "```python\n",
    ">>> [chr(i) for i in range(32,127)]\n",
    "[' ', '!', '\"', '#', '$', '%', '&', \"'\", '(', ')', '*', '+', ',', \n",
    "'-', '.', '/', '0', '1', '2', '3', '4', '5', '6', '7', '8', '9', ':', \n",
    "';', '<', '=', '>', '?', '@', 'A', 'B', 'C', 'D', 'E', 'F', 'G', 'H',\n",
    " 'I', 'J', 'K', 'L', 'M', 'N', 'O', 'P', 'Q', 'R', 'S', 'T', 'U', \n",
    " 'V', 'W', 'X', 'Y', 'Z', '[', '\\\\', ']', '^', '_', '`', 'a', 'b', \n",
    " 'c', 'd', 'e', 'f', 'g', 'h', 'i', 'j', 'k', 'l', 'm', 'n', 'o', \n",
    " 'p', 'q', 'r', 's', 't', 'u', 'v', 'w', 'x', 'y', 'z', '{', '|', '}\n",
    " ', '~']\n",
    "```\n",
    "\n",
    "## Chiffre de Vigenère avec une classe\n",
    "1. Créer une classe de chiffrement `Vigenere` qui stocke la clé `key` et le tableau de chiffrement `alpha` et qui possède la méthode `code` et `decode`. On s'assurera que l'exemple d'implémentation suivant fonctionne bien:\n",
    "```python\n",
    ">>> ASCII=[chr(i) for i in range(32,127)]\n",
    ">>> enigma=Vigenere(alpha=ASCII,key=\"my fancy key!\")\n",
    ">>> print(enigma)\n",
    "Vigenere encoder-decoder with\n",
    "key=\"my fancy key!\"\n",
    "alpha=[' ', '!', '\"', '#', '$', '%', '&', \"'\", '(', ')', '*', '+', ',\n",
    "', '-', '.', '/', '0', '1', '2', '3', '4', '5', '6', '7', '8', '9', \n",
    "':', ';', '<', '=', '>', '?', '@', 'A', 'B', 'C', 'D', 'E', 'F', 'G', \n",
    "'H', 'I', 'J', 'K', 'L', 'M', 'N', 'O', 'P', 'Q', 'R', 'S', 'T', 'U', \n",
    "'V', 'W', 'X', 'Y', 'Z', '[', '\\\\', ']', '^', '_', '`', 'a', 'b', \n",
    "'c', 'd', 'e', 'f', 'g', 'h', 'i', 'j', 'k', 'l', 'm', 'n', 'o', 'p', \n",
    "'q', 'r', 's', 't', 'u', 'v', 'w', 'x', 'y', 'z', '{', '|', '}', '~']\n",
    ">>> coded_farm=enigma.code(animal_farm)\n",
    ">>> enigma.decode(coded_farm)\n",
    "Mr. Jones, of the Manor Farm, had locked the hen-houses for the \n",
    "night, but was too drunk to remember to shut the pop-holes...\n",
    "```\n",
    "2. Exécuter l'algorithme sur l'exemple de texte ci-dessous avec la clé `\"George Orwell wrote more than 1984\"` et stocker le résultat dans la variable `code_farm`. \n",
    "\n",
    "**Exemple de texte suffisamment long pour obtenir de bonnes statistiques. Animal Farm, George Orwell (1945) en version originale:**\n",
    "\n",
    "Mr. Jones, of the Manor Farm, had locked the hen-houses for the night, but was too drunk to remember to shut the pop-holes. With the ring of light from his lantern dancing from side to side, he lurched across the yard, kicked off his boots at the back door, drew himself a last glass of beer from the barrel in the scullery, and made his way up to bed, where Mrs. Jones was already snoring.\n",
    "\n",
    "As soon as the light in the bedroom went out there was a stirring and a fluttering all through the farm buildings. Word had gone round during the day that old Major, the prize Middle White boar, had had a strange dream on the previous night and wished to communicate it to the other animals. It had been agreed that they should all meet in the big barn as soon as Mr. Jones was safely out of the way. Old Major (so he was always called, though the name under which he had been exhibited was Willingdon Beauty) was so highly regarded on the farm that everyone was quite ready to lose an hour's sleep in order to hear what he had to say.\n",
    "\n",
    "At one end of the big barn, on a sort of raised platform, Major was already ensconced on his bed of straw, under a lantern which hung from a beam. He was twelve years old and had lately grown rather stout, but he was still a majestic-looking pig, with a wise and benevolent appearance in spite of the fact that his tushes had never been cut. Before long the other animals began to arrive and make themselves comfortable after their different fashions. First came the three dogs, Bluebell, Jessie, and Pincher, and then the pigs, who settled down in the straw immediately in front of the platform. The hens perched themselves on the window-sills, the pigeons fluttered up to the rafters, the sheep and cows lay down behind the pigs and began to chew the cud. The two cart-horses, Boxer and Clover, came in together, walking very slowly and setting down their vast hairy hoofs with great care lest there should be some small animal concealed in the straw. Clover was a stout motherly mare approaching middle life, who had never quite got her figure back after her fourth foal. Boxer was an enormous beast, nearly eighteen hands high, and as strong as any two ordinary horses put together. A white stripe down his nose gave him a somewhat stupid appearance, and in fact he was not of first-rate intelligence, but he was universally respected for his steadiness of character and tremendous powers of work. After the horses came Muriel, the white goat, and Benjamin, the donkey. Benjamin was the oldest animal on the farm, and the worst tempered. He seldom talked, and when he did, it was usually to make some cynical remark—for instance, he would say that God had given him a tail to keep the flies off, but that he would sooner have had no tail and no flies. Alone among the animals on the farm he never laughed. If asked why, he would say that he saw nothing to laugh at. Nevertheless, without openly admitting it, he was devoted to Boxer; the two of them usually spent their Sundays together in the small paddock beyond the orchard, grazing side by side and never speaking."
   ]
  },
  {
   "cell_type": "code",
   "execution_count": 42,
   "id": "23a7a7cf",
   "metadata": {},
   "outputs": [
    {
     "name": "stdout",
     "output_type": "stream",
     "text": [
      "WQlRLo\n",
      "salut!\n"
     ]
    }
   ],
   "source": [
    "### 2.3.1 Classe Vignemere\n",
    "class Vignemere:\n",
    "\n",
    "    def __init__(self, key = None, alpha = None) -> None:\n",
    "        \n",
    "        self.alpha = alpha\n",
    "        self.key = key\n",
    "        \n",
    "\n",
    "    def code(self, message):        # Comme les spaces sont en l'alphabet, ils sont codés aussi\n",
    "        res = []                    # Comme tous les symboles spéciales\n",
    "        for k in range(len(message)):\n",
    "            current = self.alpha.index(message[k], 0)\n",
    "            new = (current + self.alpha.index(self.key[k % (len(self.key))], 0)) % (len(self.alpha))\n",
    "            res.append(self.alpha[new])\n",
    "\n",
    "        return ''.join(res)\n",
    "\n",
    "    def decode(self, message):\n",
    "        res = []\n",
    "        for k in range(len(message)):\n",
    "            current = self.alpha.index(message[k], 0)\n",
    "            new = (current - self.alpha.index(self.key[k % (len(self.key))], 0)) % (len(self.alpha))\n",
    "            res.append(self.alpha[new])\n",
    "\n",
    "        return ''.join(res)\n",
    "\n",
    "\n",
    "\n",
    "ASCII = [chr(i) for i in range(32,137)]\n",
    "enigma = Vignemere(alpha = ASCII, key = 'my fancy key')\n",
    "ex = enigma.code('salut!')\n",
    "print(ex)\n",
    "print(enigma.decode(ex))"
   ]
  },
  {
   "cell_type": "code",
   "execution_count": 38,
   "id": "2c37b089",
   "metadata": {},
   "outputs": [],
   "source": [
    "### 2.3.2 Encodage d'animal farm\n",
    "ASCII = [chr(i) for i in range(32,137)]\n",
    "enigma = Vignemere(alpha = ASCII, key = \"George Orwell wrote more than 1984\")\n",
    "text = \"Mr. Jones, of the Manor Farm, had locked the hen-houses for the night, but was too drunk to remember to shut the pop-holes. With the ring of light from his lantern dancing from side to side, he lurched across the yard, kicked off his boots at the back door, drew himself a last glass of beer from the barrel in the scullery, and made his way up to bed, where Mrs. Jones was already snoring. As soon as the light in the bedroom went out there was a stirring and a fluttering all through the farm buildings. Word had gone round during the day that old Major, the prize Middle White boar, had had a strange dream on the previous night and wished to communicate it to the other animals. It had been agreed that they should all meet in the big barn as soon as Mr. Jones was safely out of the way. Old Major (so he was always called, though the name under which he had been exhibited was Willingdon Beauty) was so highly regarded on the farm that everyone was quite ready to lose an hour's sleep in order to hear what he had to say. At one end of the big barn, on a sort of raised platform, Major was already ensconced on his bed of straw, under a lantern which hung from a beam. He was twelve years old and had lately grown rather stout, but he was still a majestic-looking pig, with a wise and benevolent appearance in spite of the fact that his tushes had never been cut. Before long the other animals began to arrive and make themselves comfortable after their different fashions. First came the three dogs, Bluebell, Jessie, and Pincher, and then the pigs, who settled down in the straw immediately in front of the platform. The hens perched themselves on the window-sills, the pigeons fluttered up to the rafters, the sheep and cows lay down behind the pigs and began to chew the cud. The two cart-horses, Boxer and Clover, came in together, walking very slowly and setting down their vast hairy hoofs with great care lest there should be some small animal concealed in the straw. Clover was a stout motherly mare approaching middle life, who had never quite got her figure back after her fourth foal. Boxer was an enormous beast, nearly eighteen hands high, and as strong as any two ordinary horses put together. A white stripe down his nose gave him a somewhat stupid appearance, and in fact he was not of first-rate intelligence, but he was universally respected for his steadiness of character and tremendous powers of work. After the horses came Muriel, the white goat, and Benjamin, the donkey. Benjamin was the oldest animal on the farm, and the worst tempered. He seldom talked, and when he did, it was usually to make some cynical remark—for instance, he would say that God had given him a tail to keep the flies off, but that he would sooner have had no tail and no flies. Alone among the animals on the farm he never laughed. If asked why, he would say that he saw nothing to laugh at. Nevertheless, without openly admitting it, he was devoted to Boxer; the two of them usually spent their Sundays together in the small paddock beyond the orchard, grazing side by side and never speaking.\"\n",
    "\n",
    "\n",
    "code_farm = enigma.code(text)"
   ]
  },
  {
   "cell_type": "markdown",
   "id": "d27c019f",
   "metadata": {},
   "source": [
    "## Codage et décodage d'un vrai texte\n",
    "*On va maintenant démontrer la faiblesse du code César et la relative force du code de Vigenère.*\n",
    "\n",
    "### Casser César\n",
    "Dans cet exercice, on va attaquer le texte chiffré (avec la table `ASCII`) par la méthode César suivant:"
   ]
  },
  {
   "cell_type": "code",
   "execution_count": null,
   "id": "bd011688",
   "metadata": {},
   "outputs": [],
   "source": [
    "message_secret=\"\"\"Lok ~sp v*s}*lo~~o|*~rkx* qv$8\n",
    "O#zvsms~*s}*lo~~o|*~rkx*swzvsms~8\n",
    "]swzvo*s}*lo~~o|*~rkx*mywzvo#8\n",
    "Mywzvo#*s}*lo~~o|*~rkx*mywzvsmk~on8\n",
    "Pvk~*s}*lo~~o|*~rkx*xo}~on8\n",
    "]zk|}o*s}*lo~~o|*~rkx*nox}o8\n",
    "\\oknklsvs~$*my x~}8\n",
    "]zomskv*mk}o}*k|ox1~*}zomskv*oxy qr*~y*l|oku*~ro*| vo}8\n",
    "Kv~ry qr*z|km~smkvs~$*lok~}*z |s~$8\n",
    "O||y|}*}ry vn*xo!o|*zk}}*}svox~v$8\n",
    "_xvo}}*o#zvsms~v$*}svoxmon8\n",
    "Sx*~ro*pkmo*yp*kwlsq s~$6*|op }o*~ro*~owz~k~syx*~y*q o}}8\n",
    "^ro|o*}ry vn*lo*yxo77*kxn*z|opo|klv$*yxv$*yxo*77yl!sy }*\"k$*~y*ny*s~8\n",
    "Kv~ry qr*~rk~*\"k$*wk$*xy~*lo*yl!sy }*k~*ps|}~* xvo}}*$y 1|o*N ~mr8\n",
    "Xy\"*s}*lo~~o|*~rkx*xo!o|8\n",
    "Kv~ry qr*xo!o|*s}*yp~ox*lo~~o|*~rkx*4|sqr~4*xy\"8\n",
    "Sp*~ro*swzvowox~k~syx*s}*rk|n*~y*o#zvksx6*s~1}*k*lkn*snok8\n",
    "Sp*~ro*swzvowox~k~syx*s}*ok}$*~y*o#zvksx6*s~*wk$*lo*k*qyyn*snok8\n",
    "Xkwo}zkmo}*k|o*yxo*ryxusxq*q|ok~*snok*77*vo~1}*ny*wy|o*yp*~ry}o+\"\"\""
   ]
  },
  {
   "cell_type": "markdown",
   "id": "3244f059",
   "metadata": {},
   "source": [
    "Puisqu'il est mono-dictionnaire, on propose de l'attaquer par une analyse fréquentielle. En effet, la fréquence des lettres dans une langue donnée tend vers une valeur connue si le texte est suffisamment long et varié. Par exemple, on retrouve les 5 lettres les plus utilisées dans les textes en anglais.\n",
    "\n",
    "| Lettre  |  Fréquence |\n",
    "|---    |:-:    |\n",
    "|E \t|13%  |\t \n",
    "|T \t|9.1% |  \t\n",
    "|A \t|8.2% | \t\n",
    "|O \t|7.5% | \t\n",
    "|I \t|7%   | \t\n",
    "\n",
    "On aura par exemple la répartition suivante sur le texte clair de notre `message_secret`.\n",
    "\n",
    "![](img/freq_en.png)\n",
    "\n",
    "1. Écrire une fonction `compute_frequency` qui calcule la fréquence des caractères dans un texte donné.\n",
    "```python\n",
    ">>> compute_frequency(message)\n",
    "'*': 0.14355231143552297,\n",
    " 'o': 0.10462287104622861,\n",
    " '~': 0.09002433090024323,\n",
    " 'k': 0.06082725060827245,\n",
    " 's': 0.059610705596107004\n",
    "```\n",
    "2. Grâce à `matplotlib` et en particulier `plt.bar(coord,height, label=...)`, proposer un graphe similaire à celui présenté au-dessus.\n",
    "3. À partir de `compute_frequency`, décoder le `message_secret` sans utiliser la force brute. "
   ]
  },
  {
   "cell_type": "code",
   "execution_count": null,
   "id": "90c7a699",
   "metadata": {},
   "outputs": [],
   "source": [
    "### 2.4.1.1 fonction compute_frequency +  test"
   ]
  },
  {
   "cell_type": "code",
   "execution_count": null,
   "id": "d7e291ba",
   "metadata": {},
   "outputs": [],
   "source": [
    "### 2.4.1.2 Plot"
   ]
  },
  {
   "cell_type": "code",
   "execution_count": null,
   "id": "c0d6ab8f",
   "metadata": {},
   "outputs": [],
   "source": [
    "### Décodage de message_secret"
   ]
  },
  {
   "cell_type": "markdown",
   "id": "c5addd77",
   "metadata": {},
   "source": [
    "### Se casser les dents sur Vigenère\n",
    "*À l'inverse, le code de Vigenère ne peut pas être attaqué directement par recherche fréquentielle.*\n",
    "\n",
    "1. Utiliser `compute_frequency` sur le résultat de codage Vigenère `code_farm`. Expliquer le résultat.\n",
    "2. À la lumière de cette analyse, proposer une méthode ou un critère qui assure une bonne robustesse pour le code de Vigenère.\n",
    "3. Proposer un algorithme d'attaque par force brute.\n",
    "   1. Quel est le nombre d'évaluations en fonction de la longueur de la clé? \n",
    "   2. Le tester sur le texte chiffré suivant (clé à deux caractères). \n",
    "   \n",
    "```\n",
    "'!)9-Jy4(4C!-.-'\n",
    "```"
   ]
  },
  {
   "cell_type": "code",
   "execution_count": null,
   "id": "c548bff4",
   "metadata": {},
   "outputs": [],
   "source": [
    "### 2.4.2.1 application sur du Vigenère"
   ]
  },
  {
   "cell_type": "markdown",
   "id": "fc07ae2c",
   "metadata": {},
   "source": [
    "Réponse textuelle 2.4.2.2"
   ]
  },
  {
   "cell_type": "markdown",
   "id": "2545c293",
   "metadata": {},
   "source": [
    "Réponse textuelle 2.4.2.3.1"
   ]
  },
  {
   "cell_type": "code",
   "execution_count": null,
   "id": "40e43019",
   "metadata": {},
   "outputs": [],
   "source": [
    "#### Attaque par force brute"
   ]
  }
 ],
 "metadata": {
  "kernelspec": {
   "display_name": "Python 3.10.8 64-bit",
   "language": "python",
   "name": "python3"
  },
  "language_info": {
   "codemirror_mode": {
    "name": "ipython",
    "version": 3
   },
   "file_extension": ".py",
   "mimetype": "text/x-python",
   "name": "python",
   "nbconvert_exporter": "python",
   "pygments_lexer": "ipython3",
   "version": "3.10.8"
  },
  "toc": {
   "base_numbering": 1,
   "nav_menu": {},
   "number_sections": true,
   "sideBar": true,
   "skip_h1_title": false,
   "title_cell": "Table of Contents",
   "title_sidebar": "Contents",
   "toc_cell": false,
   "toc_position": {},
   "toc_section_display": true,
   "toc_window_display": false
  },
  "varInspector": {
   "cols": {
    "lenName": 16,
    "lenType": 16,
    "lenVar": 40
   },
   "kernels_config": {
    "python": {
     "delete_cmd_postfix": "",
     "delete_cmd_prefix": "del ",
     "library": "var_list.py",
     "varRefreshCmd": "print(var_dic_list())"
    },
    "r": {
     "delete_cmd_postfix": ") ",
     "delete_cmd_prefix": "rm(",
     "library": "var_list.r",
     "varRefreshCmd": "cat(var_dic_list()) "
    }
   },
   "types_to_exclude": [
    "module",
    "function",
    "builtin_function_or_method",
    "instance",
    "_Feature"
   ],
   "window_display": false
  },
  "vscode": {
   "interpreter": {
    "hash": "b0fa6594d8f4cbf19f97940f81e996739fb7646882a419484c72d19e05852a7e"
   }
  }
 },
 "nbformat": 4,
 "nbformat_minor": 5
}
