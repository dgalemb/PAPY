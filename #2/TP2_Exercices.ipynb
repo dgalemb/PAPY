{
 "cells": [
  {
   "cell_type": "markdown",
   "id": "fff43851",
   "metadata": {},
   "source": [
    "```Ecole Centrale Nantes\n",
    "Option InfoIA\n",
    "PAPY: Programmation avancée python\n",
    "TP2\n",
    "Année 2022-2023\n",
    "Auteur: Lucas Lestandi\n",
    "lucas.lestandi@ec-nantes.fr\n",
    "V1.0\n",
    "```"
   ]
  },
  {
   "cell_type": "markdown",
   "id": "b1be957b",
   "metadata": {},
   "source": [
    "# TP2 : Structuration et types de données"
   ]
  },
  {
   "cell_type": "markdown",
   "id": "1a73f4fa",
   "metadata": {},
   "source": [
    "## Exercices d'application"
   ]
  },
  {
   "cell_type": "markdown",
   "id": "73de313d",
   "metadata": {},
   "source": [
    "### Listes et dictionnaires"
   ]
  },
  {
   "cell_type": "markdown",
   "id": "d66f3c2c",
   "metadata": {},
   "source": [
    "<div class=\"alert alert-info\" role=\"alert\">\n",
    "    <b> Exercice : </b> Ecrire un script qui transforme une liste de dictionnaires en dictionnaire de liste. Propser 2 méthodes a) bloucle for et b) compréhension. \n",
    "</div>\n",
    "\n",
    "Exemple de comportement:\n",
    "```python\n",
    "data =  [{'Lea': 'java', 'Bobby': 'python'},\n",
    "        {'Lea': 'php', 'Bobby': 'java'},\n",
    "        {'Lea': 'cloud', 'Bobby': 'big-data'}]\n",
    "\n",
    "#résultat\n",
    "{'Lea': ['java', 'php', 'cloud'], 'Bobby': ['python', 'java', 'big-data']}\n",
    "```"
   ]
  },
  {
   "cell_type": "code",
   "execution_count": 2,
   "id": "4e9ddbcc",
   "metadata": {},
   "outputs": [
    {
     "data": {
      "text/plain": [
       "{'Lea': ['java', 'php', 'cloud'], 'Bobby': ['python', 'java', 'big-data']}"
      ]
     },
     "execution_count": 2,
     "metadata": {},
     "output_type": "execute_result"
    }
   ],
   "source": [
    "#a) Solution par boucle\n",
    "data =  [{'Lea': 'java', 'Bobby': 'python'},\n",
    "        {'Lea': 'php', 'Bobby': 'java'},\n",
    "        {'Lea': 'cloud', 'Bobby': 'big-data'}]\n",
    "\n",
    "res = {}\n",
    "\n",
    "for i in data:\n",
    "    for key in i:\n",
    "        if key not in res.keys():\n",
    "            res[key] = [i[key]]\n",
    "        else:\n",
    "            res[key].append(i[key])\n",
    "\n",
    "#b) Solution par compréhension\n",
    "\n",
    "res"
   ]
  },
  {
   "cell_type": "markdown",
   "id": "144b6683",
   "metadata": {},
   "source": [
    "<div class=\"alert alert-info\" role=\"alert\">\n",
    "    <b> Exercice : </b> Ecrire un script qui renvoie les 10 mots les plus fréquents dans un texte avec la fréquence associée. L'appliquer à Zen of python (et en profiter pour lire le texte).\n",
    "</div>\n",
    "\n",
    "\n",
    "> **Zen of python**\n",
    "```\n",
    "Beautiful is better than ugly.\n",
    "Explicit is better than implicit.\n",
    "Simple is better than complex.\n",
    "Complex is better than complicated.\n",
    "Flat is better than nested.\n",
    "Sparse is better than dense.\n",
    "Readability counts.\n",
    "Special cases aren't special enough to break the rules.\n",
    "Although practicality beats purity.\n",
    "Errors should never pass silently.\n",
    "Unless explicitly silenced.\n",
    "In the face of ambiguity, refuse the temptation to guess.\n",
    "There should be one-- and preferably only one --obvious way to do it.\n",
    "Although that way may not be obvious at first unless you're Dutch.\n",
    "Now is better than never.\n",
    "Although never is often better than *right* now.\n",
    "If the implementation is hard to explain, it's a bad idea.\n",
    "If the implementation is easy to explain, it may be a good idea.\n",
    "Namespaces are one honking great idea -- let's do more of those!\n",
    "```\n",
    "Résultat attendu\n",
    "```\n",
    "Percentage share of each word : \n",
    "is                  : 7.30%\n",
    "better              : 5.84%\n",
    "than                : 5.84%\n",
    "to                  : 3.65%\n",
    "the                 : 3.65%\n",
    "Although            : 2.19%\n",
    "be                  : 2.19%\n",
    "should              : 1.46%\n",
    "never               : 1.46%\n",
    "of                  : 1.46%\n",
    "```"
   ]
  },
  {
   "cell_type": "code",
   "execution_count": 10,
   "id": "09054587",
   "metadata": {},
   "outputs": [
    {
     "data": {
      "text/plain": [
       "{'is': '7.3%',\n",
       " 'better': '5.84%',\n",
       " 'than': '5.84%',\n",
       " 'to': '3.65%',\n",
       " 'the': '3.65%',\n",
       " 'although': '2.19%',\n",
       " 'never': '2.19%',\n",
       " 'be': '2.19%',\n",
       " 'one': '2.19%',\n",
       " 'idea': '2.19%',\n",
       " 'complex': '1.46%',\n",
       " 'special': '1.46%',\n",
       " 'should': '1.46%',\n",
       " 'unless': '1.46%',\n",
       " 'of': '1.46%',\n",
       " 'obvious': '1.46%',\n",
       " 'way': '1.46%',\n",
       " 'do': '1.46%',\n",
       " 'it': '1.46%',\n",
       " 'may': '1.46%',\n",
       " 'now': '1.46%',\n",
       " 'if': '1.46%',\n",
       " 'implementation': '1.46%',\n",
       " 'explain': '1.46%',\n",
       " 'a': '1.46%',\n",
       " 'beautiful': '0.73%',\n",
       " 'ugly': '0.73%',\n",
       " 'explicit': '0.73%',\n",
       " 'implicit': '0.73%',\n",
       " 'simple': '0.73%',\n",
       " 'complicated': '0.73%',\n",
       " 'flat': '0.73%',\n",
       " 'nested': '0.73%',\n",
       " 'sparse': '0.73%',\n",
       " 'dense': '0.73%',\n",
       " 'readability': '0.73%',\n",
       " 'counts': '0.73%',\n",
       " 'cases': '0.73%',\n",
       " 'arent': '0.73%',\n",
       " 'enough': '0.73%',\n",
       " 'break': '0.73%',\n",
       " 'rules': '0.73%',\n",
       " 'practicality': '0.73%',\n",
       " 'beats': '0.73%',\n",
       " 'purity': '0.73%',\n",
       " 'errors': '0.73%',\n",
       " 'pass': '0.73%',\n",
       " 'silently': '0.73%',\n",
       " 'explicitly': '0.73%',\n",
       " 'silenced': '0.73%',\n",
       " 'in': '0.73%',\n",
       " 'face': '0.73%',\n",
       " 'ambiguity': '0.73%',\n",
       " 'refuse': '0.73%',\n",
       " 'temptation': '0.73%',\n",
       " 'guess': '0.73%',\n",
       " 'there': '0.73%',\n",
       " 'and': '0.73%',\n",
       " 'preferably': '0.73%',\n",
       " 'only': '0.73%',\n",
       " 'that': '0.73%',\n",
       " 'not': '0.73%',\n",
       " 'at': '0.73%',\n",
       " 'first': '0.73%',\n",
       " 'youre': '0.73%',\n",
       " 'dutch': '0.73%',\n",
       " 'often': '0.73%',\n",
       " 'right': '0.73%',\n",
       " 'hard': '0.73%',\n",
       " 'its': '0.73%',\n",
       " 'bad': '0.73%',\n",
       " 'easy': '0.73%',\n",
       " 'good': '0.73%',\n",
       " 'namespaces': '0.73%',\n",
       " 'are': '0.73%',\n",
       " 'honking': '0.73%',\n",
       " 'great': '0.73%',\n",
       " '': '0.73%',\n",
       " 'lets': '0.73%',\n",
       " 'more': '0.73%',\n",
       " 'those': '0.73%'}"
      ]
     },
     "execution_count": 10,
     "metadata": {},
     "output_type": "execute_result"
    }
   ],
   "source": [
    "zen=\"\"\"Beautiful is better than ugly.\n",
    "Explicit is better than implicit.\n",
    "Simple is better than complex.\n",
    "Complex is better than complicated.\n",
    "Flat is better than nested.\n",
    "Sparse is better than dense.\n",
    "Readability counts.\n",
    "Special cases aren't special enough to break the rules.\n",
    "Although practicality beats purity.\n",
    "Errors should never pass silently.\n",
    "Unless explicitly silenced.\n",
    "In the face of ambiguity, refuse the temptation to guess.\n",
    "There should be one-- and preferably only one --obvious way to do it.\n",
    "Although that way may not be obvious at first unless you're Dutch.\n",
    "Now is better than never.\n",
    "Although never is often better than *right* now.\n",
    "If the implementation is hard to explain, it's a bad idea.\n",
    "If the implementation is easy to explain, it may be a good idea.\n",
    "Namespaces are one honking great idea -- let's do more of those!\"\"\"\n",
    "\n",
    "# Solution\n",
    "\n",
    "import string\n",
    "import operator\n",
    "\n",
    "# Cleaning the string\n",
    "\n",
    "zen = zen.replace(\"\\n\", \" \")\n",
    "zen = zen.translate(str.maketrans('', '', string.punctuation))\n",
    "list_words = zen.split(\" \")\n",
    "list_words = [k.lower() for k in list_words]\n",
    "\n",
    "res = {}\n",
    "\n",
    "for i in list_words:\n",
    "    counted = list_words.count(i)\n",
    "    res[i] = counted\n",
    "\n",
    "res = dict(sorted(res.items(), key=lambda item: item[1], reverse=True))\n",
    "\n",
    "for key in res:\n",
    "    res[key] = str(round(res[key] / len(list_words) * 100, 2)) + '%'\n",
    "\n",
    "\n",
    "res"
   ]
  },
  {
   "cell_type": "markdown",
   "id": "54eb7093",
   "metadata": {},
   "source": [
    "<div class=\"alert alert-info\" role=\"alert\">\n",
    "    <b> Code Golf Challenge : </b> le but de cet exercice est de proposer la \n",
    "        solution au même problème qui utilise un nombre minimal de charactères. Les <code>import</code> sont interdit. </br>\n",
    "        Pour mesurer la longueur du script, on il suffit de le copier coller dans une chaine et d'appliquer len. On arrivera sans trop de difficulté à environs 150.\n",
    "</div>"
   ]
  },
  {
   "cell_type": "markdown",
   "id": "2656d516",
   "metadata": {},
   "source": [
    "### Fonctions"
   ]
  },
  {
   "cell_type": "markdown",
   "id": "96c12953",
   "metadata": {},
   "source": [
    "<div class=\"alert alert-info\" role=\"alert\">\n",
    "    <b> Exercice : </b>Ecrire une fonction qui calcule la moyenne d'un nombre inconnu d'arguments. \n",
    "</div>\n",
    "\n",
    "```python\n",
    ">>> result1 = avgfun(1, 2, 3)\n",
    ">>> result2 = avgfun(2, 6, 4, 8)\n",
    " \n",
    ">>> print(round(result1, 2))\n",
    ">>> print(round(result2, 2))\n",
    "2.0\n",
    "5.0\n",
    "```"
   ]
  },
  {
   "cell_type": "code",
   "execution_count": 7,
   "id": "415f1761",
   "metadata": {},
   "outputs": [
    {
     "name": "stdout",
     "output_type": "stream",
     "text": [
      "45\n",
      "{'x': 0, 'y': 0}\n"
     ]
    }
   ],
   "source": [
    "# Solution avec 45 charactères\n",
    "def avgfun(*args):\n",
    "        return sum(args)/len(args)\n",
    "\n",
    "taille = 'def avgfun(*args): return sum(args)/len(args)'\n",
    "print(len(taille))"
   ]
  },
  {
   "cell_type": "markdown",
   "id": "42eccb43",
   "metadata": {},
   "source": [
    "<div class=\"alert alert-info\" role=\"alert\">\n",
    "    <b> Exercice : </b> Ecrire une fonction <code>crier</code> qui transforme un str en majuscules, une seconde <code>chuchoter</code> qui transforme le str en minuscules et enfin une troisième <code>salutations</code> (d'ordre supérieur) qui prend en argument une fonction et l'applique à un texte pré-défini.\n",
    "</div>\n",
    "Exemple\n",
    "\n",
    "```python\n",
    ">>> saluations(crier)\n",
    "BONJOUR, JE SUIS CRÉÉ PAR UNE FONCTION PASSÉ EN ARGUMENT.\n",
    ">>> saluations(chuchoter) \n",
    "bonjour, je suis créé par une fonction passé en argument.\n",
    "```"
   ]
  },
  {
   "cell_type": "code",
   "execution_count": 33,
   "id": "471ba4ff",
   "metadata": {},
   "outputs": [
    {
     "name": "stdout",
     "output_type": "stream",
     "text": [
      "34\n",
      "38\n",
      "45\n"
     ]
    },
    {
     "data": {
      "text/plain": [
       "'hey'"
      ]
     },
     "execution_count": 33,
     "metadata": {},
     "output_type": "execute_result"
    }
   ],
   "source": [
    "# Solution CRIER en 34 charactères\n",
    "\n",
    "from re import T\n",
    "\n",
    "\n",
    "def crier(phr):\n",
    "    return phr.upper()\n",
    "taille = 'def crier(phr): return phr.upper()'\n",
    "print(len(taille))\n",
    "\n",
    "# Solution CHUCOTER en 38 charactères\n",
    "\n",
    "def chuchoter(phr):\n",
    "    return phr.lower()\n",
    "taille1 = 'def chuchoter(phr): return phr.lower()'\n",
    "print(len(taille1))\n",
    "\n",
    "# Solution salutations en 45 charactères - Au total, 117\n",
    "\n",
    "def salutations(f):\n",
    "    text = 'hEy'\n",
    "    return f(text)\n",
    "\n",
    "taille1 = 'def salutations(f): text = ''hEy'' return f(text)'\n",
    "print(len(taille1))\n",
    "salutations(chuchoter)"
   ]
  },
  {
   "cell_type": "markdown",
   "id": "8d05ff24",
   "metadata": {},
   "source": [
    "<div class=\"alert alert-info\" role=\"alert\">\n",
    "    <b> Exercice : </b> Ecrire une fonction décorateur <code>log</code> qui prend en argument une fonction et en extrait le nom, les arguments (positionnels et par mot-clé) ainsi que le résultat pour les afficher. \n",
    "</div>\n",
    "Exemple d'utilisation du décorateur\n",
    "\n",
    "```python\n",
    ">>> @log\n",
    ">>> def add(x, y):\n",
    ">>>    return x + y\n",
    "\n",
    ">>> add(3.5, 7)\n",
    "Fonction add appelée avec les arguments positionnels (3.5, 7) et les arguments par mot clé {}. Résultat:10.5\n",
    "\n",
    "10.5\n",
    "```"
   ]
  },
  {
   "cell_type": "code",
   "execution_count": 36,
   "id": "3b21d938",
   "metadata": {},
   "outputs": [
    {
     "name": "stdout",
     "output_type": "stream",
     "text": [
      "Fonction add appelée avec les arguments positionnels  (1, 2) et les arguments par mot clé  {} . Résultat:  3\n",
      "212\n"
     ]
    }
   ],
   "source": [
    "# Solution log en 212 charactères\n",
    "\n",
    "def log(func):\n",
    "    def decorateur(*args, **kwargs):\n",
    "        print('Fonction add appelée avec les arguments positionnels ', args,'et les arguments par mot clé ', kwargs,'. Résultat: ', func(*args, **kwargs))\n",
    "    return decorateur\n",
    "\n",
    "@log\n",
    "def add(x, y):\n",
    "    return x + y\n",
    "\n",
    "add(1, 2)\n",
    "\n",
    "taille = '''def log(func): def decorateur(*args, **kwargs): print('Fonction add appelée avec les arguments positionnels ', args,'et les arguments par mot clé ', kwargs,'. Résultat: ', func(*args, **kwargs)) return decorateur'''\n",
    "print(len(taille))\n"
   ]
  }
 ],
 "metadata": {
  "kernelspec": {
   "display_name": "Python 3.10.6 64-bit",
   "language": "python",
   "name": "python3"
  },
  "language_info": {
   "codemirror_mode": {
    "name": "ipython",
    "version": 3
   },
   "file_extension": ".py",
   "mimetype": "text/x-python",
   "name": "python",
   "nbconvert_exporter": "python",
   "pygments_lexer": "ipython3",
   "version": "3.10.6"
  },
  "toc": {
   "base_numbering": 1,
   "nav_menu": {},
   "number_sections": true,
   "sideBar": true,
   "skip_h1_title": true,
   "title_cell": "Table of Contents",
   "title_sidebar": "Contents",
   "toc_cell": false,
   "toc_position": {
    "height": "calc(100% - 180px)",
    "left": "10px",
    "top": "150px",
    "width": "384px"
   },
   "toc_section_display": true,
   "toc_window_display": false
  },
  "varInspector": {
   "cols": {
    "lenName": 16,
    "lenType": 16,
    "lenVar": 40
   },
   "kernels_config": {
    "python": {
     "delete_cmd_postfix": "",
     "delete_cmd_prefix": "del ",
     "library": "var_list.py",
     "varRefreshCmd": "print(var_dic_list())"
    },
    "r": {
     "delete_cmd_postfix": ") ",
     "delete_cmd_prefix": "rm(",
     "library": "var_list.r",
     "varRefreshCmd": "cat(var_dic_list()) "
    }
   },
   "types_to_exclude": [
    "module",
    "function",
    "builtin_function_or_method",
    "instance",
    "_Feature"
   ],
   "window_display": false
  },
  "vscode": {
   "interpreter": {
    "hash": "b0fa6594d8f4cbf19f97940f81e996739fb7646882a419484c72d19e05852a7e"
   }
  }
 },
 "nbformat": 4,
 "nbformat_minor": 5
}
