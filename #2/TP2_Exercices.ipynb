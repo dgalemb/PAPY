{
 "cells": [
  {
   "cell_type": "markdown",
   "id": "fff43851",
   "metadata": {},
   "source": [
    "```Ecole Centrale Nantes\n",
    "Option InfoIA\n",
    "PAPY: Programmation avancée python\n",
    "TP2\n",
    "Année 2022-2023\n",
    "Auteur: Lucas Lestandi\n",
    "lucas.lestandi@ec-nantes.fr\n",
    "V1.0\n",
    "```"
   ]
  },
  {
   "cell_type": "markdown",
   "id": "b1be957b",
   "metadata": {},
   "source": [
    "# TP2 : Structuration et types de données"
   ]
  },
  {
   "cell_type": "markdown",
   "id": "1a73f4fa",
   "metadata": {},
   "source": [
    "## Exercices d'application"
   ]
  },
  {
   "cell_type": "markdown",
   "id": "73de313d",
   "metadata": {},
   "source": [
    "### Listes et dictionnaires"
   ]
  },
  {
   "cell_type": "markdown",
   "id": "d66f3c2c",
   "metadata": {},
   "source": [
    "<div class=\"alert alert-info\" role=\"alert\">\n",
    "    <b> Exercice : </b> Ecrire un script qui transforme une liste de dictionnaires en dictionnaire de liste. Propser 2 méthodes a) bloucle for et b) compréhension. \n",
    "</div>\n",
    "\n",
    "Exemple de comportement:\n",
    "```python\n",
    "data =  [{'Lea': 'java', 'Bobby': 'python'},\n",
    "        {'Lea': 'php', 'Bobby': 'java'},\n",
    "        {'Lea': 'cloud', 'Bobby': 'big-data'}]\n",
    "\n",
    "#résultat\n",
    "{'Lea': ['java', 'php', 'cloud'], 'Bobby': ['python', 'java', 'big-data']}\n",
    "```"
   ]
  },
  {
   "cell_type": "code",
   "execution_count": 2,
   "id": "4e9ddbcc",
   "metadata": {},
   "outputs": [
    {
     "data": {
      "text/plain": [
       "{'Lea': ['java', 'php', 'cloud'], 'Bobby': ['python', 'java', 'big-data']}"
      ]
     },
     "execution_count": 2,
     "metadata": {},
     "output_type": "execute_result"
    }
   ],
   "source": [
    "#a) Solution par boucle\n",
    "data =  [{'Lea': 'java', 'Bobby': 'python'},\n",
    "        {'Lea': 'php', 'Bobby': 'java'},\n",
    "        {'Lea': 'cloud', 'Bobby': 'big-data'}]\n",
    "\n",
    "res = {}\n",
    "\n",
    "for i in data:\n",
    "    for key in i:\n",
    "        if key not in res.keys():\n",
    "            res[key] = [i[key]]\n",
    "        else:\n",
    "            res[key].append(i[key])\n",
    "\n",
    "#b) Solution par compréhension\n",
    "\n",
    "res"
   ]
  },
  {
   "cell_type": "markdown",
   "id": "144b6683",
   "metadata": {},
   "source": [
    "<div class=\"alert alert-info\" role=\"alert\">\n",
    "    <b> Exercice : </b> Ecrire un script qui renvoie les 10 mots les plus fréquents dans un texte avec la fréquence associée. L'appliquer à Zen of python (et en profiter pour lire le texte).\n",
    "</div>\n",
    "\n",
    "\n",
    "> **Zen of python**\n",
    "```\n",
    "Beautiful is better than ugly.\n",
    "Explicit is better than implicit.\n",
    "Simple is better than complex.\n",
    "Complex is better than complicated.\n",
    "Flat is better than nested.\n",
    "Sparse is better than dense.\n",
    "Readability counts.\n",
    "Special cases aren't special enough to break the rules.\n",
    "Although practicality beats purity.\n",
    "Errors should never pass silently.\n",
    "Unless explicitly silenced.\n",
    "In the face of ambiguity, refuse the temptation to guess.\n",
    "There should be one-- and preferably only one --obvious way to do it.\n",
    "Although that way may not be obvious at first unless you're Dutch.\n",
    "Now is better than never.\n",
    "Although never is often better than *right* now.\n",
    "If the implementation is hard to explain, it's a bad idea.\n",
    "If the implementation is easy to explain, it may be a good idea.\n",
    "Namespaces are one honking great idea -- let's do more of those!\n",
    "```\n",
    "Résultat attendu\n",
    "```\n",
    "Percentage share of each word : \n",
    "is                  : 7.30%\n",
    "better              : 5.84%\n",
    "than                : 5.84%\n",
    "to                  : 3.65%\n",
    "the                 : 3.65%\n",
    "Although            : 2.19%\n",
    "be                  : 2.19%\n",
    "should              : 1.46%\n",
    "never               : 1.46%\n",
    "of                  : 1.46%\n",
    "```"
   ]
  },
  {
   "cell_type": "code",
   "execution_count": 10,
   "id": "09054587",
   "metadata": {},
   "outputs": [
    {
     "data": {
      "text/plain": [
       "{'is': '7.3%',\n",
       " 'better': '5.84%',\n",
       " 'than': '5.84%',\n",
       " 'to': '3.65%',\n",
       " 'the': '3.65%',\n",
       " 'although': '2.19%',\n",
       " 'never': '2.19%',\n",
       " 'be': '2.19%',\n",
       " 'one': '2.19%',\n",
       " 'idea': '2.19%',\n",
       " 'complex': '1.46%',\n",
       " 'special': '1.46%',\n",
       " 'should': '1.46%',\n",
       " 'unless': '1.46%',\n",
       " 'of': '1.46%',\n",
       " 'obvious': '1.46%',\n",
       " 'way': '1.46%',\n",
       " 'do': '1.46%',\n",
       " 'it': '1.46%',\n",
       " 'may': '1.46%',\n",
       " 'now': '1.46%',\n",
       " 'if': '1.46%',\n",
       " 'implementation': '1.46%',\n",
       " 'explain': '1.46%',\n",
       " 'a': '1.46%',\n",
       " 'beautiful': '0.73%',\n",
       " 'ugly': '0.73%',\n",
       " 'explicit': '0.73%',\n",
       " 'implicit': '0.73%',\n",
       " 'simple': '0.73%',\n",
       " 'complicated': '0.73%',\n",
       " 'flat': '0.73%',\n",
       " 'nested': '0.73%',\n",
       " 'sparse': '0.73%',\n",
       " 'dense': '0.73%',\n",
       " 'readability': '0.73%',\n",
       " 'counts': '0.73%',\n",
       " 'cases': '0.73%',\n",
       " 'arent': '0.73%',\n",
       " 'enough': '0.73%',\n",
       " 'break': '0.73%',\n",
       " 'rules': '0.73%',\n",
       " 'practicality': '0.73%',\n",
       " 'beats': '0.73%',\n",
       " 'purity': '0.73%',\n",
       " 'errors': '0.73%',\n",
       " 'pass': '0.73%',\n",
       " 'silently': '0.73%',\n",
       " 'explicitly': '0.73%',\n",
       " 'silenced': '0.73%',\n",
       " 'in': '0.73%',\n",
       " 'face': '0.73%',\n",
       " 'ambiguity': '0.73%',\n",
       " 'refuse': '0.73%',\n",
       " 'temptation': '0.73%',\n",
       " 'guess': '0.73%',\n",
       " 'there': '0.73%',\n",
       " 'and': '0.73%',\n",
       " 'preferably': '0.73%',\n",
       " 'only': '0.73%',\n",
       " 'that': '0.73%',\n",
       " 'not': '0.73%',\n",
       " 'at': '0.73%',\n",
       " 'first': '0.73%',\n",
       " 'youre': '0.73%',\n",
       " 'dutch': '0.73%',\n",
       " 'often': '0.73%',\n",
       " 'right': '0.73%',\n",
       " 'hard': '0.73%',\n",
       " 'its': '0.73%',\n",
       " 'bad': '0.73%',\n",
       " 'easy': '0.73%',\n",
       " 'good': '0.73%',\n",
       " 'namespaces': '0.73%',\n",
       " 'are': '0.73%',\n",
       " 'honking': '0.73%',\n",
       " 'great': '0.73%',\n",
       " '': '0.73%',\n",
       " 'lets': '0.73%',\n",
       " 'more': '0.73%',\n",
       " 'those': '0.73%'}"
      ]
     },
     "execution_count": 10,
     "metadata": {},
     "output_type": "execute_result"
    }
   ],
   "source": [
    "zen=\"\"\"Beautiful is better than ugly.\n",
    "Explicit is better than implicit.\n",
    "Simple is better than complex.\n",
    "Complex is better than complicated.\n",
    "Flat is better than nested.\n",
    "Sparse is better than dense.\n",
    "Readability counts.\n",
    "Special cases aren't special enough to break the rules.\n",
    "Although practicality beats purity.\n",
    "Errors should never pass silently.\n",
    "Unless explicitly silenced.\n",
    "In the face of ambiguity, refuse the temptation to guess.\n",
    "There should be one-- and preferably only one --obvious way to do it.\n",
    "Although that way may not be obvious at first unless you're Dutch.\n",
    "Now is better than never.\n",
    "Although never is often better than *right* now.\n",
    "If the implementation is hard to explain, it's a bad idea.\n",
    "If the implementation is easy to explain, it may be a good idea.\n",
    "Namespaces are one honking great idea -- let's do more of those!\"\"\"\n",
    "\n",
    "# Solution\n",
    "\n",
    "import string\n",
    "import operator\n",
    "\n",
    "# Cleaning the string\n",
    "\n",
    "zen = zen.replace(\"\\n\", \" \")\n",
    "zen = zen.translate(str.maketrans('', '', string.punctuation))\n",
    "list_words = zen.split(\" \")\n",
    "list_words = [k.lower() for k in list_words]\n",
    "\n",
    "res = {}\n",
    "\n",
    "for i in list_words:\n",
    "    counted = list_words.count(i)\n",
    "    res[i] = counted\n",
    "\n",
    "res = dict(sorted(res.items(), key=lambda item: item[1], reverse=True))\n",
    "\n",
    "for key in res:\n",
    "    res[key] = str(round(res[key] / len(list_words) * 100, 2)) + '%'\n",
    "\n",
    "\n",
    "res"
   ]
  },
  {
   "cell_type": "markdown",
   "id": "54eb7093",
   "metadata": {},
   "source": [
    "<div class=\"alert alert-info\" role=\"alert\">\n",
    "    <b> Code Golf Challenge : </b> le but de cet exercice est de proposer la \n",
    "        solution au même problème qui utilise un nombre minimal de charactères. Les <code>import</code> sont interdit. </br>\n",
    "        Pour mesurer la longueur du script, on il suffit de le copier coller dans une chaine et d'appliquer len. On arrivera sans trop de difficulté à environs 150.\n",
    "</div>"
   ]
  },
  {
   "cell_type": "markdown",
   "id": "2656d516",
   "metadata": {},
   "source": [
    "### Fonctions"
   ]
  },
  {
   "cell_type": "markdown",
   "id": "96c12953",
   "metadata": {},
   "source": [
    "<div class=\"alert alert-info\" role=\"alert\">\n",
    "    <b> Exercice : </b>Ecrire une fonction qui calcule la moyenne d'un nombre inconnu d'arguments. \n",
    "</div>\n",
    "\n",
    "```python\n",
    ">>> result1 = avgfun(1, 2, 3)\n",
    ">>> result2 = avgfun(2, 6, 4, 8)\n",
    " \n",
    ">>> print(round(result1, 2))\n",
    ">>> print(round(result2, 2))\n",
    "2.0\n",
    "5.0\n",
    "```"
   ]
  },
  {
   "cell_type": "code",
   "execution_count": 7,
   "id": "415f1761",
   "metadata": {},
   "outputs": [
    {
     "name": "stdout",
     "output_type": "stream",
     "text": [
      "45\n",
      "{'x': 0, 'y': 0}\n"
     ]
    }
   ],
   "source": [
    "# Solution avec 45 charactères\n",
    "def avgfun(*args):\n",
    "    print(args)\n",
    "    return sum(args)/len(args)\n",
    "\n",
    "taille = 'def avgfun(*args): return sum(args)/len(args)'\n",
    "print(len(taille))"
   ]
  },
  {
   "cell_type": "markdown",
   "id": "42eccb43",
   "metadata": {},
   "source": [
    "<div class=\"alert alert-info\" role=\"alert\">\n",
    "    <b> Exercice : </b> Ecrire une fonction <code>crier</code> qui transforme un str en majuscules, une seconde <code>chuchoter</code> qui transforme le str en minuscules et enfin une troisième <code>salutations</code> (d'ordre supérieur) qui prend en argument une fonction et l'applique à un texte pré-défini.\n",
    "</div>\n",
    "Exemple\n",
    "\n",
    "```python\n",
    ">>> saluations(crier)\n",
    "BONJOUR, JE SUIS CRÉÉ PAR UNE FONCTION PASSÉ EN ARGUMENT.\n",
    ">>> saluations(chuchoter) \n",
    "bonjour, je suis créé par une fonction passé en argument.\n",
    "```"
   ]
  },
  {
   "cell_type": "code",
   "execution_count": 33,
   "id": "471ba4ff",
   "metadata": {},
   "outputs": [
    {
     "name": "stdout",
     "output_type": "stream",
     "text": [
      "34\n",
      "38\n",
      "45\n"
     ]
    },
    {
     "data": {
      "text/plain": [
       "'hey'"
      ]
     },
     "execution_count": 33,
     "metadata": {},
     "output_type": "execute_result"
    }
   ],
   "source": [
    "# Solution CRIER en 34 charactères\n",
    "\n",
    "from re import T\n",
    "\n",
    "\n",
    "def crier(phr):\n",
    "    return phr.upper()\n",
    "taille = 'def crier(phr): return phr.upper()'\n",
    "print(len(taille))\n",
    "\n",
    "# Solution CHUCOTER en 38 charactères\n",
    "\n",
    "def chuchoter(phr):\n",
    "    return phr.lower()\n",
    "taille1 = 'def chuchoter(phr): return phr.lower()'\n",
    "print(len(taille1))\n",
    "\n",
    "# Solution salutations en 45 charactères - Au total, 117\n",
    "\n",
    "def salutations(f):\n",
    "    text = 'hEy'\n",
    "    return f(text)\n",
    "\n",
    "taille1 = 'def salutations(f): text = ''hEy'' return f(text)'\n",
    "print(len(taille1))\n",
    "salutations(chuchoter)"
   ]
  },
  {
   "cell_type": "markdown",
   "id": "8d05ff24",
   "metadata": {},
   "source": [
    "<div class=\"alert alert-info\" role=\"alert\">\n",
    "    <b> Exercice : </b> Ecrire une fonction décorateur <code>log</code> qui prend en argument une fonction et en extrait le nom, les arguments (positionnels et par mot-clé) ainsi que le résultat pour les afficher. \n",
    "</div>\n",
    "Exemple d'utilisation du décorateur\n",
    "\n",
    "```python\n",
    ">>> @log\n",
    ">>> def add(x, y):\n",
    ">>>    return x + y\n",
    "\n",
    ">>> add(3.5, 7)\n",
    "Fonction add appelée avec les arguments positionnels (3.5, 7) et les arguments par mot clé {}. Résultat:10.5\n",
    "\n",
    "10.5\n",
    "```"
   ]
  },
  {
   "cell_type": "code",
   "execution_count": 36,
   "id": "3b21d938",
   "metadata": {},
   "outputs": [
    {
     "name": "stdout",
     "output_type": "stream",
     "text": [
      "Fonction add appelée avec les arguments positionnels  (1, 2) et les arguments par mot clé  {} . Résultat:  3\n",
      "212\n"
     ]
    }
   ],
   "source": [
    "# Solution log en 212 charactères\n",
    "\n",
    "def log(func):\n",
    "    def decorateur(*args, **kwargs):\n",
    "        print('Fonction add appelée avec les arguments positionnels ', args,'et les arguments par mot clé ', kwargs,'. Résultat: ', func(*args, **kwargs))\n",
    "    return decorateur\n",
    "\n",
    "@log\n",
    "def add(x, y):\n",
    "    return x + y\n",
    "\n",
    "add(1, 2)\n",
    "\n",
    "taille = '''def log(func): def decorateur(*args, **kwargs): print('Fonction add appelée avec les arguments positionnels ', args,'et les arguments par mot clé ', kwargs,'. Résultat: ', func(*args, **kwargs)) return decorateur'''\n",
    "print(len(taille))\n"
   ]
  },
  {
   "cell_type": "markdown",
   "id": "ee1c9d22",
   "metadata": {},
   "source": [
    "### Classes"
   ]
  },
  {
   "cell_type": "markdown",
   "id": "4fc8422c",
   "metadata": {},
   "source": [
    "Créer une classe Printer qui fait: "
   ]
  },
  {
   "cell_type": "markdown",
   "id": "2651f6df",
   "metadata": {},
   "source": [
    "<div class=\"alert alert-info\" role=\"alert\">\n",
    "    <b> Exercice : </b> Créer une classe <code>Printer</code> dont les instances singent le comportement d'une imprimante dans le terminal/output jupyter. On appèlera donc les formats A0 une \"feuille\" de largeur 200 caractères dont on divisera la largeur par 2 (comme pour les vrais feuilles) de A1 jusqu'à A5. Une imprimante particulière peut imprimer selon un ou plusieurs de ces formats, à la discression de l'utilisateur. Le défaut est \"A4\" s'il existe sur l'imprimante. On gardera la trace de toutes les imprimantes (instances) dans le système.\n",
    "    <br>\n",
    "    <u>Politique de création d'une imprimante:</u> on entre les formats disponibles et <code>__init__</code> vérifie l'adéquation avec les formats autorisés dans le système.\n",
    "    <br><br>\n",
    "    <b>Définir une classe fille :<code>ColorPrinter</code> une imprimante \"<i>couleur</i>\" </b> qui possède en plus des propriétés classique des <code>Printer</code> la possibilité d'imprimer le texte en couleur dans le terminal grace aux codes type <code>\"\\033[;34m\"</code>\n",
    "</div>\n",
    "\n",
    "\n",
    "```python\n",
    ">>> generic_printer=Printer(avail_paper=[\"B1\",\"A4\",\"A0\"])\n",
    "Some formats are incorrect :{'B1'}\n",
    ">>>   Printer.show_printers_system()\n",
    "\"Formats: ['A0', 'A1', 'A2', 'A3', 'A4', 'A5'],  cls.base_width=200, \\n cls.devices=[\"Printer 0\"]\"\n",
    ">>> generic_printer.send(zen)\n",
    "##################################################\n",
    "#  Beautiful is better than ugly. Explicit is    #\n",
    "#  better than implicit. Simple is better than   #\n",
    "#  complex. Complex is better than complicated.  #\n",
    "#  Flat is better than nested. Sparse is better  #\n",
    "#  than dense. Readability counts. Special cases #\n",
    "#  aren't special enough to break the rules.     #\n",
    "#  Although practicality beats purity. Errors    #\n",
    "#  should never pass silently. Unless explicitly #\n",
    "#  silenced. In the face of ambiguity, refuse    #\n",
    "#  the temptation to guess. There should be      #\n",
    "#  one-- and preferably only one --obvious way   #\n",
    "#  to do it. Although that way may not be        #\n",
    "#  obvious at first unless you're Dutch. Now is  #\n",
    "#  better than never. Although never is often    #\n",
    "#  better than *right* now. If the               #\n",
    "#  implementation is hard to explain, it's a bad #\n",
    "#  idea. If the implementation is easy to        #\n",
    "#  explain, it may be a good idea. Namespaces    #\n",
    "#  are one honking great idea -- let's do more   #\n",
    "#  of those!                                     #\n",
    "##################################################\n",
    "\n",
    ">>> generic_printer.send(zen,\"A0\")\n",
    "########################################################################################################################################################################################################\n",
    "#  Beautiful is better than ugly. Explicit is better than implicit. Simple is better than complex. Complex is better than complicated. Flat is better than nested. Sparse is better than dense.        #\n",
    "#  Readability counts. Special cases aren't special enough to break the rules. Although practicality beats purity. Errors should never pass silently. Unless explicitly silenced. In the face of       #\n",
    "#  ambiguity, refuse the temptation to guess. There should be one-- and preferably only one --obvious way to do it. Although that way may not be obvious at first unless you're Dutch. Now is better   #\n",
    "#  than never. Although never is often better than *right* now. If the implementation is hard to explain, it's a bad idea. If the implementation is easy to explain, it may be a good idea. Namespaces #\n",
    "#  are one honking great idea -- let's do more of those!                                                                                                                                               #\n",
    "########################################################################################################################################################################################################\n",
    "```\n",
    "\n",
    "On attend de l'intance de ColorPrinter le même comportement mais avec le texte coloré en bleu dans le terminal.\n",
    "```\n",
    ">>> fancy_printer=ColorPrinter(\"Blue printer\", color=\"blue\")\n",
    "##################################################\n",
    "#  Beautiful is better than ugly. Explicit       #\n",
    "#  is better than implicit. Simple is better     #\n",
    "#  than complex. Complex is better than          #\n",
    "#  complicated. Flat is better than nested.      #\n",
    "#  Sparse is better than dense. Readability      #\n",
    "#  counts. Special cases aren't special enough   #\n",
    "#  to break the rules. Although practicality     #\n",
    "#  beats purity. Errors should never pass        #\n",
    "#  silently. Unless explicitly silenced. In the  #\n",
    "#  face of ambiguity, refuse the temptation to   #\n",
    "#  guess. There should be one-- and preferably   #\n",
    "#  only one --obvious way to do it. Although     #\n",
    "#  that way may not be obvious at first unless   #\n",
    "#  you're Dutch. Now is better than never.       #\n",
    "#  Although never is often better than *right*   #\n",
    "#  now. If the implementation is hard to         #\n",
    "#  explain, it's a bad idea. If the              #\n",
    "#  implementation is easy to explain, it may be  #\n",
    "#  a good idea. Namespaces are one honking great #\n",
    "#  idea -- let's do more of those!               #\n",
    "##################################################\n",
    "```"
   ]
  },
  {
   "cell_type": "code",
   "execution_count": 57,
   "id": "9955e2a4",
   "metadata": {},
   "outputs": [
    {
     "name": "stdout",
     "output_type": "stream",
     "text": [
      "A4 12.5\n"
     ]
    }
   ],
   "source": [
    "class generic_printer:\n",
    "    \n",
    "    def __init__(self, Formats = ['A0', 'A1', 'A2', 'A3', 'A4', 'A5'], Format_Actuel = 'A4', base_width = 12.5, width_actuel = 200):\n",
    "\n",
    "        self.Formats = Formats\n",
    "        self.Format_Actuel = Format_Actuel\n",
    "        self.base_width = base_width\n",
    "        self.width_actuel = width_actuel\n",
    "\n",
    "    def ChangeWidth(self, Format):\n",
    "\n",
    "        if Format == 'A0':\n",
    "            self.Format_Actuel = 'A0'\n",
    "            self.width_actuel = 200\n",
    "        elif Format == 'A1':\n",
    "            self.Format_Actuel = 'A1'\n",
    "            self.width_actuel = 200 / 2\n",
    "        elif Format == 'A2':\n",
    "            self.Format_Actuel = 'A2'\n",
    "            self.width_actuel = 200 / 2 / 2\n",
    "        elif Format == 'A3':\n",
    "            self.Format_Actuel = 'A3'\n",
    "            self.width_actuel = 200 / 2 / 2 / 2\n",
    "        elif Format == 'A4':\n",
    "            self.Format_Actuel = 'A4'\n",
    "            self.width_actuel = 200 / 2 / 2 / 2 / 2\n",
    "        elif Format == 'A5':\n",
    "            self.Format_Actuel = 'A5'\n",
    "            self.width_actuel = 200 / 2 / 2 / 2 / 2 / 2\n",
    "\n",
    "printer = generic_printer()\n",
    "printer.ChangeWidth('A4')\n",
    "print(printer.Format_Actuel, printer.width_actuel)        "
   ]
  },
  {
   "cell_type": "code",
   "execution_count": null,
   "id": "472edf0a",
   "metadata": {},
   "outputs": [],
   "source": [
    "fancy_printer=ColorPrinter(\"Blue printer\", color=\"blue\")"
   ]
  },
  {
   "cell_type": "code",
   "execution_count": null,
   "id": "57b04853",
   "metadata": {},
   "outputs": [
    {
     "name": "stdout",
     "output_type": "stream",
     "text": [
      "##################################################\n",
      "#  \u001b[;34mBeautiful is better than ugly. Explicit #\n",
      "#  is better than implicit. Simple is better     #\n",
      "#  than complex. Complex is better than          #\n",
      "#  complicated. Flat is better than nested.      #\n",
      "#  Sparse is better than dense. Readability      #\n",
      "#  counts. Special cases aren't special enough   #\n",
      "#  to break the rules. Although practicality     #\n",
      "#  beats purity. Errors should never pass        #\n",
      "#  silently. Unless explicitly silenced. In the  #\n",
      "#  face of ambiguity, refuse the temptation to   #\n",
      "#  guess. There should be one-- and preferably   #\n",
      "#  only one --obvious way to do it. Although     #\n",
      "#  that way may not be obvious at first unless   #\n",
      "#  you're Dutch. Now is better than never.       #\n",
      "#  Although never is often better than *right*   #\n",
      "#  now. If the implementation is hard to         #\n",
      "#  explain, it's a bad idea. If the              #\n",
      "#  implementation is easy to explain, it may be  #\n",
      "#  a good idea. Namespaces are one honking great #\n",
      "#  idea -- let's do more of those!\u001b[0m           #\n",
      "##################################################\n"
     ]
    }
   ],
   "source": [
    "fancy_printer.send(zen)"
   ]
  },
  {
   "cell_type": "markdown",
   "id": "9e0fbf8d",
   "metadata": {},
   "source": [
    "On peut voir qu'il y aurait un certain nombre d'accions à effectuer pour que le \"driver\" d'impression soit correct."
   ]
  },
  {
   "cell_type": "markdown",
   "id": "e2778797",
   "metadata": {},
   "source": [
    "## Un programme fonctionnel"
   ]
  },
  {
   "cell_type": "markdown",
   "id": "09703d72",
   "metadata": {},
   "source": [
    "<div class=\"alert alert-info\" role=\"alert\">\n",
    "    <b> Exercice : </b> Ecrire une ou des fonction <code>print_dirtree</code> qui prend en argument une chemin vers un dossier et imprime de manière récursive l'arborescence. Indice : <code>os.[listdir, isdir, walk]</code> ou <code>pathlib.Path</code> (la version moderne de <code>os</code>. <code>yield</code> et/ou <code>itertools</code> peut aussi s'avérer utile.\n",
    "<br> <br>\n",
    "<u>cahier des charges</u>:\n",
    "    <ol>\n",
    "        <li>traiter différement les fichiers et dossier <code>dir_only: bool</code></li>\n",
    "        <li>profondeur max <code>level: int</code></li>\n",
    "        <li>nombre max de ligne (pour évider de lister tout le système) <code>length_limit: bool=1000</code></li>\n",
    "    </ol>\n",
    "</div>\n",
    "Exemple\n",
    "\n",
    "```python\n",
    ">>> print_dirtree(\"foo/\")\n",
    "foo/\n",
    "├── a.txt\n",
    "├── b.txt\n",
    "├── bar/\n",
    "│   ├── p.txt\n",
    "│   └── q.txt\n",
    "└── c.txt\n",
    "```\n",
    "\n",
    "On utilisera les caractères spéciaux suivant pour l'affichage:\n",
    "```python\n",
    "space =  '    '\n",
    "branch = '│   '\n",
    "tee =    '├── '\n",
    "last =   '└── '\n",
    "```\n",
    "\n",
    "> **Bonus:** Ajouter du parsing au block `main` pour en faire un vrai programme."
   ]
  },
  {
   "cell_type": "markdown",
   "id": "5bea12cf",
   "metadata": {},
   "source": [
    "## Option 2 : Problème de géométrie"
   ]
  },
  {
   "cell_type": "markdown",
   "id": "98866db0",
   "metadata": {},
   "source": [
    "<div class=\"alert alert-info\" role=\"alert\">\n",
    "    <b> Exercice : </b> Créer une structure de classes qui permette de manipuler des objets \"linéaires\", c'est à dire des droites, des bipoints (vecteur $\\vec{AB}$) et des segments.\n",
    "    <br>\n",
    "    <br>\n",
    "    <u>Remarque:</u> Il est inutile de récréer un classe Point, une liste de coordonnées ou un <code>numpy.ndarray</code> seront suffisant. <br>\n",
    "    <br>\n",
    "    <u>Pour chacun des ses objets (quand c'est possible)</u>:\n",
    "    <ul>\n",
    "        <li> on souhaite pouvoir les initialiser par leur équation et des coordonnées de point, on pourra utiliser le décorateur de classe <code>@classmethod</code></li>\n",
    "        <li> on souhaite pouvoir savoir si un point appartient à une instance et </li>\n",
    "        <li> si deux de ces objets s'intersectent en utilisant une méthode/fonction commune, par exemple <code>intersect(Objet1: \"linéaire\", Objet2: \"linéaire\"): -> List(float)</code></li>\n",
    "        <li> on définira une méthode/fonction qui renvoie l'angle entre deux objets linéaires <code>angle(Objet1: \"linéaire\", Objet2: \"linéaire\"): -> float</code></li>\n",
    "        <li> on définira un opérateur de rotation sur nos objets linéaires <code>rotate(P: List(float), angle)</code></li>\n",
    "    </ul>\n",
    "    Pour les droites, quelque soit leur mode de définition, on pourra récupérer les représentations paramétriques, standard, et complète.<br>\n",
    "    On défini une surcharge de l'opérateur d'addition <code>__add__</code> entre deux vecteurs, ce qui nous donnera accés au symbole <code>+</code>\n",
    "    \n",
    "</div>\n",
    "Exemple d'utilisation\n",
    "\n",
    "```python\n",
    ">>> L1=line.vec_init([1,1],[1,0])\n",
    ">>> L2=line.points_init([0,0],[0,1])\n",
    ">>> print(L1)\n",
    "Line object with equation : 0.71x+-0.71y+-0.71=0 \n",
    "with vector:(-0.7071067811865475, -0.7071067811865475) and origin: [1, 0]\n",
    ">>> print(L2)\n",
    "Line object with equation : 1.00x+-0.00y+0.00=0 \n",
    "with vector:(-0.0, -1.0) and origin: [0, 0]\n",
    ">>> np.degrees(lines_angle(L1,L2))\n",
    "45.0\n",
    ">>> lines_intersect_point(L1,L2)\n",
    "[-0.0, -1.0]\n",
    ">>> rotate2d(np.pi,[-1,0])\n",
    "array([ 1.0000000e+00, -1.2246468e-16])\n",
    "```\n",
    "\n",
    "```python\n",
    "```"
   ]
  },
  {
   "cell_type": "markdown",
   "id": "d4dcc60c",
   "metadata": {},
   "source": [
    "## Bonus : Le même programme en orienté objet"
   ]
  },
  {
   "cell_type": "markdown",
   "id": "0ab67fd7",
   "metadata": {},
   "source": [
    "<div class=\"alert alert-info\" role=\"alert\">\n",
    "    <b> Exercice : </b> Ecrire un programme orienté objet qui possède la méthode <code>generate</code> qui prend en argument une chemin vers un dossier et imprime de manière récursive l'arborescence.\n",
    "    \n",
    "<br> <br>\n",
    "<u>cahier des charges</u>:\n",
    "    <ol>\n",
    "        <li>traiter différement les fichiers et dossier <code>dir_only: bool</code></li>\n",
    "        <li>profondeur max <code>level: int</code></li>\n",
    "        <li>nombre max de ligne (pour évider de lister tout le système) <code>length_limit: bool=1000</code></li>\n",
    "    </ol>\n",
    "</div>\n",
    "Exemple\n",
    "\n",
    "```python\n",
    ">>> print_dirtree(\"foo/\")\n",
    "foo/\n",
    "├── a.txt\n",
    "├── b.txt\n",
    "├── bar/\n",
    "│   ├── p.txt\n",
    "│   └── q.txt\n",
    "└── c.txt\n",
    "```\n",
    "\n",
    "On utilisera les caractères spéciaux suivant pour l'affichage:\n",
    "```python\n",
    "space =  '    '\n",
    "branch = '│   '\n",
    "tee =    '├── '\n",
    "last =   '└── '\n",
    "```"
   ]
  }
 ],
 "metadata": {
  "kernelspec": {
   "display_name": "Python 3.10.6 64-bit",
   "language": "python",
   "name": "python3"
  },
  "language_info": {
   "codemirror_mode": {
    "name": "ipython",
    "version": 3
   },
   "file_extension": ".py",
   "mimetype": "text/x-python",
   "name": "python",
   "nbconvert_exporter": "python",
   "pygments_lexer": "ipython3",
   "version": "3.10.6"
  },
  "toc": {
   "base_numbering": 1,
   "nav_menu": {},
   "number_sections": true,
   "sideBar": true,
   "skip_h1_title": true,
   "title_cell": "Table of Contents",
   "title_sidebar": "Contents",
   "toc_cell": false,
   "toc_position": {
    "height": "calc(100% - 180px)",
    "left": "10px",
    "top": "150px",
    "width": "384px"
   },
   "toc_section_display": true,
   "toc_window_display": false
  },
  "varInspector": {
   "cols": {
    "lenName": 16,
    "lenType": 16,
    "lenVar": 40
   },
   "kernels_config": {
    "python": {
     "delete_cmd_postfix": "",
     "delete_cmd_prefix": "del ",
     "library": "var_list.py",
     "varRefreshCmd": "print(var_dic_list())"
    },
    "r": {
     "delete_cmd_postfix": ") ",
     "delete_cmd_prefix": "rm(",
     "library": "var_list.r",
     "varRefreshCmd": "cat(var_dic_list()) "
    }
   },
   "types_to_exclude": [
    "module",
    "function",
    "builtin_function_or_method",
    "instance",
    "_Feature"
   ],
   "window_display": false
  },
  "vscode": {
   "interpreter": {
    "hash": "b0fa6594d8f4cbf19f97940f81e996739fb7646882a419484c72d19e05852a7e"
   }
  }
 },
 "nbformat": 4,
 "nbformat_minor": 5
}
